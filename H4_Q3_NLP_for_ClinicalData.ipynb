{
  "nbformat": 4,
  "nbformat_minor": 0,
  "metadata": {
    "colab": {
      "name": "Assignment_4_NLP_for_ClinicalData.ipynb",
      "provenance": [],
      "collapsed_sections": [],
      "include_colab_link": true
    },
    "kernelspec": {
      "name": "python3",
      "display_name": "Python 3"
    },
    "language_info": {
      "name": "python"
    },
    "accelerator": "GPU",
    "widgets": {
      "application/vnd.jupyter.widget-state+json": {
        "64e17e9fd8ce4ba1afdf1824bbdee2e4": {
          "model_module": "@jupyter-widgets/controls",
          "model_name": "HBoxModel",
          "model_module_version": "1.5.0",
          "state": {
            "_dom_classes": [],
            "_model_module": "@jupyter-widgets/controls",
            "_model_module_version": "1.5.0",
            "_model_name": "HBoxModel",
            "_view_count": null,
            "_view_module": "@jupyter-widgets/controls",
            "_view_module_version": "1.5.0",
            "_view_name": "HBoxView",
            "box_style": "",
            "children": [
              "IPY_MODEL_7d0b20a15c3042d088c41541ee188ad5",
              "IPY_MODEL_2f959cd22e824f16b028f28eb8fd5752",
              "IPY_MODEL_859358df426647dfb8c21038acad7f62"
            ],
            "layout": "IPY_MODEL_6e77422bf1cf494a8bc2717c80a17bac"
          }
        },
        "7d0b20a15c3042d088c41541ee188ad5": {
          "model_module": "@jupyter-widgets/controls",
          "model_name": "HTMLModel",
          "model_module_version": "1.5.0",
          "state": {
            "_dom_classes": [],
            "_model_module": "@jupyter-widgets/controls",
            "_model_module_version": "1.5.0",
            "_model_name": "HTMLModel",
            "_view_count": null,
            "_view_module": "@jupyter-widgets/controls",
            "_view_module_version": "1.5.0",
            "_view_name": "HTMLView",
            "description": "",
            "description_tooltip": null,
            "layout": "IPY_MODEL_4bc343427ffd41dcb182a7dd2339f50c",
            "placeholder": "​",
            "style": "IPY_MODEL_3decce0ef18d4dca8d7ed02719d46d0c",
            "value": "Downloading: 100%"
          }
        },
        "2f959cd22e824f16b028f28eb8fd5752": {
          "model_module": "@jupyter-widgets/controls",
          "model_name": "FloatProgressModel",
          "model_module_version": "1.5.0",
          "state": {
            "_dom_classes": [],
            "_model_module": "@jupyter-widgets/controls",
            "_model_module_version": "1.5.0",
            "_model_name": "FloatProgressModel",
            "_view_count": null,
            "_view_module": "@jupyter-widgets/controls",
            "_view_module_version": "1.5.0",
            "_view_name": "ProgressView",
            "bar_style": "success",
            "description": "",
            "description_tooltip": null,
            "layout": "IPY_MODEL_ed4d5a3f34c14f9e8b00c07613931d50",
            "max": 385,
            "min": 0,
            "orientation": "horizontal",
            "style": "IPY_MODEL_0d5b270bf90b4d499c7be02b0ca13647",
            "value": 385
          }
        },
        "859358df426647dfb8c21038acad7f62": {
          "model_module": "@jupyter-widgets/controls",
          "model_name": "HTMLModel",
          "model_module_version": "1.5.0",
          "state": {
            "_dom_classes": [],
            "_model_module": "@jupyter-widgets/controls",
            "_model_module_version": "1.5.0",
            "_model_name": "HTMLModel",
            "_view_count": null,
            "_view_module": "@jupyter-widgets/controls",
            "_view_module_version": "1.5.0",
            "_view_name": "HTMLView",
            "description": "",
            "description_tooltip": null,
            "layout": "IPY_MODEL_e2bd568820794ad79d14d541d76cd756",
            "placeholder": "​",
            "style": "IPY_MODEL_de48c0e068f948ee8dad6c7683dfd765",
            "value": " 385/385 [00:00&lt;00:00, 6.14kB/s]"
          }
        },
        "6e77422bf1cf494a8bc2717c80a17bac": {
          "model_module": "@jupyter-widgets/base",
          "model_name": "LayoutModel",
          "model_module_version": "1.2.0",
          "state": {
            "_model_module": "@jupyter-widgets/base",
            "_model_module_version": "1.2.0",
            "_model_name": "LayoutModel",
            "_view_count": null,
            "_view_module": "@jupyter-widgets/base",
            "_view_module_version": "1.2.0",
            "_view_name": "LayoutView",
            "align_content": null,
            "align_items": null,
            "align_self": null,
            "border": null,
            "bottom": null,
            "display": null,
            "flex": null,
            "flex_flow": null,
            "grid_area": null,
            "grid_auto_columns": null,
            "grid_auto_flow": null,
            "grid_auto_rows": null,
            "grid_column": null,
            "grid_gap": null,
            "grid_row": null,
            "grid_template_areas": null,
            "grid_template_columns": null,
            "grid_template_rows": null,
            "height": null,
            "justify_content": null,
            "justify_items": null,
            "left": null,
            "margin": null,
            "max_height": null,
            "max_width": null,
            "min_height": null,
            "min_width": null,
            "object_fit": null,
            "object_position": null,
            "order": null,
            "overflow": null,
            "overflow_x": null,
            "overflow_y": null,
            "padding": null,
            "right": null,
            "top": null,
            "visibility": null,
            "width": null
          }
        },
        "4bc343427ffd41dcb182a7dd2339f50c": {
          "model_module": "@jupyter-widgets/base",
          "model_name": "LayoutModel",
          "model_module_version": "1.2.0",
          "state": {
            "_model_module": "@jupyter-widgets/base",
            "_model_module_version": "1.2.0",
            "_model_name": "LayoutModel",
            "_view_count": null,
            "_view_module": "@jupyter-widgets/base",
            "_view_module_version": "1.2.0",
            "_view_name": "LayoutView",
            "align_content": null,
            "align_items": null,
            "align_self": null,
            "border": null,
            "bottom": null,
            "display": null,
            "flex": null,
            "flex_flow": null,
            "grid_area": null,
            "grid_auto_columns": null,
            "grid_auto_flow": null,
            "grid_auto_rows": null,
            "grid_column": null,
            "grid_gap": null,
            "grid_row": null,
            "grid_template_areas": null,
            "grid_template_columns": null,
            "grid_template_rows": null,
            "height": null,
            "justify_content": null,
            "justify_items": null,
            "left": null,
            "margin": null,
            "max_height": null,
            "max_width": null,
            "min_height": null,
            "min_width": null,
            "object_fit": null,
            "object_position": null,
            "order": null,
            "overflow": null,
            "overflow_x": null,
            "overflow_y": null,
            "padding": null,
            "right": null,
            "top": null,
            "visibility": null,
            "width": null
          }
        },
        "3decce0ef18d4dca8d7ed02719d46d0c": {
          "model_module": "@jupyter-widgets/controls",
          "model_name": "DescriptionStyleModel",
          "model_module_version": "1.5.0",
          "state": {
            "_model_module": "@jupyter-widgets/controls",
            "_model_module_version": "1.5.0",
            "_model_name": "DescriptionStyleModel",
            "_view_count": null,
            "_view_module": "@jupyter-widgets/base",
            "_view_module_version": "1.2.0",
            "_view_name": "StyleView",
            "description_width": ""
          }
        },
        "ed4d5a3f34c14f9e8b00c07613931d50": {
          "model_module": "@jupyter-widgets/base",
          "model_name": "LayoutModel",
          "model_module_version": "1.2.0",
          "state": {
            "_model_module": "@jupyter-widgets/base",
            "_model_module_version": "1.2.0",
            "_model_name": "LayoutModel",
            "_view_count": null,
            "_view_module": "@jupyter-widgets/base",
            "_view_module_version": "1.2.0",
            "_view_name": "LayoutView",
            "align_content": null,
            "align_items": null,
            "align_self": null,
            "border": null,
            "bottom": null,
            "display": null,
            "flex": null,
            "flex_flow": null,
            "grid_area": null,
            "grid_auto_columns": null,
            "grid_auto_flow": null,
            "grid_auto_rows": null,
            "grid_column": null,
            "grid_gap": null,
            "grid_row": null,
            "grid_template_areas": null,
            "grid_template_columns": null,
            "grid_template_rows": null,
            "height": null,
            "justify_content": null,
            "justify_items": null,
            "left": null,
            "margin": null,
            "max_height": null,
            "max_width": null,
            "min_height": null,
            "min_width": null,
            "object_fit": null,
            "object_position": null,
            "order": null,
            "overflow": null,
            "overflow_x": null,
            "overflow_y": null,
            "padding": null,
            "right": null,
            "top": null,
            "visibility": null,
            "width": null
          }
        },
        "0d5b270bf90b4d499c7be02b0ca13647": {
          "model_module": "@jupyter-widgets/controls",
          "model_name": "ProgressStyleModel",
          "model_module_version": "1.5.0",
          "state": {
            "_model_module": "@jupyter-widgets/controls",
            "_model_module_version": "1.5.0",
            "_model_name": "ProgressStyleModel",
            "_view_count": null,
            "_view_module": "@jupyter-widgets/base",
            "_view_module_version": "1.2.0",
            "_view_name": "StyleView",
            "bar_color": null,
            "description_width": ""
          }
        },
        "e2bd568820794ad79d14d541d76cd756": {
          "model_module": "@jupyter-widgets/base",
          "model_name": "LayoutModel",
          "model_module_version": "1.2.0",
          "state": {
            "_model_module": "@jupyter-widgets/base",
            "_model_module_version": "1.2.0",
            "_model_name": "LayoutModel",
            "_view_count": null,
            "_view_module": "@jupyter-widgets/base",
            "_view_module_version": "1.2.0",
            "_view_name": "LayoutView",
            "align_content": null,
            "align_items": null,
            "align_self": null,
            "border": null,
            "bottom": null,
            "display": null,
            "flex": null,
            "flex_flow": null,
            "grid_area": null,
            "grid_auto_columns": null,
            "grid_auto_flow": null,
            "grid_auto_rows": null,
            "grid_column": null,
            "grid_gap": null,
            "grid_row": null,
            "grid_template_areas": null,
            "grid_template_columns": null,
            "grid_template_rows": null,
            "height": null,
            "justify_content": null,
            "justify_items": null,
            "left": null,
            "margin": null,
            "max_height": null,
            "max_width": null,
            "min_height": null,
            "min_width": null,
            "object_fit": null,
            "object_position": null,
            "order": null,
            "overflow": null,
            "overflow_x": null,
            "overflow_y": null,
            "padding": null,
            "right": null,
            "top": null,
            "visibility": null,
            "width": null
          }
        },
        "de48c0e068f948ee8dad6c7683dfd765": {
          "model_module": "@jupyter-widgets/controls",
          "model_name": "DescriptionStyleModel",
          "model_module_version": "1.5.0",
          "state": {
            "_model_module": "@jupyter-widgets/controls",
            "_model_module_version": "1.5.0",
            "_model_name": "DescriptionStyleModel",
            "_view_count": null,
            "_view_module": "@jupyter-widgets/base",
            "_view_module_version": "1.2.0",
            "_view_name": "StyleView",
            "description_width": ""
          }
        },
        "537b9856e2534773bee92709979cff8c": {
          "model_module": "@jupyter-widgets/controls",
          "model_name": "HBoxModel",
          "model_module_version": "1.5.0",
          "state": {
            "_dom_classes": [],
            "_model_module": "@jupyter-widgets/controls",
            "_model_module_version": "1.5.0",
            "_model_name": "HBoxModel",
            "_view_count": null,
            "_view_module": "@jupyter-widgets/controls",
            "_view_module_version": "1.5.0",
            "_view_name": "HBoxView",
            "box_style": "",
            "children": [
              "IPY_MODEL_67956dc00a5c4975a2fe6ce6438a79e0",
              "IPY_MODEL_bde1cfe662174adebd68bec544936f96",
              "IPY_MODEL_fd1078fe3e644273b668be05889d5b1e"
            ],
            "layout": "IPY_MODEL_4a06c828fa8a4d1183634c3ef2744776"
          }
        },
        "67956dc00a5c4975a2fe6ce6438a79e0": {
          "model_module": "@jupyter-widgets/controls",
          "model_name": "HTMLModel",
          "model_module_version": "1.5.0",
          "state": {
            "_dom_classes": [],
            "_model_module": "@jupyter-widgets/controls",
            "_model_module_version": "1.5.0",
            "_model_name": "HTMLModel",
            "_view_count": null,
            "_view_module": "@jupyter-widgets/controls",
            "_view_module_version": "1.5.0",
            "_view_name": "HTMLView",
            "description": "",
            "description_tooltip": null,
            "layout": "IPY_MODEL_e6873953906541b2b409963eaf29be97",
            "placeholder": "​",
            "style": "IPY_MODEL_e31826e7943b4c6284145201c4fb9ba3",
            "value": "Downloading: 100%"
          }
        },
        "bde1cfe662174adebd68bec544936f96": {
          "model_module": "@jupyter-widgets/controls",
          "model_name": "FloatProgressModel",
          "model_module_version": "1.5.0",
          "state": {
            "_dom_classes": [],
            "_model_module": "@jupyter-widgets/controls",
            "_model_module_version": "1.5.0",
            "_model_name": "FloatProgressModel",
            "_view_count": null,
            "_view_module": "@jupyter-widgets/controls",
            "_view_module_version": "1.5.0",
            "_view_name": "ProgressView",
            "bar_style": "success",
            "description": "",
            "description_tooltip": null,
            "layout": "IPY_MODEL_01b1edc6206d4d15a2774d8f743ea6da",
            "max": 213450,
            "min": 0,
            "orientation": "horizontal",
            "style": "IPY_MODEL_8f882da6b68343bcb17a0c3794be2864",
            "value": 213450
          }
        },
        "fd1078fe3e644273b668be05889d5b1e": {
          "model_module": "@jupyter-widgets/controls",
          "model_name": "HTMLModel",
          "model_module_version": "1.5.0",
          "state": {
            "_dom_classes": [],
            "_model_module": "@jupyter-widgets/controls",
            "_model_module_version": "1.5.0",
            "_model_name": "HTMLModel",
            "_view_count": null,
            "_view_module": "@jupyter-widgets/controls",
            "_view_module_version": "1.5.0",
            "_view_name": "HTMLView",
            "description": "",
            "description_tooltip": null,
            "layout": "IPY_MODEL_ff2bb0a4f169479fa2cac68bf7bdc651",
            "placeholder": "​",
            "style": "IPY_MODEL_d3013f513b004fda9c38fd072ba07e54",
            "value": " 208k/208k [00:00&lt;00:00, 290kB/s]"
          }
        },
        "4a06c828fa8a4d1183634c3ef2744776": {
          "model_module": "@jupyter-widgets/base",
          "model_name": "LayoutModel",
          "model_module_version": "1.2.0",
          "state": {
            "_model_module": "@jupyter-widgets/base",
            "_model_module_version": "1.2.0",
            "_model_name": "LayoutModel",
            "_view_count": null,
            "_view_module": "@jupyter-widgets/base",
            "_view_module_version": "1.2.0",
            "_view_name": "LayoutView",
            "align_content": null,
            "align_items": null,
            "align_self": null,
            "border": null,
            "bottom": null,
            "display": null,
            "flex": null,
            "flex_flow": null,
            "grid_area": null,
            "grid_auto_columns": null,
            "grid_auto_flow": null,
            "grid_auto_rows": null,
            "grid_column": null,
            "grid_gap": null,
            "grid_row": null,
            "grid_template_areas": null,
            "grid_template_columns": null,
            "grid_template_rows": null,
            "height": null,
            "justify_content": null,
            "justify_items": null,
            "left": null,
            "margin": null,
            "max_height": null,
            "max_width": null,
            "min_height": null,
            "min_width": null,
            "object_fit": null,
            "object_position": null,
            "order": null,
            "overflow": null,
            "overflow_x": null,
            "overflow_y": null,
            "padding": null,
            "right": null,
            "top": null,
            "visibility": null,
            "width": null
          }
        },
        "e6873953906541b2b409963eaf29be97": {
          "model_module": "@jupyter-widgets/base",
          "model_name": "LayoutModel",
          "model_module_version": "1.2.0",
          "state": {
            "_model_module": "@jupyter-widgets/base",
            "_model_module_version": "1.2.0",
            "_model_name": "LayoutModel",
            "_view_count": null,
            "_view_module": "@jupyter-widgets/base",
            "_view_module_version": "1.2.0",
            "_view_name": "LayoutView",
            "align_content": null,
            "align_items": null,
            "align_self": null,
            "border": null,
            "bottom": null,
            "display": null,
            "flex": null,
            "flex_flow": null,
            "grid_area": null,
            "grid_auto_columns": null,
            "grid_auto_flow": null,
            "grid_auto_rows": null,
            "grid_column": null,
            "grid_gap": null,
            "grid_row": null,
            "grid_template_areas": null,
            "grid_template_columns": null,
            "grid_template_rows": null,
            "height": null,
            "justify_content": null,
            "justify_items": null,
            "left": null,
            "margin": null,
            "max_height": null,
            "max_width": null,
            "min_height": null,
            "min_width": null,
            "object_fit": null,
            "object_position": null,
            "order": null,
            "overflow": null,
            "overflow_x": null,
            "overflow_y": null,
            "padding": null,
            "right": null,
            "top": null,
            "visibility": null,
            "width": null
          }
        },
        "e31826e7943b4c6284145201c4fb9ba3": {
          "model_module": "@jupyter-widgets/controls",
          "model_name": "DescriptionStyleModel",
          "model_module_version": "1.5.0",
          "state": {
            "_model_module": "@jupyter-widgets/controls",
            "_model_module_version": "1.5.0",
            "_model_name": "DescriptionStyleModel",
            "_view_count": null,
            "_view_module": "@jupyter-widgets/base",
            "_view_module_version": "1.2.0",
            "_view_name": "StyleView",
            "description_width": ""
          }
        },
        "01b1edc6206d4d15a2774d8f743ea6da": {
          "model_module": "@jupyter-widgets/base",
          "model_name": "LayoutModel",
          "model_module_version": "1.2.0",
          "state": {
            "_model_module": "@jupyter-widgets/base",
            "_model_module_version": "1.2.0",
            "_model_name": "LayoutModel",
            "_view_count": null,
            "_view_module": "@jupyter-widgets/base",
            "_view_module_version": "1.2.0",
            "_view_name": "LayoutView",
            "align_content": null,
            "align_items": null,
            "align_self": null,
            "border": null,
            "bottom": null,
            "display": null,
            "flex": null,
            "flex_flow": null,
            "grid_area": null,
            "grid_auto_columns": null,
            "grid_auto_flow": null,
            "grid_auto_rows": null,
            "grid_column": null,
            "grid_gap": null,
            "grid_row": null,
            "grid_template_areas": null,
            "grid_template_columns": null,
            "grid_template_rows": null,
            "height": null,
            "justify_content": null,
            "justify_items": null,
            "left": null,
            "margin": null,
            "max_height": null,
            "max_width": null,
            "min_height": null,
            "min_width": null,
            "object_fit": null,
            "object_position": null,
            "order": null,
            "overflow": null,
            "overflow_x": null,
            "overflow_y": null,
            "padding": null,
            "right": null,
            "top": null,
            "visibility": null,
            "width": null
          }
        },
        "8f882da6b68343bcb17a0c3794be2864": {
          "model_module": "@jupyter-widgets/controls",
          "model_name": "ProgressStyleModel",
          "model_module_version": "1.5.0",
          "state": {
            "_model_module": "@jupyter-widgets/controls",
            "_model_module_version": "1.5.0",
            "_model_name": "ProgressStyleModel",
            "_view_count": null,
            "_view_module": "@jupyter-widgets/base",
            "_view_module_version": "1.2.0",
            "_view_name": "StyleView",
            "bar_color": null,
            "description_width": ""
          }
        },
        "ff2bb0a4f169479fa2cac68bf7bdc651": {
          "model_module": "@jupyter-widgets/base",
          "model_name": "LayoutModel",
          "model_module_version": "1.2.0",
          "state": {
            "_model_module": "@jupyter-widgets/base",
            "_model_module_version": "1.2.0",
            "_model_name": "LayoutModel",
            "_view_count": null,
            "_view_module": "@jupyter-widgets/base",
            "_view_module_version": "1.2.0",
            "_view_name": "LayoutView",
            "align_content": null,
            "align_items": null,
            "align_self": null,
            "border": null,
            "bottom": null,
            "display": null,
            "flex": null,
            "flex_flow": null,
            "grid_area": null,
            "grid_auto_columns": null,
            "grid_auto_flow": null,
            "grid_auto_rows": null,
            "grid_column": null,
            "grid_gap": null,
            "grid_row": null,
            "grid_template_areas": null,
            "grid_template_columns": null,
            "grid_template_rows": null,
            "height": null,
            "justify_content": null,
            "justify_items": null,
            "left": null,
            "margin": null,
            "max_height": null,
            "max_width": null,
            "min_height": null,
            "min_width": null,
            "object_fit": null,
            "object_position": null,
            "order": null,
            "overflow": null,
            "overflow_x": null,
            "overflow_y": null,
            "padding": null,
            "right": null,
            "top": null,
            "visibility": null,
            "width": null
          }
        },
        "d3013f513b004fda9c38fd072ba07e54": {
          "model_module": "@jupyter-widgets/controls",
          "model_name": "DescriptionStyleModel",
          "model_module_version": "1.5.0",
          "state": {
            "_model_module": "@jupyter-widgets/controls",
            "_model_module_version": "1.5.0",
            "_model_name": "DescriptionStyleModel",
            "_view_count": null,
            "_view_module": "@jupyter-widgets/base",
            "_view_module_version": "1.2.0",
            "_view_name": "StyleView",
            "description_width": ""
          }
        },
        "d6b955e6f27641fc8b710105cf9c9387": {
          "model_module": "@jupyter-widgets/controls",
          "model_name": "HBoxModel",
          "model_module_version": "1.5.0",
          "state": {
            "_dom_classes": [],
            "_model_module": "@jupyter-widgets/controls",
            "_model_module_version": "1.5.0",
            "_model_name": "HBoxModel",
            "_view_count": null,
            "_view_module": "@jupyter-widgets/controls",
            "_view_module_version": "1.5.0",
            "_view_name": "HBoxView",
            "box_style": "",
            "children": [
              "IPY_MODEL_26c7f28083c14487b361523774ad2eb5",
              "IPY_MODEL_16e324106e6f42739bd26689dee92dff",
              "IPY_MODEL_a1463792d75d46e78d4f6477c1c26ca3"
            ],
            "layout": "IPY_MODEL_2d846c064e304f40b220c854ee51b51a"
          }
        },
        "26c7f28083c14487b361523774ad2eb5": {
          "model_module": "@jupyter-widgets/controls",
          "model_name": "HTMLModel",
          "model_module_version": "1.5.0",
          "state": {
            "_dom_classes": [],
            "_model_module": "@jupyter-widgets/controls",
            "_model_module_version": "1.5.0",
            "_model_name": "HTMLModel",
            "_view_count": null,
            "_view_module": "@jupyter-widgets/controls",
            "_view_module_version": "1.5.0",
            "_view_name": "HTMLView",
            "description": "",
            "description_tooltip": null,
            "layout": "IPY_MODEL_e790e591cfd7400e99bc1ea1cd084f71",
            "placeholder": "​",
            "style": "IPY_MODEL_cf77b4c8581f49dd8d87814eacb5e478",
            "value": "Downloading: 100%"
          }
        },
        "16e324106e6f42739bd26689dee92dff": {
          "model_module": "@jupyter-widgets/controls",
          "model_name": "FloatProgressModel",
          "model_module_version": "1.5.0",
          "state": {
            "_dom_classes": [],
            "_model_module": "@jupyter-widgets/controls",
            "_model_module_version": "1.5.0",
            "_model_name": "FloatProgressModel",
            "_view_count": null,
            "_view_module": "@jupyter-widgets/controls",
            "_view_module_version": "1.5.0",
            "_view_name": "ProgressView",
            "bar_style": "success",
            "description": "",
            "description_tooltip": null,
            "layout": "IPY_MODEL_014f9530dc734fd3930c9539f0bbfea1",
            "max": 385,
            "min": 0,
            "orientation": "horizontal",
            "style": "IPY_MODEL_041dbe8a32bd4a0a9534fab59b018749",
            "value": 385
          }
        },
        "a1463792d75d46e78d4f6477c1c26ca3": {
          "model_module": "@jupyter-widgets/controls",
          "model_name": "HTMLModel",
          "model_module_version": "1.5.0",
          "state": {
            "_dom_classes": [],
            "_model_module": "@jupyter-widgets/controls",
            "_model_module_version": "1.5.0",
            "_model_name": "HTMLModel",
            "_view_count": null,
            "_view_module": "@jupyter-widgets/controls",
            "_view_module_version": "1.5.0",
            "_view_name": "HTMLView",
            "description": "",
            "description_tooltip": null,
            "layout": "IPY_MODEL_aca564b184a146caa7eaa691a5b7a733",
            "placeholder": "​",
            "style": "IPY_MODEL_e7d041f94b6b43d0b1eee6e8830d3e90",
            "value": " 385/385 [00:00&lt;00:00, 5.95kB/s]"
          }
        },
        "2d846c064e304f40b220c854ee51b51a": {
          "model_module": "@jupyter-widgets/base",
          "model_name": "LayoutModel",
          "model_module_version": "1.2.0",
          "state": {
            "_model_module": "@jupyter-widgets/base",
            "_model_module_version": "1.2.0",
            "_model_name": "LayoutModel",
            "_view_count": null,
            "_view_module": "@jupyter-widgets/base",
            "_view_module_version": "1.2.0",
            "_view_name": "LayoutView",
            "align_content": null,
            "align_items": null,
            "align_self": null,
            "border": null,
            "bottom": null,
            "display": null,
            "flex": null,
            "flex_flow": null,
            "grid_area": null,
            "grid_auto_columns": null,
            "grid_auto_flow": null,
            "grid_auto_rows": null,
            "grid_column": null,
            "grid_gap": null,
            "grid_row": null,
            "grid_template_areas": null,
            "grid_template_columns": null,
            "grid_template_rows": null,
            "height": null,
            "justify_content": null,
            "justify_items": null,
            "left": null,
            "margin": null,
            "max_height": null,
            "max_width": null,
            "min_height": null,
            "min_width": null,
            "object_fit": null,
            "object_position": null,
            "order": null,
            "overflow": null,
            "overflow_x": null,
            "overflow_y": null,
            "padding": null,
            "right": null,
            "top": null,
            "visibility": null,
            "width": null
          }
        },
        "e790e591cfd7400e99bc1ea1cd084f71": {
          "model_module": "@jupyter-widgets/base",
          "model_name": "LayoutModel",
          "model_module_version": "1.2.0",
          "state": {
            "_model_module": "@jupyter-widgets/base",
            "_model_module_version": "1.2.0",
            "_model_name": "LayoutModel",
            "_view_count": null,
            "_view_module": "@jupyter-widgets/base",
            "_view_module_version": "1.2.0",
            "_view_name": "LayoutView",
            "align_content": null,
            "align_items": null,
            "align_self": null,
            "border": null,
            "bottom": null,
            "display": null,
            "flex": null,
            "flex_flow": null,
            "grid_area": null,
            "grid_auto_columns": null,
            "grid_auto_flow": null,
            "grid_auto_rows": null,
            "grid_column": null,
            "grid_gap": null,
            "grid_row": null,
            "grid_template_areas": null,
            "grid_template_columns": null,
            "grid_template_rows": null,
            "height": null,
            "justify_content": null,
            "justify_items": null,
            "left": null,
            "margin": null,
            "max_height": null,
            "max_width": null,
            "min_height": null,
            "min_width": null,
            "object_fit": null,
            "object_position": null,
            "order": null,
            "overflow": null,
            "overflow_x": null,
            "overflow_y": null,
            "padding": null,
            "right": null,
            "top": null,
            "visibility": null,
            "width": null
          }
        },
        "cf77b4c8581f49dd8d87814eacb5e478": {
          "model_module": "@jupyter-widgets/controls",
          "model_name": "DescriptionStyleModel",
          "model_module_version": "1.5.0",
          "state": {
            "_model_module": "@jupyter-widgets/controls",
            "_model_module_version": "1.5.0",
            "_model_name": "DescriptionStyleModel",
            "_view_count": null,
            "_view_module": "@jupyter-widgets/base",
            "_view_module_version": "1.2.0",
            "_view_name": "StyleView",
            "description_width": ""
          }
        },
        "014f9530dc734fd3930c9539f0bbfea1": {
          "model_module": "@jupyter-widgets/base",
          "model_name": "LayoutModel",
          "model_module_version": "1.2.0",
          "state": {
            "_model_module": "@jupyter-widgets/base",
            "_model_module_version": "1.2.0",
            "_model_name": "LayoutModel",
            "_view_count": null,
            "_view_module": "@jupyter-widgets/base",
            "_view_module_version": "1.2.0",
            "_view_name": "LayoutView",
            "align_content": null,
            "align_items": null,
            "align_self": null,
            "border": null,
            "bottom": null,
            "display": null,
            "flex": null,
            "flex_flow": null,
            "grid_area": null,
            "grid_auto_columns": null,
            "grid_auto_flow": null,
            "grid_auto_rows": null,
            "grid_column": null,
            "grid_gap": null,
            "grid_row": null,
            "grid_template_areas": null,
            "grid_template_columns": null,
            "grid_template_rows": null,
            "height": null,
            "justify_content": null,
            "justify_items": null,
            "left": null,
            "margin": null,
            "max_height": null,
            "max_width": null,
            "min_height": null,
            "min_width": null,
            "object_fit": null,
            "object_position": null,
            "order": null,
            "overflow": null,
            "overflow_x": null,
            "overflow_y": null,
            "padding": null,
            "right": null,
            "top": null,
            "visibility": null,
            "width": null
          }
        },
        "041dbe8a32bd4a0a9534fab59b018749": {
          "model_module": "@jupyter-widgets/controls",
          "model_name": "ProgressStyleModel",
          "model_module_version": "1.5.0",
          "state": {
            "_model_module": "@jupyter-widgets/controls",
            "_model_module_version": "1.5.0",
            "_model_name": "ProgressStyleModel",
            "_view_count": null,
            "_view_module": "@jupyter-widgets/base",
            "_view_module_version": "1.2.0",
            "_view_name": "StyleView",
            "bar_color": null,
            "description_width": ""
          }
        },
        "aca564b184a146caa7eaa691a5b7a733": {
          "model_module": "@jupyter-widgets/base",
          "model_name": "LayoutModel",
          "model_module_version": "1.2.0",
          "state": {
            "_model_module": "@jupyter-widgets/base",
            "_model_module_version": "1.2.0",
            "_model_name": "LayoutModel",
            "_view_count": null,
            "_view_module": "@jupyter-widgets/base",
            "_view_module_version": "1.2.0",
            "_view_name": "LayoutView",
            "align_content": null,
            "align_items": null,
            "align_self": null,
            "border": null,
            "bottom": null,
            "display": null,
            "flex": null,
            "flex_flow": null,
            "grid_area": null,
            "grid_auto_columns": null,
            "grid_auto_flow": null,
            "grid_auto_rows": null,
            "grid_column": null,
            "grid_gap": null,
            "grid_row": null,
            "grid_template_areas": null,
            "grid_template_columns": null,
            "grid_template_rows": null,
            "height": null,
            "justify_content": null,
            "justify_items": null,
            "left": null,
            "margin": null,
            "max_height": null,
            "max_width": null,
            "min_height": null,
            "min_width": null,
            "object_fit": null,
            "object_position": null,
            "order": null,
            "overflow": null,
            "overflow_x": null,
            "overflow_y": null,
            "padding": null,
            "right": null,
            "top": null,
            "visibility": null,
            "width": null
          }
        },
        "e7d041f94b6b43d0b1eee6e8830d3e90": {
          "model_module": "@jupyter-widgets/controls",
          "model_name": "DescriptionStyleModel",
          "model_module_version": "1.5.0",
          "state": {
            "_model_module": "@jupyter-widgets/controls",
            "_model_module_version": "1.5.0",
            "_model_name": "DescriptionStyleModel",
            "_view_count": null,
            "_view_module": "@jupyter-widgets/base",
            "_view_module_version": "1.2.0",
            "_view_name": "StyleView",
            "description_width": ""
          }
        },
        "94d44d6346ea4cf9aea84c5506f57107": {
          "model_module": "@jupyter-widgets/controls",
          "model_name": "HBoxModel",
          "model_module_version": "1.5.0",
          "state": {
            "_dom_classes": [],
            "_model_module": "@jupyter-widgets/controls",
            "_model_module_version": "1.5.0",
            "_model_name": "HBoxModel",
            "_view_count": null,
            "_view_module": "@jupyter-widgets/controls",
            "_view_module_version": "1.5.0",
            "_view_name": "HBoxView",
            "box_style": "",
            "children": [
              "IPY_MODEL_7eab7f9cf1ce4c9c9918912719f8312c",
              "IPY_MODEL_6a4be72db2fd459daeff3d07bcf652b8",
              "IPY_MODEL_4fbd6705e3604320a874226c1f78a313"
            ],
            "layout": "IPY_MODEL_430565b083ee4e4c9bdba4670b8d0e36"
          }
        },
        "7eab7f9cf1ce4c9c9918912719f8312c": {
          "model_module": "@jupyter-widgets/controls",
          "model_name": "HTMLModel",
          "model_module_version": "1.5.0",
          "state": {
            "_dom_classes": [],
            "_model_module": "@jupyter-widgets/controls",
            "_model_module_version": "1.5.0",
            "_model_name": "HTMLModel",
            "_view_count": null,
            "_view_module": "@jupyter-widgets/controls",
            "_view_module_version": "1.5.0",
            "_view_name": "HTMLView",
            "description": "",
            "description_tooltip": null,
            "layout": "IPY_MODEL_c2e6f8f17180453b948222422afe55a0",
            "placeholder": "​",
            "style": "IPY_MODEL_94195053c1614721a5aed07f42a66c01",
            "value": "Downloading: 100%"
          }
        },
        "6a4be72db2fd459daeff3d07bcf652b8": {
          "model_module": "@jupyter-widgets/controls",
          "model_name": "FloatProgressModel",
          "model_module_version": "1.5.0",
          "state": {
            "_dom_classes": [],
            "_model_module": "@jupyter-widgets/controls",
            "_model_module_version": "1.5.0",
            "_model_name": "FloatProgressModel",
            "_view_count": null,
            "_view_module": "@jupyter-widgets/controls",
            "_view_module_version": "1.5.0",
            "_view_name": "ProgressView",
            "bar_style": "success",
            "description": "",
            "description_tooltip": null,
            "layout": "IPY_MODEL_29dac0274a254a44b06719c102558983",
            "max": 227845,
            "min": 0,
            "orientation": "horizontal",
            "style": "IPY_MODEL_14ed735c2c844b81bd614c251182577c",
            "value": 227845
          }
        },
        "4fbd6705e3604320a874226c1f78a313": {
          "model_module": "@jupyter-widgets/controls",
          "model_name": "HTMLModel",
          "model_module_version": "1.5.0",
          "state": {
            "_dom_classes": [],
            "_model_module": "@jupyter-widgets/controls",
            "_model_module_version": "1.5.0",
            "_model_name": "HTMLModel",
            "_view_count": null,
            "_view_module": "@jupyter-widgets/controls",
            "_view_module_version": "1.5.0",
            "_view_name": "HTMLView",
            "description": "",
            "description_tooltip": null,
            "layout": "IPY_MODEL_5f01b72d8d23471cad08514d5850a920",
            "placeholder": "​",
            "style": "IPY_MODEL_568a754343ca4fa6b533049225752e03",
            "value": " 223k/223k [00:00&lt;00:00, 329kB/s]"
          }
        },
        "430565b083ee4e4c9bdba4670b8d0e36": {
          "model_module": "@jupyter-widgets/base",
          "model_name": "LayoutModel",
          "model_module_version": "1.2.0",
          "state": {
            "_model_module": "@jupyter-widgets/base",
            "_model_module_version": "1.2.0",
            "_model_name": "LayoutModel",
            "_view_count": null,
            "_view_module": "@jupyter-widgets/base",
            "_view_module_version": "1.2.0",
            "_view_name": "LayoutView",
            "align_content": null,
            "align_items": null,
            "align_self": null,
            "border": null,
            "bottom": null,
            "display": null,
            "flex": null,
            "flex_flow": null,
            "grid_area": null,
            "grid_auto_columns": null,
            "grid_auto_flow": null,
            "grid_auto_rows": null,
            "grid_column": null,
            "grid_gap": null,
            "grid_row": null,
            "grid_template_areas": null,
            "grid_template_columns": null,
            "grid_template_rows": null,
            "height": null,
            "justify_content": null,
            "justify_items": null,
            "left": null,
            "margin": null,
            "max_height": null,
            "max_width": null,
            "min_height": null,
            "min_width": null,
            "object_fit": null,
            "object_position": null,
            "order": null,
            "overflow": null,
            "overflow_x": null,
            "overflow_y": null,
            "padding": null,
            "right": null,
            "top": null,
            "visibility": null,
            "width": null
          }
        },
        "c2e6f8f17180453b948222422afe55a0": {
          "model_module": "@jupyter-widgets/base",
          "model_name": "LayoutModel",
          "model_module_version": "1.2.0",
          "state": {
            "_model_module": "@jupyter-widgets/base",
            "_model_module_version": "1.2.0",
            "_model_name": "LayoutModel",
            "_view_count": null,
            "_view_module": "@jupyter-widgets/base",
            "_view_module_version": "1.2.0",
            "_view_name": "LayoutView",
            "align_content": null,
            "align_items": null,
            "align_self": null,
            "border": null,
            "bottom": null,
            "display": null,
            "flex": null,
            "flex_flow": null,
            "grid_area": null,
            "grid_auto_columns": null,
            "grid_auto_flow": null,
            "grid_auto_rows": null,
            "grid_column": null,
            "grid_gap": null,
            "grid_row": null,
            "grid_template_areas": null,
            "grid_template_columns": null,
            "grid_template_rows": null,
            "height": null,
            "justify_content": null,
            "justify_items": null,
            "left": null,
            "margin": null,
            "max_height": null,
            "max_width": null,
            "min_height": null,
            "min_width": null,
            "object_fit": null,
            "object_position": null,
            "order": null,
            "overflow": null,
            "overflow_x": null,
            "overflow_y": null,
            "padding": null,
            "right": null,
            "top": null,
            "visibility": null,
            "width": null
          }
        },
        "94195053c1614721a5aed07f42a66c01": {
          "model_module": "@jupyter-widgets/controls",
          "model_name": "DescriptionStyleModel",
          "model_module_version": "1.5.0",
          "state": {
            "_model_module": "@jupyter-widgets/controls",
            "_model_module_version": "1.5.0",
            "_model_name": "DescriptionStyleModel",
            "_view_count": null,
            "_view_module": "@jupyter-widgets/base",
            "_view_module_version": "1.2.0",
            "_view_name": "StyleView",
            "description_width": ""
          }
        },
        "29dac0274a254a44b06719c102558983": {
          "model_module": "@jupyter-widgets/base",
          "model_name": "LayoutModel",
          "model_module_version": "1.2.0",
          "state": {
            "_model_module": "@jupyter-widgets/base",
            "_model_module_version": "1.2.0",
            "_model_name": "LayoutModel",
            "_view_count": null,
            "_view_module": "@jupyter-widgets/base",
            "_view_module_version": "1.2.0",
            "_view_name": "LayoutView",
            "align_content": null,
            "align_items": null,
            "align_self": null,
            "border": null,
            "bottom": null,
            "display": null,
            "flex": null,
            "flex_flow": null,
            "grid_area": null,
            "grid_auto_columns": null,
            "grid_auto_flow": null,
            "grid_auto_rows": null,
            "grid_column": null,
            "grid_gap": null,
            "grid_row": null,
            "grid_template_areas": null,
            "grid_template_columns": null,
            "grid_template_rows": null,
            "height": null,
            "justify_content": null,
            "justify_items": null,
            "left": null,
            "margin": null,
            "max_height": null,
            "max_width": null,
            "min_height": null,
            "min_width": null,
            "object_fit": null,
            "object_position": null,
            "order": null,
            "overflow": null,
            "overflow_x": null,
            "overflow_y": null,
            "padding": null,
            "right": null,
            "top": null,
            "visibility": null,
            "width": null
          }
        },
        "14ed735c2c844b81bd614c251182577c": {
          "model_module": "@jupyter-widgets/controls",
          "model_name": "ProgressStyleModel",
          "model_module_version": "1.5.0",
          "state": {
            "_model_module": "@jupyter-widgets/controls",
            "_model_module_version": "1.5.0",
            "_model_name": "ProgressStyleModel",
            "_view_count": null,
            "_view_module": "@jupyter-widgets/base",
            "_view_module_version": "1.2.0",
            "_view_name": "StyleView",
            "bar_color": null,
            "description_width": ""
          }
        },
        "5f01b72d8d23471cad08514d5850a920": {
          "model_module": "@jupyter-widgets/base",
          "model_name": "LayoutModel",
          "model_module_version": "1.2.0",
          "state": {
            "_model_module": "@jupyter-widgets/base",
            "_model_module_version": "1.2.0",
            "_model_name": "LayoutModel",
            "_view_count": null,
            "_view_module": "@jupyter-widgets/base",
            "_view_module_version": "1.2.0",
            "_view_name": "LayoutView",
            "align_content": null,
            "align_items": null,
            "align_self": null,
            "border": null,
            "bottom": null,
            "display": null,
            "flex": null,
            "flex_flow": null,
            "grid_area": null,
            "grid_auto_columns": null,
            "grid_auto_flow": null,
            "grid_auto_rows": null,
            "grid_column": null,
            "grid_gap": null,
            "grid_row": null,
            "grid_template_areas": null,
            "grid_template_columns": null,
            "grid_template_rows": null,
            "height": null,
            "justify_content": null,
            "justify_items": null,
            "left": null,
            "margin": null,
            "max_height": null,
            "max_width": null,
            "min_height": null,
            "min_width": null,
            "object_fit": null,
            "object_position": null,
            "order": null,
            "overflow": null,
            "overflow_x": null,
            "overflow_y": null,
            "padding": null,
            "right": null,
            "top": null,
            "visibility": null,
            "width": null
          }
        },
        "568a754343ca4fa6b533049225752e03": {
          "model_module": "@jupyter-widgets/controls",
          "model_name": "DescriptionStyleModel",
          "model_module_version": "1.5.0",
          "state": {
            "_model_module": "@jupyter-widgets/controls",
            "_model_module_version": "1.5.0",
            "_model_name": "DescriptionStyleModel",
            "_view_count": null,
            "_view_module": "@jupyter-widgets/base",
            "_view_module_version": "1.2.0",
            "_view_name": "StyleView",
            "description_width": ""
          }
        },
        "cccdca27c2dc46a893c8ea32afe35993": {
          "model_module": "@jupyter-widgets/controls",
          "model_name": "HBoxModel",
          "model_module_version": "1.5.0",
          "state": {
            "_dom_classes": [],
            "_model_module": "@jupyter-widgets/controls",
            "_model_module_version": "1.5.0",
            "_model_name": "HBoxModel",
            "_view_count": null,
            "_view_module": "@jupyter-widgets/controls",
            "_view_module_version": "1.5.0",
            "_view_name": "HBoxView",
            "box_style": "",
            "children": [
              "IPY_MODEL_5c865097af14414289b8cbba1a484ab6",
              "IPY_MODEL_fd3663386e844660b2ef689e59d90e69",
              "IPY_MODEL_93bdfcc5bcd34a298f5a7451a8a77838"
            ],
            "layout": "IPY_MODEL_8a7273d466984d758a4905e3ff0b2a06"
          }
        },
        "5c865097af14414289b8cbba1a484ab6": {
          "model_module": "@jupyter-widgets/controls",
          "model_name": "HTMLModel",
          "model_module_version": "1.5.0",
          "state": {
            "_dom_classes": [],
            "_model_module": "@jupyter-widgets/controls",
            "_model_module_version": "1.5.0",
            "_model_name": "HTMLModel",
            "_view_count": null,
            "_view_module": "@jupyter-widgets/controls",
            "_view_module_version": "1.5.0",
            "_view_name": "HTMLView",
            "description": "",
            "description_tooltip": null,
            "layout": "IPY_MODEL_9d9262b0646441e6a6974ac424cc0e2f",
            "placeholder": "​",
            "style": "IPY_MODEL_583bcc959c9346ad8c471aafe6a74598",
            "value": "Downloading: 100%"
          }
        },
        "fd3663386e844660b2ef689e59d90e69": {
          "model_module": "@jupyter-widgets/controls",
          "model_name": "FloatProgressModel",
          "model_module_version": "1.5.0",
          "state": {
            "_dom_classes": [],
            "_model_module": "@jupyter-widgets/controls",
            "_model_module_version": "1.5.0",
            "_model_name": "FloatProgressModel",
            "_view_count": null,
            "_view_module": "@jupyter-widgets/controls",
            "_view_module_version": "1.5.0",
            "_view_name": "ProgressView",
            "bar_style": "success",
            "description": "",
            "description_tooltip": null,
            "layout": "IPY_MODEL_80e45daef41d40328b15044fa937ee64",
            "max": 231508,
            "min": 0,
            "orientation": "horizontal",
            "style": "IPY_MODEL_aa562913e83f4179ae87dd6b2d0b2703",
            "value": 231508
          }
        },
        "93bdfcc5bcd34a298f5a7451a8a77838": {
          "model_module": "@jupyter-widgets/controls",
          "model_name": "HTMLModel",
          "model_module_version": "1.5.0",
          "state": {
            "_dom_classes": [],
            "_model_module": "@jupyter-widgets/controls",
            "_model_module_version": "1.5.0",
            "_model_name": "HTMLModel",
            "_view_count": null,
            "_view_module": "@jupyter-widgets/controls",
            "_view_module_version": "1.5.0",
            "_view_name": "HTMLView",
            "description": "",
            "description_tooltip": null,
            "layout": "IPY_MODEL_268763ba0b0a4a669325471966171886",
            "placeholder": "​",
            "style": "IPY_MODEL_4388ce967bd449ae9a682b925b24bcb6",
            "value": " 226k/226k [00:00&lt;00:00, 227kB/s]"
          }
        },
        "8a7273d466984d758a4905e3ff0b2a06": {
          "model_module": "@jupyter-widgets/base",
          "model_name": "LayoutModel",
          "model_module_version": "1.2.0",
          "state": {
            "_model_module": "@jupyter-widgets/base",
            "_model_module_version": "1.2.0",
            "_model_name": "LayoutModel",
            "_view_count": null,
            "_view_module": "@jupyter-widgets/base",
            "_view_module_version": "1.2.0",
            "_view_name": "LayoutView",
            "align_content": null,
            "align_items": null,
            "align_self": null,
            "border": null,
            "bottom": null,
            "display": null,
            "flex": null,
            "flex_flow": null,
            "grid_area": null,
            "grid_auto_columns": null,
            "grid_auto_flow": null,
            "grid_auto_rows": null,
            "grid_column": null,
            "grid_gap": null,
            "grid_row": null,
            "grid_template_areas": null,
            "grid_template_columns": null,
            "grid_template_rows": null,
            "height": null,
            "justify_content": null,
            "justify_items": null,
            "left": null,
            "margin": null,
            "max_height": null,
            "max_width": null,
            "min_height": null,
            "min_width": null,
            "object_fit": null,
            "object_position": null,
            "order": null,
            "overflow": null,
            "overflow_x": null,
            "overflow_y": null,
            "padding": null,
            "right": null,
            "top": null,
            "visibility": null,
            "width": null
          }
        },
        "9d9262b0646441e6a6974ac424cc0e2f": {
          "model_module": "@jupyter-widgets/base",
          "model_name": "LayoutModel",
          "model_module_version": "1.2.0",
          "state": {
            "_model_module": "@jupyter-widgets/base",
            "_model_module_version": "1.2.0",
            "_model_name": "LayoutModel",
            "_view_count": null,
            "_view_module": "@jupyter-widgets/base",
            "_view_module_version": "1.2.0",
            "_view_name": "LayoutView",
            "align_content": null,
            "align_items": null,
            "align_self": null,
            "border": null,
            "bottom": null,
            "display": null,
            "flex": null,
            "flex_flow": null,
            "grid_area": null,
            "grid_auto_columns": null,
            "grid_auto_flow": null,
            "grid_auto_rows": null,
            "grid_column": null,
            "grid_gap": null,
            "grid_row": null,
            "grid_template_areas": null,
            "grid_template_columns": null,
            "grid_template_rows": null,
            "height": null,
            "justify_content": null,
            "justify_items": null,
            "left": null,
            "margin": null,
            "max_height": null,
            "max_width": null,
            "min_height": null,
            "min_width": null,
            "object_fit": null,
            "object_position": null,
            "order": null,
            "overflow": null,
            "overflow_x": null,
            "overflow_y": null,
            "padding": null,
            "right": null,
            "top": null,
            "visibility": null,
            "width": null
          }
        },
        "583bcc959c9346ad8c471aafe6a74598": {
          "model_module": "@jupyter-widgets/controls",
          "model_name": "DescriptionStyleModel",
          "model_module_version": "1.5.0",
          "state": {
            "_model_module": "@jupyter-widgets/controls",
            "_model_module_version": "1.5.0",
            "_model_name": "DescriptionStyleModel",
            "_view_count": null,
            "_view_module": "@jupyter-widgets/base",
            "_view_module_version": "1.2.0",
            "_view_name": "StyleView",
            "description_width": ""
          }
        },
        "80e45daef41d40328b15044fa937ee64": {
          "model_module": "@jupyter-widgets/base",
          "model_name": "LayoutModel",
          "model_module_version": "1.2.0",
          "state": {
            "_model_module": "@jupyter-widgets/base",
            "_model_module_version": "1.2.0",
            "_model_name": "LayoutModel",
            "_view_count": null,
            "_view_module": "@jupyter-widgets/base",
            "_view_module_version": "1.2.0",
            "_view_name": "LayoutView",
            "align_content": null,
            "align_items": null,
            "align_self": null,
            "border": null,
            "bottom": null,
            "display": null,
            "flex": null,
            "flex_flow": null,
            "grid_area": null,
            "grid_auto_columns": null,
            "grid_auto_flow": null,
            "grid_auto_rows": null,
            "grid_column": null,
            "grid_gap": null,
            "grid_row": null,
            "grid_template_areas": null,
            "grid_template_columns": null,
            "grid_template_rows": null,
            "height": null,
            "justify_content": null,
            "justify_items": null,
            "left": null,
            "margin": null,
            "max_height": null,
            "max_width": null,
            "min_height": null,
            "min_width": null,
            "object_fit": null,
            "object_position": null,
            "order": null,
            "overflow": null,
            "overflow_x": null,
            "overflow_y": null,
            "padding": null,
            "right": null,
            "top": null,
            "visibility": null,
            "width": null
          }
        },
        "aa562913e83f4179ae87dd6b2d0b2703": {
          "model_module": "@jupyter-widgets/controls",
          "model_name": "ProgressStyleModel",
          "model_module_version": "1.5.0",
          "state": {
            "_model_module": "@jupyter-widgets/controls",
            "_model_module_version": "1.5.0",
            "_model_name": "ProgressStyleModel",
            "_view_count": null,
            "_view_module": "@jupyter-widgets/base",
            "_view_module_version": "1.2.0",
            "_view_name": "StyleView",
            "bar_color": null,
            "description_width": ""
          }
        },
        "268763ba0b0a4a669325471966171886": {
          "model_module": "@jupyter-widgets/base",
          "model_name": "LayoutModel",
          "model_module_version": "1.2.0",
          "state": {
            "_model_module": "@jupyter-widgets/base",
            "_model_module_version": "1.2.0",
            "_model_name": "LayoutModel",
            "_view_count": null,
            "_view_module": "@jupyter-widgets/base",
            "_view_module_version": "1.2.0",
            "_view_name": "LayoutView",
            "align_content": null,
            "align_items": null,
            "align_self": null,
            "border": null,
            "bottom": null,
            "display": null,
            "flex": null,
            "flex_flow": null,
            "grid_area": null,
            "grid_auto_columns": null,
            "grid_auto_flow": null,
            "grid_auto_rows": null,
            "grid_column": null,
            "grid_gap": null,
            "grid_row": null,
            "grid_template_areas": null,
            "grid_template_columns": null,
            "grid_template_rows": null,
            "height": null,
            "justify_content": null,
            "justify_items": null,
            "left": null,
            "margin": null,
            "max_height": null,
            "max_width": null,
            "min_height": null,
            "min_width": null,
            "object_fit": null,
            "object_position": null,
            "order": null,
            "overflow": null,
            "overflow_x": null,
            "overflow_y": null,
            "padding": null,
            "right": null,
            "top": null,
            "visibility": null,
            "width": null
          }
        },
        "4388ce967bd449ae9a682b925b24bcb6": {
          "model_module": "@jupyter-widgets/controls",
          "model_name": "DescriptionStyleModel",
          "model_module_version": "1.5.0",
          "state": {
            "_model_module": "@jupyter-widgets/controls",
            "_model_module_version": "1.5.0",
            "_model_name": "DescriptionStyleModel",
            "_view_count": null,
            "_view_module": "@jupyter-widgets/base",
            "_view_module_version": "1.2.0",
            "_view_name": "StyleView",
            "description_width": ""
          }
        },
        "583b3a4884ac43f4b242c20bcdcd985c": {
          "model_module": "@jupyter-widgets/controls",
          "model_name": "HBoxModel",
          "model_module_version": "1.5.0",
          "state": {
            "_dom_classes": [],
            "_model_module": "@jupyter-widgets/controls",
            "_model_module_version": "1.5.0",
            "_model_name": "HBoxModel",
            "_view_count": null,
            "_view_module": "@jupyter-widgets/controls",
            "_view_module_version": "1.5.0",
            "_view_name": "HBoxView",
            "box_style": "",
            "children": [
              "IPY_MODEL_c3058cdb36734a29a2aa8c5269bcd3c3",
              "IPY_MODEL_7338607547904fa39edcca39b59427af",
              "IPY_MODEL_858ce822e6d04e0cb74ba1f939bfc94d"
            ],
            "layout": "IPY_MODEL_85b65130783b450191c30ead3b1a7043"
          }
        },
        "c3058cdb36734a29a2aa8c5269bcd3c3": {
          "model_module": "@jupyter-widgets/controls",
          "model_name": "HTMLModel",
          "model_module_version": "1.5.0",
          "state": {
            "_dom_classes": [],
            "_model_module": "@jupyter-widgets/controls",
            "_model_module_version": "1.5.0",
            "_model_name": "HTMLModel",
            "_view_count": null,
            "_view_module": "@jupyter-widgets/controls",
            "_view_module_version": "1.5.0",
            "_view_name": "HTMLView",
            "description": "",
            "description_tooltip": null,
            "layout": "IPY_MODEL_f19770aa2ad94aa58912c34125acde64",
            "placeholder": "​",
            "style": "IPY_MODEL_33d9c2160dde4e0fa49fa4e1f860fa4f",
            "value": "Downloading: 100%"
          }
        },
        "7338607547904fa39edcca39b59427af": {
          "model_module": "@jupyter-widgets/controls",
          "model_name": "FloatProgressModel",
          "model_module_version": "1.5.0",
          "state": {
            "_dom_classes": [],
            "_model_module": "@jupyter-widgets/controls",
            "_model_module_version": "1.5.0",
            "_model_name": "FloatProgressModel",
            "_view_count": null,
            "_view_module": "@jupyter-widgets/controls",
            "_view_module_version": "1.5.0",
            "_view_name": "ProgressView",
            "bar_style": "success",
            "description": "",
            "description_tooltip": null,
            "layout": "IPY_MODEL_8380d097325947e09ad819fc0cd2f85b",
            "max": 28,
            "min": 0,
            "orientation": "horizontal",
            "style": "IPY_MODEL_7e1da8e3ad934cbca4f80597b37823f6",
            "value": 28
          }
        },
        "858ce822e6d04e0cb74ba1f939bfc94d": {
          "model_module": "@jupyter-widgets/controls",
          "model_name": "HTMLModel",
          "model_module_version": "1.5.0",
          "state": {
            "_dom_classes": [],
            "_model_module": "@jupyter-widgets/controls",
            "_model_module_version": "1.5.0",
            "_model_name": "HTMLModel",
            "_view_count": null,
            "_view_module": "@jupyter-widgets/controls",
            "_view_module_version": "1.5.0",
            "_view_name": "HTMLView",
            "description": "",
            "description_tooltip": null,
            "layout": "IPY_MODEL_7f28507ab1de4326ba4c1e3ff065e6f7",
            "placeholder": "​",
            "style": "IPY_MODEL_d10fb446f796466f9d851e1f8dcfe54d",
            "value": " 28.0/28.0 [00:00&lt;00:00, 848B/s]"
          }
        },
        "85b65130783b450191c30ead3b1a7043": {
          "model_module": "@jupyter-widgets/base",
          "model_name": "LayoutModel",
          "model_module_version": "1.2.0",
          "state": {
            "_model_module": "@jupyter-widgets/base",
            "_model_module_version": "1.2.0",
            "_model_name": "LayoutModel",
            "_view_count": null,
            "_view_module": "@jupyter-widgets/base",
            "_view_module_version": "1.2.0",
            "_view_name": "LayoutView",
            "align_content": null,
            "align_items": null,
            "align_self": null,
            "border": null,
            "bottom": null,
            "display": null,
            "flex": null,
            "flex_flow": null,
            "grid_area": null,
            "grid_auto_columns": null,
            "grid_auto_flow": null,
            "grid_auto_rows": null,
            "grid_column": null,
            "grid_gap": null,
            "grid_row": null,
            "grid_template_areas": null,
            "grid_template_columns": null,
            "grid_template_rows": null,
            "height": null,
            "justify_content": null,
            "justify_items": null,
            "left": null,
            "margin": null,
            "max_height": null,
            "max_width": null,
            "min_height": null,
            "min_width": null,
            "object_fit": null,
            "object_position": null,
            "order": null,
            "overflow": null,
            "overflow_x": null,
            "overflow_y": null,
            "padding": null,
            "right": null,
            "top": null,
            "visibility": null,
            "width": null
          }
        },
        "f19770aa2ad94aa58912c34125acde64": {
          "model_module": "@jupyter-widgets/base",
          "model_name": "LayoutModel",
          "model_module_version": "1.2.0",
          "state": {
            "_model_module": "@jupyter-widgets/base",
            "_model_module_version": "1.2.0",
            "_model_name": "LayoutModel",
            "_view_count": null,
            "_view_module": "@jupyter-widgets/base",
            "_view_module_version": "1.2.0",
            "_view_name": "LayoutView",
            "align_content": null,
            "align_items": null,
            "align_self": null,
            "border": null,
            "bottom": null,
            "display": null,
            "flex": null,
            "flex_flow": null,
            "grid_area": null,
            "grid_auto_columns": null,
            "grid_auto_flow": null,
            "grid_auto_rows": null,
            "grid_column": null,
            "grid_gap": null,
            "grid_row": null,
            "grid_template_areas": null,
            "grid_template_columns": null,
            "grid_template_rows": null,
            "height": null,
            "justify_content": null,
            "justify_items": null,
            "left": null,
            "margin": null,
            "max_height": null,
            "max_width": null,
            "min_height": null,
            "min_width": null,
            "object_fit": null,
            "object_position": null,
            "order": null,
            "overflow": null,
            "overflow_x": null,
            "overflow_y": null,
            "padding": null,
            "right": null,
            "top": null,
            "visibility": null,
            "width": null
          }
        },
        "33d9c2160dde4e0fa49fa4e1f860fa4f": {
          "model_module": "@jupyter-widgets/controls",
          "model_name": "DescriptionStyleModel",
          "model_module_version": "1.5.0",
          "state": {
            "_model_module": "@jupyter-widgets/controls",
            "_model_module_version": "1.5.0",
            "_model_name": "DescriptionStyleModel",
            "_view_count": null,
            "_view_module": "@jupyter-widgets/base",
            "_view_module_version": "1.2.0",
            "_view_name": "StyleView",
            "description_width": ""
          }
        },
        "8380d097325947e09ad819fc0cd2f85b": {
          "model_module": "@jupyter-widgets/base",
          "model_name": "LayoutModel",
          "model_module_version": "1.2.0",
          "state": {
            "_model_module": "@jupyter-widgets/base",
            "_model_module_version": "1.2.0",
            "_model_name": "LayoutModel",
            "_view_count": null,
            "_view_module": "@jupyter-widgets/base",
            "_view_module_version": "1.2.0",
            "_view_name": "LayoutView",
            "align_content": null,
            "align_items": null,
            "align_self": null,
            "border": null,
            "bottom": null,
            "display": null,
            "flex": null,
            "flex_flow": null,
            "grid_area": null,
            "grid_auto_columns": null,
            "grid_auto_flow": null,
            "grid_auto_rows": null,
            "grid_column": null,
            "grid_gap": null,
            "grid_row": null,
            "grid_template_areas": null,
            "grid_template_columns": null,
            "grid_template_rows": null,
            "height": null,
            "justify_content": null,
            "justify_items": null,
            "left": null,
            "margin": null,
            "max_height": null,
            "max_width": null,
            "min_height": null,
            "min_width": null,
            "object_fit": null,
            "object_position": null,
            "order": null,
            "overflow": null,
            "overflow_x": null,
            "overflow_y": null,
            "padding": null,
            "right": null,
            "top": null,
            "visibility": null,
            "width": null
          }
        },
        "7e1da8e3ad934cbca4f80597b37823f6": {
          "model_module": "@jupyter-widgets/controls",
          "model_name": "ProgressStyleModel",
          "model_module_version": "1.5.0",
          "state": {
            "_model_module": "@jupyter-widgets/controls",
            "_model_module_version": "1.5.0",
            "_model_name": "ProgressStyleModel",
            "_view_count": null,
            "_view_module": "@jupyter-widgets/base",
            "_view_module_version": "1.2.0",
            "_view_name": "StyleView",
            "bar_color": null,
            "description_width": ""
          }
        },
        "7f28507ab1de4326ba4c1e3ff065e6f7": {
          "model_module": "@jupyter-widgets/base",
          "model_name": "LayoutModel",
          "model_module_version": "1.2.0",
          "state": {
            "_model_module": "@jupyter-widgets/base",
            "_model_module_version": "1.2.0",
            "_model_name": "LayoutModel",
            "_view_count": null,
            "_view_module": "@jupyter-widgets/base",
            "_view_module_version": "1.2.0",
            "_view_name": "LayoutView",
            "align_content": null,
            "align_items": null,
            "align_self": null,
            "border": null,
            "bottom": null,
            "display": null,
            "flex": null,
            "flex_flow": null,
            "grid_area": null,
            "grid_auto_columns": null,
            "grid_auto_flow": null,
            "grid_auto_rows": null,
            "grid_column": null,
            "grid_gap": null,
            "grid_row": null,
            "grid_template_areas": null,
            "grid_template_columns": null,
            "grid_template_rows": null,
            "height": null,
            "justify_content": null,
            "justify_items": null,
            "left": null,
            "margin": null,
            "max_height": null,
            "max_width": null,
            "min_height": null,
            "min_width": null,
            "object_fit": null,
            "object_position": null,
            "order": null,
            "overflow": null,
            "overflow_x": null,
            "overflow_y": null,
            "padding": null,
            "right": null,
            "top": null,
            "visibility": null,
            "width": null
          }
        },
        "d10fb446f796466f9d851e1f8dcfe54d": {
          "model_module": "@jupyter-widgets/controls",
          "model_name": "DescriptionStyleModel",
          "model_module_version": "1.5.0",
          "state": {
            "_model_module": "@jupyter-widgets/controls",
            "_model_module_version": "1.5.0",
            "_model_name": "DescriptionStyleModel",
            "_view_count": null,
            "_view_module": "@jupyter-widgets/base",
            "_view_module_version": "1.2.0",
            "_view_name": "StyleView",
            "description_width": ""
          }
        },
        "0d57350689c04cacb6ebdaff55cc34b0": {
          "model_module": "@jupyter-widgets/controls",
          "model_name": "HBoxModel",
          "model_module_version": "1.5.0",
          "state": {
            "_dom_classes": [],
            "_model_module": "@jupyter-widgets/controls",
            "_model_module_version": "1.5.0",
            "_model_name": "HBoxModel",
            "_view_count": null,
            "_view_module": "@jupyter-widgets/controls",
            "_view_module_version": "1.5.0",
            "_view_name": "HBoxView",
            "box_style": "",
            "children": [
              "IPY_MODEL_0992e93f278441b7b87e602cf49ef907",
              "IPY_MODEL_2aa5cd7287da43d5b40c823124ead30e",
              "IPY_MODEL_fc3be13455174a81b064532a3dd80594"
            ],
            "layout": "IPY_MODEL_22b1979443d14d148996af021178d5f7"
          }
        },
        "0992e93f278441b7b87e602cf49ef907": {
          "model_module": "@jupyter-widgets/controls",
          "model_name": "HTMLModel",
          "model_module_version": "1.5.0",
          "state": {
            "_dom_classes": [],
            "_model_module": "@jupyter-widgets/controls",
            "_model_module_version": "1.5.0",
            "_model_name": "HTMLModel",
            "_view_count": null,
            "_view_module": "@jupyter-widgets/controls",
            "_view_module_version": "1.5.0",
            "_view_name": "HTMLView",
            "description": "",
            "description_tooltip": null,
            "layout": "IPY_MODEL_dfe9ae31e95c43c7b3cfd8340c2c1657",
            "placeholder": "​",
            "style": "IPY_MODEL_e06fb803cfe643c180decc1c592bab3e",
            "value": "Downloading: 100%"
          }
        },
        "2aa5cd7287da43d5b40c823124ead30e": {
          "model_module": "@jupyter-widgets/controls",
          "model_name": "FloatProgressModel",
          "model_module_version": "1.5.0",
          "state": {
            "_dom_classes": [],
            "_model_module": "@jupyter-widgets/controls",
            "_model_module_version": "1.5.0",
            "_model_name": "FloatProgressModel",
            "_view_count": null,
            "_view_module": "@jupyter-widgets/controls",
            "_view_module_version": "1.5.0",
            "_view_name": "ProgressView",
            "bar_style": "success",
            "description": "",
            "description_tooltip": null,
            "layout": "IPY_MODEL_2ebc336e7a96448bb5dfd9a34a964100",
            "max": 570,
            "min": 0,
            "orientation": "horizontal",
            "style": "IPY_MODEL_42bec2cfc9b94407aa29aa916c115fc9",
            "value": 570
          }
        },
        "fc3be13455174a81b064532a3dd80594": {
          "model_module": "@jupyter-widgets/controls",
          "model_name": "HTMLModel",
          "model_module_version": "1.5.0",
          "state": {
            "_dom_classes": [],
            "_model_module": "@jupyter-widgets/controls",
            "_model_module_version": "1.5.0",
            "_model_name": "HTMLModel",
            "_view_count": null,
            "_view_module": "@jupyter-widgets/controls",
            "_view_module_version": "1.5.0",
            "_view_name": "HTMLView",
            "description": "",
            "description_tooltip": null,
            "layout": "IPY_MODEL_42f30fec2eb644f0b4b399734d1738c2",
            "placeholder": "​",
            "style": "IPY_MODEL_1b35b5c15fca44c6a85915d27633f255",
            "value": " 570/570 [00:00&lt;00:00, 16.6kB/s]"
          }
        },
        "22b1979443d14d148996af021178d5f7": {
          "model_module": "@jupyter-widgets/base",
          "model_name": "LayoutModel",
          "model_module_version": "1.2.0",
          "state": {
            "_model_module": "@jupyter-widgets/base",
            "_model_module_version": "1.2.0",
            "_model_name": "LayoutModel",
            "_view_count": null,
            "_view_module": "@jupyter-widgets/base",
            "_view_module_version": "1.2.0",
            "_view_name": "LayoutView",
            "align_content": null,
            "align_items": null,
            "align_self": null,
            "border": null,
            "bottom": null,
            "display": null,
            "flex": null,
            "flex_flow": null,
            "grid_area": null,
            "grid_auto_columns": null,
            "grid_auto_flow": null,
            "grid_auto_rows": null,
            "grid_column": null,
            "grid_gap": null,
            "grid_row": null,
            "grid_template_areas": null,
            "grid_template_columns": null,
            "grid_template_rows": null,
            "height": null,
            "justify_content": null,
            "justify_items": null,
            "left": null,
            "margin": null,
            "max_height": null,
            "max_width": null,
            "min_height": null,
            "min_width": null,
            "object_fit": null,
            "object_position": null,
            "order": null,
            "overflow": null,
            "overflow_x": null,
            "overflow_y": null,
            "padding": null,
            "right": null,
            "top": null,
            "visibility": null,
            "width": null
          }
        },
        "dfe9ae31e95c43c7b3cfd8340c2c1657": {
          "model_module": "@jupyter-widgets/base",
          "model_name": "LayoutModel",
          "model_module_version": "1.2.0",
          "state": {
            "_model_module": "@jupyter-widgets/base",
            "_model_module_version": "1.2.0",
            "_model_name": "LayoutModel",
            "_view_count": null,
            "_view_module": "@jupyter-widgets/base",
            "_view_module_version": "1.2.0",
            "_view_name": "LayoutView",
            "align_content": null,
            "align_items": null,
            "align_self": null,
            "border": null,
            "bottom": null,
            "display": null,
            "flex": null,
            "flex_flow": null,
            "grid_area": null,
            "grid_auto_columns": null,
            "grid_auto_flow": null,
            "grid_auto_rows": null,
            "grid_column": null,
            "grid_gap": null,
            "grid_row": null,
            "grid_template_areas": null,
            "grid_template_columns": null,
            "grid_template_rows": null,
            "height": null,
            "justify_content": null,
            "justify_items": null,
            "left": null,
            "margin": null,
            "max_height": null,
            "max_width": null,
            "min_height": null,
            "min_width": null,
            "object_fit": null,
            "object_position": null,
            "order": null,
            "overflow": null,
            "overflow_x": null,
            "overflow_y": null,
            "padding": null,
            "right": null,
            "top": null,
            "visibility": null,
            "width": null
          }
        },
        "e06fb803cfe643c180decc1c592bab3e": {
          "model_module": "@jupyter-widgets/controls",
          "model_name": "DescriptionStyleModel",
          "model_module_version": "1.5.0",
          "state": {
            "_model_module": "@jupyter-widgets/controls",
            "_model_module_version": "1.5.0",
            "_model_name": "DescriptionStyleModel",
            "_view_count": null,
            "_view_module": "@jupyter-widgets/base",
            "_view_module_version": "1.2.0",
            "_view_name": "StyleView",
            "description_width": ""
          }
        },
        "2ebc336e7a96448bb5dfd9a34a964100": {
          "model_module": "@jupyter-widgets/base",
          "model_name": "LayoutModel",
          "model_module_version": "1.2.0",
          "state": {
            "_model_module": "@jupyter-widgets/base",
            "_model_module_version": "1.2.0",
            "_model_name": "LayoutModel",
            "_view_count": null,
            "_view_module": "@jupyter-widgets/base",
            "_view_module_version": "1.2.0",
            "_view_name": "LayoutView",
            "align_content": null,
            "align_items": null,
            "align_self": null,
            "border": null,
            "bottom": null,
            "display": null,
            "flex": null,
            "flex_flow": null,
            "grid_area": null,
            "grid_auto_columns": null,
            "grid_auto_flow": null,
            "grid_auto_rows": null,
            "grid_column": null,
            "grid_gap": null,
            "grid_row": null,
            "grid_template_areas": null,
            "grid_template_columns": null,
            "grid_template_rows": null,
            "height": null,
            "justify_content": null,
            "justify_items": null,
            "left": null,
            "margin": null,
            "max_height": null,
            "max_width": null,
            "min_height": null,
            "min_width": null,
            "object_fit": null,
            "object_position": null,
            "order": null,
            "overflow": null,
            "overflow_x": null,
            "overflow_y": null,
            "padding": null,
            "right": null,
            "top": null,
            "visibility": null,
            "width": null
          }
        },
        "42bec2cfc9b94407aa29aa916c115fc9": {
          "model_module": "@jupyter-widgets/controls",
          "model_name": "ProgressStyleModel",
          "model_module_version": "1.5.0",
          "state": {
            "_model_module": "@jupyter-widgets/controls",
            "_model_module_version": "1.5.0",
            "_model_name": "ProgressStyleModel",
            "_view_count": null,
            "_view_module": "@jupyter-widgets/base",
            "_view_module_version": "1.2.0",
            "_view_name": "StyleView",
            "bar_color": null,
            "description_width": ""
          }
        },
        "42f30fec2eb644f0b4b399734d1738c2": {
          "model_module": "@jupyter-widgets/base",
          "model_name": "LayoutModel",
          "model_module_version": "1.2.0",
          "state": {
            "_model_module": "@jupyter-widgets/base",
            "_model_module_version": "1.2.0",
            "_model_name": "LayoutModel",
            "_view_count": null,
            "_view_module": "@jupyter-widgets/base",
            "_view_module_version": "1.2.0",
            "_view_name": "LayoutView",
            "align_content": null,
            "align_items": null,
            "align_self": null,
            "border": null,
            "bottom": null,
            "display": null,
            "flex": null,
            "flex_flow": null,
            "grid_area": null,
            "grid_auto_columns": null,
            "grid_auto_flow": null,
            "grid_auto_rows": null,
            "grid_column": null,
            "grid_gap": null,
            "grid_row": null,
            "grid_template_areas": null,
            "grid_template_columns": null,
            "grid_template_rows": null,
            "height": null,
            "justify_content": null,
            "justify_items": null,
            "left": null,
            "margin": null,
            "max_height": null,
            "max_width": null,
            "min_height": null,
            "min_width": null,
            "object_fit": null,
            "object_position": null,
            "order": null,
            "overflow": null,
            "overflow_x": null,
            "overflow_y": null,
            "padding": null,
            "right": null,
            "top": null,
            "visibility": null,
            "width": null
          }
        },
        "1b35b5c15fca44c6a85915d27633f255": {
          "model_module": "@jupyter-widgets/controls",
          "model_name": "DescriptionStyleModel",
          "model_module_version": "1.5.0",
          "state": {
            "_model_module": "@jupyter-widgets/controls",
            "_model_module_version": "1.5.0",
            "_model_name": "DescriptionStyleModel",
            "_view_count": null,
            "_view_module": "@jupyter-widgets/base",
            "_view_module_version": "1.2.0",
            "_view_name": "StyleView",
            "description_width": ""
          }
        }
      }
    }
  },
  "cells": [
    {
      "cell_type": "markdown",
      "metadata": {
        "id": "view-in-github",
        "colab_type": "text"
      },
      "source": [
        "<a href=\"https://colab.research.google.com/github/cherryng/MLcourse/blob/main/H4_Q3_NLP_for_ClinicalData.ipynb\" target=\"_parent\"><img src=\"https://colab.research.google.com/assets/colab-badge.svg\" alt=\"Open In Colab\"/></a>"
      ]
    },
    {
      "cell_type": "markdown",
      "metadata": {
        "id": "L52a0HFAwzpK"
      },
      "source": [
        "## Welcome to the Mothers and Machine Learning Course, Week 4!\n",
        "\n",
        "\n",
        "\n",
        "\n",
        "This is an optional Python tutorial that was proposed in the ‘AI for Clinician Champions Certificate' program! https://michener.ca/ce_course/ai-for-clinician-champions-certificate-program/\n",
        "- \n",
        "\n",
        "This program is offered by Michener Institute & Vector Institute for clinicians who wish to learn more about AI in Healthcare.\n",
        "\n",
        "Assignment Developer: Flora Wan.\n",
        "\n",
        "***Never stop learning!***"
      ]
    },
    {
      "cell_type": "markdown",
      "metadata": {
        "id": "Dnf72X_k0Znk"
      },
      "source": [
        "\n",
        "This week's case study will introduce you to NLP (Natural Language Processing).  The goal of this case study is to parse a set of medical report notes, or SOAP notes, in order to create a classification model to predict the patient's diagnosis.\n",
        "\n",
        "The dataset was originally found here: https://data.world/arvin6/medical-records-10-yrs (link might not be working but data can be still loaded below in the code).\n",
        "\n",
        "**Important Note:** Before running the code below, make sure to change the runtime type to \"GPU\".  To do this, go to the Runtime menu > Change runtime type.  In the Hardware accelerator drop-down, select \"GPU\" and then \"Save\".  Google Colab will prompt you to restart the runtime.  The reason why we have to change the runtime to \"GPU\" is to speed up the processing speed of the neural network that will be used to train our model.\n",
        "![Set to GPU.png](data:image/png;base64,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)\n"
      ]
    },
    {
      "cell_type": "code",
      "metadata": {
        "id": "f1WyS5JuENcW"
      },
      "source": [
        "# Import Python packages\n",
        "import pandas as pd\n",
        "import numpy as np\n",
        "import matplotlib\n",
        "import matplotlib.pyplot as plt\n",
        "import seaborn as sns\n",
        "import sklearn\n",
        "import tensorflow as tf"
      ],
      "execution_count": null,
      "outputs": []
    },
    {
      "cell_type": "markdown",
      "metadata": {
        "id": "dI9ih3WvCY3m"
      },
      "source": [
        "*Useful tip*: The packages imported above are frequently-used Python packages for data manipulation (pandas, numpy), visualization (matplotlib, seaborn), and machine learning (sklearn, tensorflow).  "
      ]
    },
    {
      "cell_type": "markdown",
      "metadata": {
        "id": "yCBHz8NFW1Iu"
      },
      "source": [
        "# Import dataset\n",
        "\n",
        "First, we connect to Google Drive and import the two relevant data files in CSV (comma-separated values) format."
      ]
    },
    {
      "cell_type": "markdown",
      "metadata": {
        "id": "GIkzwMqCEAFy"
      },
      "source": [
        "## Download the dataset\n"
      ]
    },
    {
      "cell_type": "code",
      "metadata": {
        "id": "KV8iNhhqFtJ3",
        "colab": {
          "base_uri": "https://localhost:8080/"
        },
        "outputId": "57ef7085-baea-4ed4-d034-579c14078506"
      },
      "source": [
        "from IPython.display import clear_output\n",
        "import zipfile\n",
        "from pathlib import Path\n",
        "\n",
        "!wget --load-cookies /tmp/cookies.txt \"https://docs.google.com/uc?export=download&confirm=$(wget --quiet --save-cookies /tmp/cookies.txt --keep-session-cookies --no-check-certificate 'https://drive.google.com/file/d/1GThRqLRy1Dl55pIM6RESTX51yXjnvSFE/view?usp=sharing' -O- | sed -rn 's/.*confirm=([0-9A-Za-z_]+).*/\\1\\n/p')&id=1GThRqLRy1Dl55pIM6RESTX51yXjnvSFE\" -O 'arvin6-medical-records-10-yrs.zip' && rm -rf /tmp/cookies.txt\n",
        "\n",
        "with zipfile.ZipFile('arvin6-medical-records-10-yrs.zip', 'r') as zip_ref:\n",
        "    zip_ref.extractall('Assignment 4')\n",
        "\n",
        "# The dataset is stored on Google drive as a zip file. When we run the cell\n",
        "# Colab will retrieve this zip file and unzip it into your Google Colab environment.\n",
        "\n",
        "# You can have a look at the dataset structure by pressing the folder icon on the left sidebar.\n",
        "\n",
        "dataset_folder = Path(\"/content/Assignment 4/arvin6-medical-records-10-yrs\") \n",
        "\n",
        "# Your output should contain **encounter.csv** and **encounter_dx.csv**:\n",
        "print(list(dataset_folder.glob(\"*.*\")))"
      ],
      "execution_count": null,
      "outputs": [
        {
          "output_type": "stream",
          "name": "stdout",
          "text": [
            "--2022-03-31 00:39:56--  https://docs.google.com/uc?export=download&confirm=&id=1GThRqLRy1Dl55pIM6RESTX51yXjnvSFE\n",
            "Resolving docs.google.com (docs.google.com)... 74.125.204.100, 74.125.204.138, 74.125.204.101, ...\n",
            "Connecting to docs.google.com (docs.google.com)|74.125.204.100|:443... connected.\n",
            "HTTP request sent, awaiting response... 303 See Other\n",
            "Location: https://doc-10-2g-docs.googleusercontent.com/docs/securesc/185qmv6utf466qi9plq01c64chu1etkf/jei9cbg159vp68t1av0kppasql16v37b/1648687125000/14757718682151807649/02630897643285806874Z/1GThRqLRy1Dl55pIM6RESTX51yXjnvSFE?e=download [following]\n",
            "--2022-03-31 00:39:58--  https://doc-10-2g-docs.googleusercontent.com/docs/securesc/185qmv6utf466qi9plq01c64chu1etkf/jei9cbg159vp68t1av0kppasql16v37b/1648687125000/14757718682151807649/02630897643285806874Z/1GThRqLRy1Dl55pIM6RESTX51yXjnvSFE?e=download\n",
            "Resolving doc-10-2g-docs.googleusercontent.com (doc-10-2g-docs.googleusercontent.com)... 74.125.23.132, 2404:6800:4008:c02::84\n",
            "Connecting to doc-10-2g-docs.googleusercontent.com (doc-10-2g-docs.googleusercontent.com)|74.125.23.132|:443... connected.\n",
            "HTTP request sent, awaiting response... 302 Found\n",
            "Location: https://docs.google.com/nonceSigner?nonce=pe6jvvg6rmi80&continue=https://doc-10-2g-docs.googleusercontent.com/docs/securesc/185qmv6utf466qi9plq01c64chu1etkf/jei9cbg159vp68t1av0kppasql16v37b/1648687125000/14757718682151807649/02630897643285806874Z/1GThRqLRy1Dl55pIM6RESTX51yXjnvSFE?e%3Ddownload&hash=pc87ainqja0ok5q224ffqni2kvc2cfdq [following]\n",
            "--2022-03-31 00:39:58--  https://docs.google.com/nonceSigner?nonce=pe6jvvg6rmi80&continue=https://doc-10-2g-docs.googleusercontent.com/docs/securesc/185qmv6utf466qi9plq01c64chu1etkf/jei9cbg159vp68t1av0kppasql16v37b/1648687125000/14757718682151807649/02630897643285806874Z/1GThRqLRy1Dl55pIM6RESTX51yXjnvSFE?e%3Ddownload&hash=pc87ainqja0ok5q224ffqni2kvc2cfdq\n",
            "Connecting to docs.google.com (docs.google.com)|74.125.204.100|:443... connected.\n",
            "HTTP request sent, awaiting response... 302 Found\n",
            "Location: https://doc-10-2g-docs.googleusercontent.com/docs/securesc/185qmv6utf466qi9plq01c64chu1etkf/jei9cbg159vp68t1av0kppasql16v37b/1648687125000/14757718682151807649/02630897643285806874Z/1GThRqLRy1Dl55pIM6RESTX51yXjnvSFE?e=download&nonce=pe6jvvg6rmi80&user=02630897643285806874Z&hash=hl04f4ldsnslpa786k0g9mo6eh4h72qu [following]\n",
            "--2022-03-31 00:39:59--  https://doc-10-2g-docs.googleusercontent.com/docs/securesc/185qmv6utf466qi9plq01c64chu1etkf/jei9cbg159vp68t1av0kppasql16v37b/1648687125000/14757718682151807649/02630897643285806874Z/1GThRqLRy1Dl55pIM6RESTX51yXjnvSFE?e=download&nonce=pe6jvvg6rmi80&user=02630897643285806874Z&hash=hl04f4ldsnslpa786k0g9mo6eh4h72qu\n",
            "Connecting to doc-10-2g-docs.googleusercontent.com (doc-10-2g-docs.googleusercontent.com)|74.125.23.132|:443... connected.\n",
            "HTTP request sent, awaiting response... 200 OK\n",
            "Length: 978549 (956K) [application/zip]\n",
            "Saving to: ‘arvin6-medical-records-10-yrs.zip’\n",
            "\n",
            "arvin6-medical-reco 100%[===================>] 955.61K  --.-KB/s    in 0.01s   \n",
            "\n",
            "2022-03-31 00:40:00 (88.1 MB/s) - ‘arvin6-medical-records-10-yrs.zip’ saved [978549/978549]\n",
            "\n",
            "[PosixPath('/content/Assignment 4/arvin6-medical-records-10-yrs/lab_results.csv'), PosixPath('/content/Assignment 4/arvin6-medical-records-10-yrs/encounter.csv'), PosixPath('/content/Assignment 4/arvin6-medical-records-10-yrs/encounter_dx.csv'), PosixPath('/content/Assignment 4/arvin6-medical-records-10-yrs/medication_fulfillment.csv')]\n"
          ]
        }
      ]
    },
    {
      "cell_type": "code",
      "metadata": {
        "id": "yVR5HLlOF49X"
      },
      "source": [
        "# Transform the datasets into a Pandas dataframe object\n",
        "encounter_csv = dataset_folder / \"encounter.csv\"\n",
        "encounter_dx_csv = dataset_folder / \"encounter_dx.csv\"\n",
        "df_encounter = pd.read_csv(encounter_csv)\n",
        "df_encounter_dx = pd.read_csv(encounter_dx_csv)"
      ],
      "execution_count": null,
      "outputs": []
    },
    {
      "cell_type": "markdown",
      "metadata": {
        "id": "b3CqtDYgEDjY"
      },
      "source": [
        "## Load data from CSV files\n",
        "\n",
        "The two CSV files loaded are:\n",
        "\n",
        "- encounter.csv:  This table contains records representing each patient's encounter with the healthcare system.  This includes clinic assessments, pharmacy visits, and lab orders.  We will focus specifically on the \"SOAP_Note\" column.\n",
        "\n",
        "- encounter_dx.csv:  This table contains the corresponding diagnosis for encounters involving a clinial assessment.  From this table, we will focus on the \"description\" column which is the patient diagnosis that we will try to predict."
      ]
    },
    {
      "cell_type": "code",
      "metadata": {
        "id": "TJL7QsbO0f6e",
        "colab": {
          "base_uri": "https://localhost:8080/"
        },
        "outputId": "ed9edbff-0bb3-48c0-a6c7-53a25f949b83"
      },
      "source": [
        "# Print the number of records in the df_encounter dataframe\n",
        "print(f\"Number of records: {len(df_encounter)}\")"
      ],
      "execution_count": null,
      "outputs": [
        {
          "output_type": "stream",
          "name": "stdout",
          "text": [
            "Number of records: 5447\n"
          ]
        }
      ]
    },
    {
      "cell_type": "code",
      "metadata": {
        "id": "1xetBDO20n0Z",
        "colab": {
          "base_uri": "https://localhost:8080/",
          "height": 508
        },
        "outputId": "8a6fe0d1-b9fc-40ec-ca69-09894b9a6f59"
      },
      "source": [
        "# Recall that df_encounter contains the encounter.csv: \n",
        "# This table contains records representing each patient's encounter with the healthcare system. \n",
        "# This includes clinic assessments, pharmacy visits, and lab orders. We will focus specifically on the \"SOAP_Note\" column.\n",
        "\n",
        "# Look at the first 5 rows in the dataframe using the head() method\n",
        "df_encounter.head()"
      ],
      "execution_count": null,
      "outputs": [
        {
          "output_type": "execute_result",
          "data": {
            "text/plain": [
              "                      Provider_Org          Encounter_ID     Member_ID  \\\n",
              "0  ExactData Medical Health System  L8694502508698944760  568001602-01   \n",
              "1  ExactData Medical Health System  V3046573432409333612  568001602-01   \n",
              "2  ExactData Medical Health System  X3228783097331248888  568001602-01   \n",
              "3  ExactData Medical Health System  M3204724885018391695  568001602-01   \n",
              "4  ExactData Medical Health System  G7012345417035113309  568001602-01   \n",
              "\n",
              "   Provider_ID  Provider_NPI                     Clinic_ID  \\\n",
              "0    663746638    2531462832  Sidney Hillman Health Center   \n",
              "1    523808810    1380097962             Corner Drug Store   \n",
              "2    695700114    1261075194          Wood Diagnostic Labs   \n",
              "3    663746638    2531462832  Sidney Hillman Health Center   \n",
              "4    695700114    1261075194          Wood Diagnostic Labs   \n",
              "\n",
              "     Encounter_DateTime                              Encounter_Description  \\\n",
              "0  2005-06-30T19:15:00Z  Lacy visited primary care physician on 6/30/20...   \n",
              "1  2005-07-01T23:44:00Z  Lacy visited pharmacy on 7/1/2005 6:44:00 PM f...   \n",
              "2  2005-07-05T14:54:00Z  Lacy visited medical lab on 7/5/2005 9:54:00 A...   \n",
              "3  2005-10-07T15:45:00Z  Lacy visited primary care physician on 10/7/20...   \n",
              "4  2005-10-12T20:33:00Z  Lacy visited medical lab on 10/12/2005 3:33:00...   \n",
              "\n",
              "                                CC            Episode_ID  ...  \\\n",
              "0  mild occasional lightheadedness  L8694502508698944760  ...   \n",
              "1                              NaN  L8694502508698944760  ...   \n",
              "2                              NaN  L8694502508698944760  ...   \n",
              "3                              NaN  M3204724885018391695  ...   \n",
              "4                              NaN  M3204724885018391695  ...   \n",
              "\n",
              "  medication_orders_count medication_fulfillment_count  vital_sign_count  \\\n",
              "0                       1                            0                 7   \n",
              "1                       0                            1                 0   \n",
              "2                       0                            0                 0   \n",
              "3                       0                            0                 7   \n",
              "4                       0                            0                 0   \n",
              "\n",
              "  therapy_orders_count therapy_actions_count immunization_count  Has_Appt  \\\n",
              "0                    0                     1                  0      True   \n",
              "1                    0                     0                  0     False   \n",
              "2                    0                     0                  0     False   \n",
              "3                    0                     1                  1      True   \n",
              "4                    0                     0                  0     False   \n",
              "\n",
              "                                           SOAP_Note  consult_ordered  \\\n",
              "0  s:a 33 year old female crystallographer presen...              NaN   \n",
              "1                                                NaN              NaN   \n",
              "2                                                NaN              NaN   \n",
              "3  s:33 yr old female crystallographer presents t...              NaN   \n",
              "4                                                NaN              NaN   \n",
              "\n",
              "                  Disposition  \n",
              "0  ReleasedWithoutLimitations  \n",
              "1  ReleasedWithoutLimitations  \n",
              "2  ReleasedWithoutLimitations  \n",
              "3  ReleasedWithoutLimitations  \n",
              "4  ReleasedWithoutLimitations  \n",
              "\n",
              "[5 rows x 28 columns]"
            ],
            "text/html": [
              "\n",
              "  <div id=\"df-7d4bcc9f-d66b-4734-b480-4079ee546612\">\n",
              "    <div class=\"colab-df-container\">\n",
              "      <div>\n",
              "<style scoped>\n",
              "    .dataframe tbody tr th:only-of-type {\n",
              "        vertical-align: middle;\n",
              "    }\n",
              "\n",
              "    .dataframe tbody tr th {\n",
              "        vertical-align: top;\n",
              "    }\n",
              "\n",
              "    .dataframe thead th {\n",
              "        text-align: right;\n",
              "    }\n",
              "</style>\n",
              "<table border=\"1\" class=\"dataframe\">\n",
              "  <thead>\n",
              "    <tr style=\"text-align: right;\">\n",
              "      <th></th>\n",
              "      <th>Provider_Org</th>\n",
              "      <th>Encounter_ID</th>\n",
              "      <th>Member_ID</th>\n",
              "      <th>Provider_ID</th>\n",
              "      <th>Provider_NPI</th>\n",
              "      <th>Clinic_ID</th>\n",
              "      <th>Encounter_DateTime</th>\n",
              "      <th>Encounter_Description</th>\n",
              "      <th>CC</th>\n",
              "      <th>Episode_ID</th>\n",
              "      <th>...</th>\n",
              "      <th>medication_orders_count</th>\n",
              "      <th>medication_fulfillment_count</th>\n",
              "      <th>vital_sign_count</th>\n",
              "      <th>therapy_orders_count</th>\n",
              "      <th>therapy_actions_count</th>\n",
              "      <th>immunization_count</th>\n",
              "      <th>Has_Appt</th>\n",
              "      <th>SOAP_Note</th>\n",
              "      <th>consult_ordered</th>\n",
              "      <th>Disposition</th>\n",
              "    </tr>\n",
              "  </thead>\n",
              "  <tbody>\n",
              "    <tr>\n",
              "      <th>0</th>\n",
              "      <td>ExactData Medical Health System</td>\n",
              "      <td>L8694502508698944760</td>\n",
              "      <td>568001602-01</td>\n",
              "      <td>663746638</td>\n",
              "      <td>2531462832</td>\n",
              "      <td>Sidney Hillman Health Center</td>\n",
              "      <td>2005-06-30T19:15:00Z</td>\n",
              "      <td>Lacy visited primary care physician on 6/30/20...</td>\n",
              "      <td>mild occasional lightheadedness</td>\n",
              "      <td>L8694502508698944760</td>\n",
              "      <td>...</td>\n",
              "      <td>1</td>\n",
              "      <td>0</td>\n",
              "      <td>7</td>\n",
              "      <td>0</td>\n",
              "      <td>1</td>\n",
              "      <td>0</td>\n",
              "      <td>True</td>\n",
              "      <td>s:a 33 year old female crystallographer presen...</td>\n",
              "      <td>NaN</td>\n",
              "      <td>ReleasedWithoutLimitations</td>\n",
              "    </tr>\n",
              "    <tr>\n",
              "      <th>1</th>\n",
              "      <td>ExactData Medical Health System</td>\n",
              "      <td>V3046573432409333612</td>\n",
              "      <td>568001602-01</td>\n",
              "      <td>523808810</td>\n",
              "      <td>1380097962</td>\n",
              "      <td>Corner Drug Store</td>\n",
              "      <td>2005-07-01T23:44:00Z</td>\n",
              "      <td>Lacy visited pharmacy on 7/1/2005 6:44:00 PM f...</td>\n",
              "      <td>NaN</td>\n",
              "      <td>L8694502508698944760</td>\n",
              "      <td>...</td>\n",
              "      <td>0</td>\n",
              "      <td>1</td>\n",
              "      <td>0</td>\n",
              "      <td>0</td>\n",
              "      <td>0</td>\n",
              "      <td>0</td>\n",
              "      <td>False</td>\n",
              "      <td>NaN</td>\n",
              "      <td>NaN</td>\n",
              "      <td>ReleasedWithoutLimitations</td>\n",
              "    </tr>\n",
              "    <tr>\n",
              "      <th>2</th>\n",
              "      <td>ExactData Medical Health System</td>\n",
              "      <td>X3228783097331248888</td>\n",
              "      <td>568001602-01</td>\n",
              "      <td>695700114</td>\n",
              "      <td>1261075194</td>\n",
              "      <td>Wood Diagnostic Labs</td>\n",
              "      <td>2005-07-05T14:54:00Z</td>\n",
              "      <td>Lacy visited medical lab on 7/5/2005 9:54:00 A...</td>\n",
              "      <td>NaN</td>\n",
              "      <td>L8694502508698944760</td>\n",
              "      <td>...</td>\n",
              "      <td>0</td>\n",
              "      <td>0</td>\n",
              "      <td>0</td>\n",
              "      <td>0</td>\n",
              "      <td>0</td>\n",
              "      <td>0</td>\n",
              "      <td>False</td>\n",
              "      <td>NaN</td>\n",
              "      <td>NaN</td>\n",
              "      <td>ReleasedWithoutLimitations</td>\n",
              "    </tr>\n",
              "    <tr>\n",
              "      <th>3</th>\n",
              "      <td>ExactData Medical Health System</td>\n",
              "      <td>M3204724885018391695</td>\n",
              "      <td>568001602-01</td>\n",
              "      <td>663746638</td>\n",
              "      <td>2531462832</td>\n",
              "      <td>Sidney Hillman Health Center</td>\n",
              "      <td>2005-10-07T15:45:00Z</td>\n",
              "      <td>Lacy visited primary care physician on 10/7/20...</td>\n",
              "      <td>NaN</td>\n",
              "      <td>M3204724885018391695</td>\n",
              "      <td>...</td>\n",
              "      <td>0</td>\n",
              "      <td>0</td>\n",
              "      <td>7</td>\n",
              "      <td>0</td>\n",
              "      <td>1</td>\n",
              "      <td>1</td>\n",
              "      <td>True</td>\n",
              "      <td>s:33 yr old female crystallographer presents t...</td>\n",
              "      <td>NaN</td>\n",
              "      <td>ReleasedWithoutLimitations</td>\n",
              "    </tr>\n",
              "    <tr>\n",
              "      <th>4</th>\n",
              "      <td>ExactData Medical Health System</td>\n",
              "      <td>G7012345417035113309</td>\n",
              "      <td>568001602-01</td>\n",
              "      <td>695700114</td>\n",
              "      <td>1261075194</td>\n",
              "      <td>Wood Diagnostic Labs</td>\n",
              "      <td>2005-10-12T20:33:00Z</td>\n",
              "      <td>Lacy visited medical lab on 10/12/2005 3:33:00...</td>\n",
              "      <td>NaN</td>\n",
              "      <td>M3204724885018391695</td>\n",
              "      <td>...</td>\n",
              "      <td>0</td>\n",
              "      <td>0</td>\n",
              "      <td>0</td>\n",
              "      <td>0</td>\n",
              "      <td>0</td>\n",
              "      <td>0</td>\n",
              "      <td>False</td>\n",
              "      <td>NaN</td>\n",
              "      <td>NaN</td>\n",
              "      <td>ReleasedWithoutLimitations</td>\n",
              "    </tr>\n",
              "  </tbody>\n",
              "</table>\n",
              "<p>5 rows × 28 columns</p>\n",
              "</div>\n",
              "      <button class=\"colab-df-convert\" onclick=\"convertToInteractive('df-7d4bcc9f-d66b-4734-b480-4079ee546612')\"\n",
              "              title=\"Convert this dataframe to an interactive table.\"\n",
              "              style=\"display:none;\">\n",
              "        \n",
              "  <svg xmlns=\"http://www.w3.org/2000/svg\" height=\"24px\"viewBox=\"0 0 24 24\"\n",
              "       width=\"24px\">\n",
              "    <path d=\"M0 0h24v24H0V0z\" fill=\"none\"/>\n",
              "    <path d=\"M18.56 5.44l.94 2.06.94-2.06 2.06-.94-2.06-.94-.94-2.06-.94 2.06-2.06.94zm-11 1L8.5 8.5l.94-2.06 2.06-.94-2.06-.94L8.5 2.5l-.94 2.06-2.06.94zm10 10l.94 2.06.94-2.06 2.06-.94-2.06-.94-.94-2.06-.94 2.06-2.06.94z\"/><path d=\"M17.41 7.96l-1.37-1.37c-.4-.4-.92-.59-1.43-.59-.52 0-1.04.2-1.43.59L10.3 9.45l-7.72 7.72c-.78.78-.78 2.05 0 2.83L4 21.41c.39.39.9.59 1.41.59.51 0 1.02-.2 1.41-.59l7.78-7.78 2.81-2.81c.8-.78.8-2.07 0-2.86zM5.41 20L4 18.59l7.72-7.72 1.47 1.35L5.41 20z\"/>\n",
              "  </svg>\n",
              "      </button>\n",
              "      \n",
              "  <style>\n",
              "    .colab-df-container {\n",
              "      display:flex;\n",
              "      flex-wrap:wrap;\n",
              "      gap: 12px;\n",
              "    }\n",
              "\n",
              "    .colab-df-convert {\n",
              "      background-color: #E8F0FE;\n",
              "      border: none;\n",
              "      border-radius: 50%;\n",
              "      cursor: pointer;\n",
              "      display: none;\n",
              "      fill: #1967D2;\n",
              "      height: 32px;\n",
              "      padding: 0 0 0 0;\n",
              "      width: 32px;\n",
              "    }\n",
              "\n",
              "    .colab-df-convert:hover {\n",
              "      background-color: #E2EBFA;\n",
              "      box-shadow: 0px 1px 2px rgba(60, 64, 67, 0.3), 0px 1px 3px 1px rgba(60, 64, 67, 0.15);\n",
              "      fill: #174EA6;\n",
              "    }\n",
              "\n",
              "    [theme=dark] .colab-df-convert {\n",
              "      background-color: #3B4455;\n",
              "      fill: #D2E3FC;\n",
              "    }\n",
              "\n",
              "    [theme=dark] .colab-df-convert:hover {\n",
              "      background-color: #434B5C;\n",
              "      box-shadow: 0px 1px 3px 1px rgba(0, 0, 0, 0.15);\n",
              "      filter: drop-shadow(0px 1px 2px rgba(0, 0, 0, 0.3));\n",
              "      fill: #FFFFFF;\n",
              "    }\n",
              "  </style>\n",
              "\n",
              "      <script>\n",
              "        const buttonEl =\n",
              "          document.querySelector('#df-7d4bcc9f-d66b-4734-b480-4079ee546612 button.colab-df-convert');\n",
              "        buttonEl.style.display =\n",
              "          google.colab.kernel.accessAllowed ? 'block' : 'none';\n",
              "\n",
              "        async function convertToInteractive(key) {\n",
              "          const element = document.querySelector('#df-7d4bcc9f-d66b-4734-b480-4079ee546612');\n",
              "          const dataTable =\n",
              "            await google.colab.kernel.invokeFunction('convertToInteractive',\n",
              "                                                     [key], {});\n",
              "          if (!dataTable) return;\n",
              "\n",
              "          const docLinkHtml = 'Like what you see? Visit the ' +\n",
              "            '<a target=\"_blank\" href=https://colab.research.google.com/notebooks/data_table.ipynb>data table notebook</a>'\n",
              "            + ' to learn more about interactive tables.';\n",
              "          element.innerHTML = '';\n",
              "          dataTable['output_type'] = 'display_data';\n",
              "          await google.colab.output.renderOutput(dataTable, element);\n",
              "          const docLink = document.createElement('div');\n",
              "          docLink.innerHTML = docLinkHtml;\n",
              "          element.appendChild(docLink);\n",
              "        }\n",
              "      </script>\n",
              "    </div>\n",
              "  </div>\n",
              "  "
            ]
          },
          "metadata": {},
          "execution_count": 5
        }
      ]
    },
    {
      "cell_type": "code",
      "metadata": {
        "id": "HSH3DGSq0xf5",
        "colab": {
          "base_uri": "https://localhost:8080/"
        },
        "outputId": "c057eaba-3b77-42ab-9412-f5710826b136"
      },
      "source": [
        "# Print the number of records in the df_encounter_dx dataframe\n",
        "print(f\"Number of records: {len(df_encounter_dx)}\")\n"
      ],
      "execution_count": null,
      "outputs": [
        {
          "output_type": "stream",
          "name": "stdout",
          "text": [
            "Number of records: 3063\n"
          ]
        }
      ]
    },
    {
      "cell_type": "code",
      "metadata": {
        "id": "UDaGUrgx0zZT",
        "colab": {
          "base_uri": "https://localhost:8080/",
          "height": 206
        },
        "outputId": "d4a441dc-26cd-41f1-9e3f-1c3ee563e1a9"
      },
      "source": [
        "# Recall that df_encounter_dx contains the encounter_dx.csv: \n",
        "# This table contains the corresponding diagnosis for encounters involving a clinial assessment. \n",
        "# From this table, we will focus on the \"description\" column which is the patient diagnosis that we will try to predict.\n",
        "\n",
        "# Look at the first 5 rows in the dataframe using the head() method\n",
        "df_encounter_dx.head()"
      ],
      "execution_count": null,
      "outputs": [
        {
          "output_type": "execute_result",
          "data": {
            "text/plain": [
              "                      Provider_Org   code vocab  \\\n",
              "0  ExactData Medical Health System  401.9  ICD9   \n",
              "1  ExactData Medical Health System  V70.0  ICD9   \n",
              "2  ExactData Medical Health System    496  ICD9   \n",
              "3  ExactData Medical Health System  401.9  ICD9   \n",
              "4  ExactData Medical Health System  V70.0  ICD9   \n",
              "\n",
              "                             description  severity          Encounter_ID  \n",
              "0                           Hypertension      mild  L8694502508698944760  \n",
              "1            General medical examination       NaN  M3204724885018391695  \n",
              "2  Chronic Obstructive Pulmonary Disease  critical  C2819614934032019919  \n",
              "3                           Hypertension      mild  S4571692645992867370  \n",
              "4            General medical examination       NaN  J6262874375300991101  "
            ],
            "text/html": [
              "\n",
              "  <div id=\"df-50c39b2d-573d-4796-94c6-0c3a5c812a81\">\n",
              "    <div class=\"colab-df-container\">\n",
              "      <div>\n",
              "<style scoped>\n",
              "    .dataframe tbody tr th:only-of-type {\n",
              "        vertical-align: middle;\n",
              "    }\n",
              "\n",
              "    .dataframe tbody tr th {\n",
              "        vertical-align: top;\n",
              "    }\n",
              "\n",
              "    .dataframe thead th {\n",
              "        text-align: right;\n",
              "    }\n",
              "</style>\n",
              "<table border=\"1\" class=\"dataframe\">\n",
              "  <thead>\n",
              "    <tr style=\"text-align: right;\">\n",
              "      <th></th>\n",
              "      <th>Provider_Org</th>\n",
              "      <th>code</th>\n",
              "      <th>vocab</th>\n",
              "      <th>description</th>\n",
              "      <th>severity</th>\n",
              "      <th>Encounter_ID</th>\n",
              "    </tr>\n",
              "  </thead>\n",
              "  <tbody>\n",
              "    <tr>\n",
              "      <th>0</th>\n",
              "      <td>ExactData Medical Health System</td>\n",
              "      <td>401.9</td>\n",
              "      <td>ICD9</td>\n",
              "      <td>Hypertension</td>\n",
              "      <td>mild</td>\n",
              "      <td>L8694502508698944760</td>\n",
              "    </tr>\n",
              "    <tr>\n",
              "      <th>1</th>\n",
              "      <td>ExactData Medical Health System</td>\n",
              "      <td>V70.0</td>\n",
              "      <td>ICD9</td>\n",
              "      <td>General medical examination</td>\n",
              "      <td>NaN</td>\n",
              "      <td>M3204724885018391695</td>\n",
              "    </tr>\n",
              "    <tr>\n",
              "      <th>2</th>\n",
              "      <td>ExactData Medical Health System</td>\n",
              "      <td>496</td>\n",
              "      <td>ICD9</td>\n",
              "      <td>Chronic Obstructive Pulmonary Disease</td>\n",
              "      <td>critical</td>\n",
              "      <td>C2819614934032019919</td>\n",
              "    </tr>\n",
              "    <tr>\n",
              "      <th>3</th>\n",
              "      <td>ExactData Medical Health System</td>\n",
              "      <td>401.9</td>\n",
              "      <td>ICD9</td>\n",
              "      <td>Hypertension</td>\n",
              "      <td>mild</td>\n",
              "      <td>S4571692645992867370</td>\n",
              "    </tr>\n",
              "    <tr>\n",
              "      <th>4</th>\n",
              "      <td>ExactData Medical Health System</td>\n",
              "      <td>V70.0</td>\n",
              "      <td>ICD9</td>\n",
              "      <td>General medical examination</td>\n",
              "      <td>NaN</td>\n",
              "      <td>J6262874375300991101</td>\n",
              "    </tr>\n",
              "  </tbody>\n",
              "</table>\n",
              "</div>\n",
              "      <button class=\"colab-df-convert\" onclick=\"convertToInteractive('df-50c39b2d-573d-4796-94c6-0c3a5c812a81')\"\n",
              "              title=\"Convert this dataframe to an interactive table.\"\n",
              "              style=\"display:none;\">\n",
              "        \n",
              "  <svg xmlns=\"http://www.w3.org/2000/svg\" height=\"24px\"viewBox=\"0 0 24 24\"\n",
              "       width=\"24px\">\n",
              "    <path d=\"M0 0h24v24H0V0z\" fill=\"none\"/>\n",
              "    <path d=\"M18.56 5.44l.94 2.06.94-2.06 2.06-.94-2.06-.94-.94-2.06-.94 2.06-2.06.94zm-11 1L8.5 8.5l.94-2.06 2.06-.94-2.06-.94L8.5 2.5l-.94 2.06-2.06.94zm10 10l.94 2.06.94-2.06 2.06-.94-2.06-.94-.94-2.06-.94 2.06-2.06.94z\"/><path d=\"M17.41 7.96l-1.37-1.37c-.4-.4-.92-.59-1.43-.59-.52 0-1.04.2-1.43.59L10.3 9.45l-7.72 7.72c-.78.78-.78 2.05 0 2.83L4 21.41c.39.39.9.59 1.41.59.51 0 1.02-.2 1.41-.59l7.78-7.78 2.81-2.81c.8-.78.8-2.07 0-2.86zM5.41 20L4 18.59l7.72-7.72 1.47 1.35L5.41 20z\"/>\n",
              "  </svg>\n",
              "      </button>\n",
              "      \n",
              "  <style>\n",
              "    .colab-df-container {\n",
              "      display:flex;\n",
              "      flex-wrap:wrap;\n",
              "      gap: 12px;\n",
              "    }\n",
              "\n",
              "    .colab-df-convert {\n",
              "      background-color: #E8F0FE;\n",
              "      border: none;\n",
              "      border-radius: 50%;\n",
              "      cursor: pointer;\n",
              "      display: none;\n",
              "      fill: #1967D2;\n",
              "      height: 32px;\n",
              "      padding: 0 0 0 0;\n",
              "      width: 32px;\n",
              "    }\n",
              "\n",
              "    .colab-df-convert:hover {\n",
              "      background-color: #E2EBFA;\n",
              "      box-shadow: 0px 1px 2px rgba(60, 64, 67, 0.3), 0px 1px 3px 1px rgba(60, 64, 67, 0.15);\n",
              "      fill: #174EA6;\n",
              "    }\n",
              "\n",
              "    [theme=dark] .colab-df-convert {\n",
              "      background-color: #3B4455;\n",
              "      fill: #D2E3FC;\n",
              "    }\n",
              "\n",
              "    [theme=dark] .colab-df-convert:hover {\n",
              "      background-color: #434B5C;\n",
              "      box-shadow: 0px 1px 3px 1px rgba(0, 0, 0, 0.15);\n",
              "      filter: drop-shadow(0px 1px 2px rgba(0, 0, 0, 0.3));\n",
              "      fill: #FFFFFF;\n",
              "    }\n",
              "  </style>\n",
              "\n",
              "      <script>\n",
              "        const buttonEl =\n",
              "          document.querySelector('#df-50c39b2d-573d-4796-94c6-0c3a5c812a81 button.colab-df-convert');\n",
              "        buttonEl.style.display =\n",
              "          google.colab.kernel.accessAllowed ? 'block' : 'none';\n",
              "\n",
              "        async function convertToInteractive(key) {\n",
              "          const element = document.querySelector('#df-50c39b2d-573d-4796-94c6-0c3a5c812a81');\n",
              "          const dataTable =\n",
              "            await google.colab.kernel.invokeFunction('convertToInteractive',\n",
              "                                                     [key], {});\n",
              "          if (!dataTable) return;\n",
              "\n",
              "          const docLinkHtml = 'Like what you see? Visit the ' +\n",
              "            '<a target=\"_blank\" href=https://colab.research.google.com/notebooks/data_table.ipynb>data table notebook</a>'\n",
              "            + ' to learn more about interactive tables.';\n",
              "          element.innerHTML = '';\n",
              "          dataTable['output_type'] = 'display_data';\n",
              "          await google.colab.output.renderOutput(dataTable, element);\n",
              "          const docLink = document.createElement('div');\n",
              "          docLink.innerHTML = docLinkHtml;\n",
              "          element.appendChild(docLink);\n",
              "        }\n",
              "      </script>\n",
              "    </div>\n",
              "  </div>\n",
              "  "
            ]
          },
          "metadata": {},
          "execution_count": 7
        }
      ]
    },
    {
      "cell_type": "markdown",
      "metadata": {
        "id": "6pTnEJGxXDQe"
      },
      "source": [
        "# Select features\n",
        "\n",
        "Currently, the information we need is in two separate dataframes.  In order to combine the information into a single dataframe, we will use the Pandas Python package to merge the tables and then select the relevant rows and columns.\n",
        "\n",
        "*Useful tip*: \"Pandas\" (which stands for Python Data Analysis) is a flexible Python package to manipulate and organize data.  You will often see Pandas represented as the short form \"pd\"."
      ]
    },
    {
      "cell_type": "markdown",
      "metadata": {
        "id": "gdO0Y5TPPSH-"
      },
      "source": [
        "## Merge tables\n",
        "\n",
        "Use the *merge* method in Pandas to combine the df_encounter and df_encounter_dx dataframes.  The \"on\" parameter specifies the *key* to match the records in each dataframe to each other.  In this case, we will be using the \"Encounter_ID\" as the key to connect the records in the two dataframes.\n",
        "\n",
        "*Useful tip*: Electronic medical records are generally stored in a \"relational database\" format, where tables representing specific objects are linked together using unique keys.  To learn more about how to extract data from a relational database, look up \"SQL\", which stands for Structured Query Language."
      ]
    },
    {
      "cell_type": "code",
      "metadata": {
        "id": "JOOspRgV0Pj3",
        "colab": {
          "base_uri": "https://localhost:8080/",
          "height": 560
        },
        "outputId": "5cb60a20-ecd7-4756-b652-d03215eb9bb8"
      },
      "source": [
        "# Merge the df_encounter and df_encounter_dx dataframes\n",
        "df_merged = pd.merge(df_encounter, df_encounter_dx, on=\"Encounter_ID\")\n",
        "df_merged.head()"
      ],
      "execution_count": null,
      "outputs": [
        {
          "output_type": "execute_result",
          "data": {
            "text/plain": [
              "                    Provider_Org_x          Encounter_ID     Member_ID  \\\n",
              "0  ExactData Medical Health System  L8694502508698944760  568001602-01   \n",
              "1  ExactData Medical Health System  M3204724885018391695  568001602-01   \n",
              "2  ExactData Medical Health System  C2819614934032019919  937650000-01   \n",
              "3  ExactData Medical Health System  S4571692645992867370  937650000-01   \n",
              "4  ExactData Medical Health System  J6262874375300991101  937650000-01   \n",
              "\n",
              "   Provider_ID  Provider_NPI                     Clinic_ID  \\\n",
              "0    663746638    2531462832  Sidney Hillman Health Center   \n",
              "1    663746638    2531462832  Sidney Hillman Health Center   \n",
              "2    581395544    2463742680                 Family Health   \n",
              "3    135055397    1032122911        Advocate Medical Group   \n",
              "4    135055397    1032122911        Advocate Medical Group   \n",
              "\n",
              "     Encounter_DateTime                              Encounter_Description  \\\n",
              "0  2005-06-30T19:15:00Z  Lacy visited primary care physician on 6/30/20...   \n",
              "1  2005-10-07T15:45:00Z  Lacy visited primary care physician on 10/7/20...   \n",
              "2  2005-03-12T04:07:00Z  Alexa visited emergency clinic on 3/11/2005 11...   \n",
              "3  2005-04-19T15:00:00Z  Alexa visited primary care physician on 4/19/2...   \n",
              "4  2005-10-20T18:30:00Z  Alexa visited primary care physician on 10/20/...   \n",
              "\n",
              "                                CC            Episode_ID  ...  \\\n",
              "0  mild occasional lightheadedness  L8694502508698944760  ...   \n",
              "1                              NaN  M3204724885018391695  ...   \n",
              "2                 critical dyspnea  C2819614934032019919  ...   \n",
              "3           mild spells of vertigo  S4571692645992867370  ...   \n",
              "4                              NaN  J6262874375300991101  ...   \n",
              "\n",
              "  immunization_count Has_Appt  \\\n",
              "0                  0     True   \n",
              "1                  1     True   \n",
              "2                  0     True   \n",
              "3                  0     True   \n",
              "4                  1     True   \n",
              "\n",
              "                                           SOAP_Note consult_ordered  \\\n",
              "0  s:a 33 year old female crystallographer presen...             NaN   \n",
              "1  s:33 yr old female crystallographer presents t...             NaN   \n",
              "2  s:a 32 year old f presents with critical dyspn...             NaN   \n",
              "3  s:a white female aged 32 Ys presents with 8 mo...             NaN   \n",
              "4  s:32 yr old white F presents today for routine...             NaN   \n",
              "\n",
              "                  Disposition                   Provider_Org_y   code  vocab  \\\n",
              "0  ReleasedWithoutLimitations  ExactData Medical Health System  401.9   ICD9   \n",
              "1  ReleasedWithoutLimitations  ExactData Medical Health System  V70.0   ICD9   \n",
              "2  ReleasedWithoutLimitations  ExactData Medical Health System    496   ICD9   \n",
              "3  ReleasedWithoutLimitations  ExactData Medical Health System  401.9   ICD9   \n",
              "4  ReleasedWithoutLimitations  ExactData Medical Health System  V70.0   ICD9   \n",
              "\n",
              "                             description  severity  \n",
              "0                           Hypertension      mild  \n",
              "1            General medical examination       NaN  \n",
              "2  Chronic Obstructive Pulmonary Disease  critical  \n",
              "3                           Hypertension      mild  \n",
              "4            General medical examination       NaN  \n",
              "\n",
              "[5 rows x 33 columns]"
            ],
            "text/html": [
              "\n",
              "  <div id=\"df-ea25c1a3-f402-4b38-9d79-808be9a2a746\">\n",
              "    <div class=\"colab-df-container\">\n",
              "      <div>\n",
              "<style scoped>\n",
              "    .dataframe tbody tr th:only-of-type {\n",
              "        vertical-align: middle;\n",
              "    }\n",
              "\n",
              "    .dataframe tbody tr th {\n",
              "        vertical-align: top;\n",
              "    }\n",
              "\n",
              "    .dataframe thead th {\n",
              "        text-align: right;\n",
              "    }\n",
              "</style>\n",
              "<table border=\"1\" class=\"dataframe\">\n",
              "  <thead>\n",
              "    <tr style=\"text-align: right;\">\n",
              "      <th></th>\n",
              "      <th>Provider_Org_x</th>\n",
              "      <th>Encounter_ID</th>\n",
              "      <th>Member_ID</th>\n",
              "      <th>Provider_ID</th>\n",
              "      <th>Provider_NPI</th>\n",
              "      <th>Clinic_ID</th>\n",
              "      <th>Encounter_DateTime</th>\n",
              "      <th>Encounter_Description</th>\n",
              "      <th>CC</th>\n",
              "      <th>Episode_ID</th>\n",
              "      <th>...</th>\n",
              "      <th>immunization_count</th>\n",
              "      <th>Has_Appt</th>\n",
              "      <th>SOAP_Note</th>\n",
              "      <th>consult_ordered</th>\n",
              "      <th>Disposition</th>\n",
              "      <th>Provider_Org_y</th>\n",
              "      <th>code</th>\n",
              "      <th>vocab</th>\n",
              "      <th>description</th>\n",
              "      <th>severity</th>\n",
              "    </tr>\n",
              "  </thead>\n",
              "  <tbody>\n",
              "    <tr>\n",
              "      <th>0</th>\n",
              "      <td>ExactData Medical Health System</td>\n",
              "      <td>L8694502508698944760</td>\n",
              "      <td>568001602-01</td>\n",
              "      <td>663746638</td>\n",
              "      <td>2531462832</td>\n",
              "      <td>Sidney Hillman Health Center</td>\n",
              "      <td>2005-06-30T19:15:00Z</td>\n",
              "      <td>Lacy visited primary care physician on 6/30/20...</td>\n",
              "      <td>mild occasional lightheadedness</td>\n",
              "      <td>L8694502508698944760</td>\n",
              "      <td>...</td>\n",
              "      <td>0</td>\n",
              "      <td>True</td>\n",
              "      <td>s:a 33 year old female crystallographer presen...</td>\n",
              "      <td>NaN</td>\n",
              "      <td>ReleasedWithoutLimitations</td>\n",
              "      <td>ExactData Medical Health System</td>\n",
              "      <td>401.9</td>\n",
              "      <td>ICD9</td>\n",
              "      <td>Hypertension</td>\n",
              "      <td>mild</td>\n",
              "    </tr>\n",
              "    <tr>\n",
              "      <th>1</th>\n",
              "      <td>ExactData Medical Health System</td>\n",
              "      <td>M3204724885018391695</td>\n",
              "      <td>568001602-01</td>\n",
              "      <td>663746638</td>\n",
              "      <td>2531462832</td>\n",
              "      <td>Sidney Hillman Health Center</td>\n",
              "      <td>2005-10-07T15:45:00Z</td>\n",
              "      <td>Lacy visited primary care physician on 10/7/20...</td>\n",
              "      <td>NaN</td>\n",
              "      <td>M3204724885018391695</td>\n",
              "      <td>...</td>\n",
              "      <td>1</td>\n",
              "      <td>True</td>\n",
              "      <td>s:33 yr old female crystallographer presents t...</td>\n",
              "      <td>NaN</td>\n",
              "      <td>ReleasedWithoutLimitations</td>\n",
              "      <td>ExactData Medical Health System</td>\n",
              "      <td>V70.0</td>\n",
              "      <td>ICD9</td>\n",
              "      <td>General medical examination</td>\n",
              "      <td>NaN</td>\n",
              "    </tr>\n",
              "    <tr>\n",
              "      <th>2</th>\n",
              "      <td>ExactData Medical Health System</td>\n",
              "      <td>C2819614934032019919</td>\n",
              "      <td>937650000-01</td>\n",
              "      <td>581395544</td>\n",
              "      <td>2463742680</td>\n",
              "      <td>Family Health</td>\n",
              "      <td>2005-03-12T04:07:00Z</td>\n",
              "      <td>Alexa visited emergency clinic on 3/11/2005 11...</td>\n",
              "      <td>critical dyspnea</td>\n",
              "      <td>C2819614934032019919</td>\n",
              "      <td>...</td>\n",
              "      <td>0</td>\n",
              "      <td>True</td>\n",
              "      <td>s:a 32 year old f presents with critical dyspn...</td>\n",
              "      <td>NaN</td>\n",
              "      <td>ReleasedWithoutLimitations</td>\n",
              "      <td>ExactData Medical Health System</td>\n",
              "      <td>496</td>\n",
              "      <td>ICD9</td>\n",
              "      <td>Chronic Obstructive Pulmonary Disease</td>\n",
              "      <td>critical</td>\n",
              "    </tr>\n",
              "    <tr>\n",
              "      <th>3</th>\n",
              "      <td>ExactData Medical Health System</td>\n",
              "      <td>S4571692645992867370</td>\n",
              "      <td>937650000-01</td>\n",
              "      <td>135055397</td>\n",
              "      <td>1032122911</td>\n",
              "      <td>Advocate Medical Group</td>\n",
              "      <td>2005-04-19T15:00:00Z</td>\n",
              "      <td>Alexa visited primary care physician on 4/19/2...</td>\n",
              "      <td>mild spells of vertigo</td>\n",
              "      <td>S4571692645992867370</td>\n",
              "      <td>...</td>\n",
              "      <td>0</td>\n",
              "      <td>True</td>\n",
              "      <td>s:a white female aged 32 Ys presents with 8 mo...</td>\n",
              "      <td>NaN</td>\n",
              "      <td>ReleasedWithoutLimitations</td>\n",
              "      <td>ExactData Medical Health System</td>\n",
              "      <td>401.9</td>\n",
              "      <td>ICD9</td>\n",
              "      <td>Hypertension</td>\n",
              "      <td>mild</td>\n",
              "    </tr>\n",
              "    <tr>\n",
              "      <th>4</th>\n",
              "      <td>ExactData Medical Health System</td>\n",
              "      <td>J6262874375300991101</td>\n",
              "      <td>937650000-01</td>\n",
              "      <td>135055397</td>\n",
              "      <td>1032122911</td>\n",
              "      <td>Advocate Medical Group</td>\n",
              "      <td>2005-10-20T18:30:00Z</td>\n",
              "      <td>Alexa visited primary care physician on 10/20/...</td>\n",
              "      <td>NaN</td>\n",
              "      <td>J6262874375300991101</td>\n",
              "      <td>...</td>\n",
              "      <td>1</td>\n",
              "      <td>True</td>\n",
              "      <td>s:32 yr old white F presents today for routine...</td>\n",
              "      <td>NaN</td>\n",
              "      <td>ReleasedWithoutLimitations</td>\n",
              "      <td>ExactData Medical Health System</td>\n",
              "      <td>V70.0</td>\n",
              "      <td>ICD9</td>\n",
              "      <td>General medical examination</td>\n",
              "      <td>NaN</td>\n",
              "    </tr>\n",
              "  </tbody>\n",
              "</table>\n",
              "<p>5 rows × 33 columns</p>\n",
              "</div>\n",
              "      <button class=\"colab-df-convert\" onclick=\"convertToInteractive('df-ea25c1a3-f402-4b38-9d79-808be9a2a746')\"\n",
              "              title=\"Convert this dataframe to an interactive table.\"\n",
              "              style=\"display:none;\">\n",
              "        \n",
              "  <svg xmlns=\"http://www.w3.org/2000/svg\" height=\"24px\"viewBox=\"0 0 24 24\"\n",
              "       width=\"24px\">\n",
              "    <path d=\"M0 0h24v24H0V0z\" fill=\"none\"/>\n",
              "    <path d=\"M18.56 5.44l.94 2.06.94-2.06 2.06-.94-2.06-.94-.94-2.06-.94 2.06-2.06.94zm-11 1L8.5 8.5l.94-2.06 2.06-.94-2.06-.94L8.5 2.5l-.94 2.06-2.06.94zm10 10l.94 2.06.94-2.06 2.06-.94-2.06-.94-.94-2.06-.94 2.06-2.06.94z\"/><path d=\"M17.41 7.96l-1.37-1.37c-.4-.4-.92-.59-1.43-.59-.52 0-1.04.2-1.43.59L10.3 9.45l-7.72 7.72c-.78.78-.78 2.05 0 2.83L4 21.41c.39.39.9.59 1.41.59.51 0 1.02-.2 1.41-.59l7.78-7.78 2.81-2.81c.8-.78.8-2.07 0-2.86zM5.41 20L4 18.59l7.72-7.72 1.47 1.35L5.41 20z\"/>\n",
              "  </svg>\n",
              "      </button>\n",
              "      \n",
              "  <style>\n",
              "    .colab-df-container {\n",
              "      display:flex;\n",
              "      flex-wrap:wrap;\n",
              "      gap: 12px;\n",
              "    }\n",
              "\n",
              "    .colab-df-convert {\n",
              "      background-color: #E8F0FE;\n",
              "      border: none;\n",
              "      border-radius: 50%;\n",
              "      cursor: pointer;\n",
              "      display: none;\n",
              "      fill: #1967D2;\n",
              "      height: 32px;\n",
              "      padding: 0 0 0 0;\n",
              "      width: 32px;\n",
              "    }\n",
              "\n",
              "    .colab-df-convert:hover {\n",
              "      background-color: #E2EBFA;\n",
              "      box-shadow: 0px 1px 2px rgba(60, 64, 67, 0.3), 0px 1px 3px 1px rgba(60, 64, 67, 0.15);\n",
              "      fill: #174EA6;\n",
              "    }\n",
              "\n",
              "    [theme=dark] .colab-df-convert {\n",
              "      background-color: #3B4455;\n",
              "      fill: #D2E3FC;\n",
              "    }\n",
              "\n",
              "    [theme=dark] .colab-df-convert:hover {\n",
              "      background-color: #434B5C;\n",
              "      box-shadow: 0px 1px 3px 1px rgba(0, 0, 0, 0.15);\n",
              "      filter: drop-shadow(0px 1px 2px rgba(0, 0, 0, 0.3));\n",
              "      fill: #FFFFFF;\n",
              "    }\n",
              "  </style>\n",
              "\n",
              "      <script>\n",
              "        const buttonEl =\n",
              "          document.querySelector('#df-ea25c1a3-f402-4b38-9d79-808be9a2a746 button.colab-df-convert');\n",
              "        buttonEl.style.display =\n",
              "          google.colab.kernel.accessAllowed ? 'block' : 'none';\n",
              "\n",
              "        async function convertToInteractive(key) {\n",
              "          const element = document.querySelector('#df-ea25c1a3-f402-4b38-9d79-808be9a2a746');\n",
              "          const dataTable =\n",
              "            await google.colab.kernel.invokeFunction('convertToInteractive',\n",
              "                                                     [key], {});\n",
              "          if (!dataTable) return;\n",
              "\n",
              "          const docLinkHtml = 'Like what you see? Visit the ' +\n",
              "            '<a target=\"_blank\" href=https://colab.research.google.com/notebooks/data_table.ipynb>data table notebook</a>'\n",
              "            + ' to learn more about interactive tables.';\n",
              "          element.innerHTML = '';\n",
              "          dataTable['output_type'] = 'display_data';\n",
              "          await google.colab.output.renderOutput(dataTable, element);\n",
              "          const docLink = document.createElement('div');\n",
              "          docLink.innerHTML = docLinkHtml;\n",
              "          element.appendChild(docLink);\n",
              "        }\n",
              "      </script>\n",
              "    </div>\n",
              "  </div>\n",
              "  "
            ]
          },
          "metadata": {},
          "execution_count": 8
        }
      ]
    },
    {
      "cell_type": "code",
      "metadata": {
        "id": "xlxHox7pMBbg",
        "colab": {
          "base_uri": "https://localhost:8080/"
        },
        "outputId": "f64491e1-d42d-4339-9462-99bdf5e09a77"
      },
      "source": [
        "# Look at the available columns\n",
        "df_merged.columns"
      ],
      "execution_count": null,
      "outputs": [
        {
          "output_type": "execute_result",
          "data": {
            "text/plain": [
              "Index(['Provider_Org_x', 'Encounter_ID', 'Member_ID', 'Provider_ID',\n",
              "       'Provider_NPI', 'Clinic_ID', 'Encounter_DateTime',\n",
              "       'Encounter_Description', 'CC', 'Episode_ID', 'Patient_DOB',\n",
              "       'Patient_Gender', 'Facility_Name', 'Provider_Name', 'Specialty',\n",
              "       'Clinic_Type', 'lab_orders_count', 'lab_results_count',\n",
              "       'medication_orders_count', 'medication_fulfillment_count',\n",
              "       'vital_sign_count', 'therapy_orders_count', 'therapy_actions_count',\n",
              "       'immunization_count', 'Has_Appt', 'SOAP_Note', 'consult_ordered',\n",
              "       'Disposition', 'Provider_Org_y', 'code', 'vocab', 'description',\n",
              "       'severity'],\n",
              "      dtype='object')"
            ]
          },
          "metadata": {},
          "execution_count": 9
        }
      ]
    },
    {
      "cell_type": "markdown",
      "metadata": {
        "id": "24OutY0aPWTe"
      },
      "source": [
        "## Select relevant rows and columns\n",
        "\n",
        "Since we are only interested in the SOAP notes (input) and diagnosis description (output), we will select those two columns from the dataframe. In addition, we will also need to do some data cleaning to make sure that we're not passing any missing data into the machine learning model."
      ]
    },
    {
      "cell_type": "code",
      "metadata": {
        "id": "43LRFNBnNtCL"
      },
      "source": [
        "# Select the relevant columns for the NLP case study. We will noly be using 2 of the columns in the new merged dataset.\n",
        "df_merged = df_merged[['SOAP_Note', 'description']]"
      ],
      "execution_count": null,
      "outputs": []
    },
    {
      "cell_type": "code",
      "metadata": {
        "id": "61IVobJt26No",
        "colab": {
          "base_uri": "https://localhost:8080/"
        },
        "outputId": "e430bafe-2d55-4ec8-d1a1-14a7330d8027"
      },
      "source": [
        "# Print the number of records in this dataframe\n",
        "print(f\"Number of records: {len(df_merged)}\")"
      ],
      "execution_count": null,
      "outputs": [
        {
          "output_type": "stream",
          "name": "stdout",
          "text": [
            "Number of records: 3059\n"
          ]
        }
      ]
    },
    {
      "cell_type": "code",
      "metadata": {
        "id": "YtdxjFBg3YgZ",
        "colab": {
          "base_uri": "https://localhost:8080/",
          "height": 363
        },
        "outputId": "536d6caf-a3a1-451a-dd00-7f18d880bf07"
      },
      "source": [
        "df_merged.head(10)"
      ],
      "execution_count": null,
      "outputs": [
        {
          "output_type": "execute_result",
          "data": {
            "text/plain": [
              "                                           SOAP_Note  \\\n",
              "0  s:a 33 year old female crystallographer presen...   \n",
              "1  s:33 yr old female crystallographer presents t...   \n",
              "2  s:a 32 year old f presents with critical dyspn...   \n",
              "3  s:a white female aged 32 Ys presents with 8 mo...   \n",
              "4  s:32 yr old white F presents today for routine...   \n",
              "5  s:53 year old female presents today for routin...   \n",
              "6  s:53 year old female presents today for routin...   \n",
              "7  s:a 53 yr old female with C/O severe fever for...   \n",
              "8                                                NaN   \n",
              "9  s:pt presents with Hemorrhagic Stroke for more...   \n",
              "\n",
              "                             description  \n",
              "0                           Hypertension  \n",
              "1            General medical examination  \n",
              "2  Chronic Obstructive Pulmonary Disease  \n",
              "3                           Hypertension  \n",
              "4            General medical examination  \n",
              "5            General medical examination  \n",
              "6  Chronic Obstructive Pulmonary Disease  \n",
              "7  Chronic Obstructive Pulmonary Disease  \n",
              "8  Chronic Obstructive Pulmonary Disease  \n",
              "9                     Hemorrhagic Stroke  "
            ],
            "text/html": [
              "\n",
              "  <div id=\"df-ddd39ae8-144a-4bbe-8eaa-34f21648fb81\">\n",
              "    <div class=\"colab-df-container\">\n",
              "      <div>\n",
              "<style scoped>\n",
              "    .dataframe tbody tr th:only-of-type {\n",
              "        vertical-align: middle;\n",
              "    }\n",
              "\n",
              "    .dataframe tbody tr th {\n",
              "        vertical-align: top;\n",
              "    }\n",
              "\n",
              "    .dataframe thead th {\n",
              "        text-align: right;\n",
              "    }\n",
              "</style>\n",
              "<table border=\"1\" class=\"dataframe\">\n",
              "  <thead>\n",
              "    <tr style=\"text-align: right;\">\n",
              "      <th></th>\n",
              "      <th>SOAP_Note</th>\n",
              "      <th>description</th>\n",
              "    </tr>\n",
              "  </thead>\n",
              "  <tbody>\n",
              "    <tr>\n",
              "      <th>0</th>\n",
              "      <td>s:a 33 year old female crystallographer presen...</td>\n",
              "      <td>Hypertension</td>\n",
              "    </tr>\n",
              "    <tr>\n",
              "      <th>1</th>\n",
              "      <td>s:33 yr old female crystallographer presents t...</td>\n",
              "      <td>General medical examination</td>\n",
              "    </tr>\n",
              "    <tr>\n",
              "      <th>2</th>\n",
              "      <td>s:a 32 year old f presents with critical dyspn...</td>\n",
              "      <td>Chronic Obstructive Pulmonary Disease</td>\n",
              "    </tr>\n",
              "    <tr>\n",
              "      <th>3</th>\n",
              "      <td>s:a white female aged 32 Ys presents with 8 mo...</td>\n",
              "      <td>Hypertension</td>\n",
              "    </tr>\n",
              "    <tr>\n",
              "      <th>4</th>\n",
              "      <td>s:32 yr old white F presents today for routine...</td>\n",
              "      <td>General medical examination</td>\n",
              "    </tr>\n",
              "    <tr>\n",
              "      <th>5</th>\n",
              "      <td>s:53 year old female presents today for routin...</td>\n",
              "      <td>General medical examination</td>\n",
              "    </tr>\n",
              "    <tr>\n",
              "      <th>6</th>\n",
              "      <td>s:53 year old female presents today for routin...</td>\n",
              "      <td>Chronic Obstructive Pulmonary Disease</td>\n",
              "    </tr>\n",
              "    <tr>\n",
              "      <th>7</th>\n",
              "      <td>s:a 53 yr old female with C/O severe fever for...</td>\n",
              "      <td>Chronic Obstructive Pulmonary Disease</td>\n",
              "    </tr>\n",
              "    <tr>\n",
              "      <th>8</th>\n",
              "      <td>NaN</td>\n",
              "      <td>Chronic Obstructive Pulmonary Disease</td>\n",
              "    </tr>\n",
              "    <tr>\n",
              "      <th>9</th>\n",
              "      <td>s:pt presents with Hemorrhagic Stroke for more...</td>\n",
              "      <td>Hemorrhagic Stroke</td>\n",
              "    </tr>\n",
              "  </tbody>\n",
              "</table>\n",
              "</div>\n",
              "      <button class=\"colab-df-convert\" onclick=\"convertToInteractive('df-ddd39ae8-144a-4bbe-8eaa-34f21648fb81')\"\n",
              "              title=\"Convert this dataframe to an interactive table.\"\n",
              "              style=\"display:none;\">\n",
              "        \n",
              "  <svg xmlns=\"http://www.w3.org/2000/svg\" height=\"24px\"viewBox=\"0 0 24 24\"\n",
              "       width=\"24px\">\n",
              "    <path d=\"M0 0h24v24H0V0z\" fill=\"none\"/>\n",
              "    <path d=\"M18.56 5.44l.94 2.06.94-2.06 2.06-.94-2.06-.94-.94-2.06-.94 2.06-2.06.94zm-11 1L8.5 8.5l.94-2.06 2.06-.94-2.06-.94L8.5 2.5l-.94 2.06-2.06.94zm10 10l.94 2.06.94-2.06 2.06-.94-2.06-.94-.94-2.06-.94 2.06-2.06.94z\"/><path d=\"M17.41 7.96l-1.37-1.37c-.4-.4-.92-.59-1.43-.59-.52 0-1.04.2-1.43.59L10.3 9.45l-7.72 7.72c-.78.78-.78 2.05 0 2.83L4 21.41c.39.39.9.59 1.41.59.51 0 1.02-.2 1.41-.59l7.78-7.78 2.81-2.81c.8-.78.8-2.07 0-2.86zM5.41 20L4 18.59l7.72-7.72 1.47 1.35L5.41 20z\"/>\n",
              "  </svg>\n",
              "      </button>\n",
              "      \n",
              "  <style>\n",
              "    .colab-df-container {\n",
              "      display:flex;\n",
              "      flex-wrap:wrap;\n",
              "      gap: 12px;\n",
              "    }\n",
              "\n",
              "    .colab-df-convert {\n",
              "      background-color: #E8F0FE;\n",
              "      border: none;\n",
              "      border-radius: 50%;\n",
              "      cursor: pointer;\n",
              "      display: none;\n",
              "      fill: #1967D2;\n",
              "      height: 32px;\n",
              "      padding: 0 0 0 0;\n",
              "      width: 32px;\n",
              "    }\n",
              "\n",
              "    .colab-df-convert:hover {\n",
              "      background-color: #E2EBFA;\n",
              "      box-shadow: 0px 1px 2px rgba(60, 64, 67, 0.3), 0px 1px 3px 1px rgba(60, 64, 67, 0.15);\n",
              "      fill: #174EA6;\n",
              "    }\n",
              "\n",
              "    [theme=dark] .colab-df-convert {\n",
              "      background-color: #3B4455;\n",
              "      fill: #D2E3FC;\n",
              "    }\n",
              "\n",
              "    [theme=dark] .colab-df-convert:hover {\n",
              "      background-color: #434B5C;\n",
              "      box-shadow: 0px 1px 3px 1px rgba(0, 0, 0, 0.15);\n",
              "      filter: drop-shadow(0px 1px 2px rgba(0, 0, 0, 0.3));\n",
              "      fill: #FFFFFF;\n",
              "    }\n",
              "  </style>\n",
              "\n",
              "      <script>\n",
              "        const buttonEl =\n",
              "          document.querySelector('#df-ddd39ae8-144a-4bbe-8eaa-34f21648fb81 button.colab-df-convert');\n",
              "        buttonEl.style.display =\n",
              "          google.colab.kernel.accessAllowed ? 'block' : 'none';\n",
              "\n",
              "        async function convertToInteractive(key) {\n",
              "          const element = document.querySelector('#df-ddd39ae8-144a-4bbe-8eaa-34f21648fb81');\n",
              "          const dataTable =\n",
              "            await google.colab.kernel.invokeFunction('convertToInteractive',\n",
              "                                                     [key], {});\n",
              "          if (!dataTable) return;\n",
              "\n",
              "          const docLinkHtml = 'Like what you see? Visit the ' +\n",
              "            '<a target=\"_blank\" href=https://colab.research.google.com/notebooks/data_table.ipynb>data table notebook</a>'\n",
              "            + ' to learn more about interactive tables.';\n",
              "          element.innerHTML = '';\n",
              "          dataTable['output_type'] = 'display_data';\n",
              "          await google.colab.output.renderOutput(dataTable, element);\n",
              "          const docLink = document.createElement('div');\n",
              "          docLink.innerHTML = docLinkHtml;\n",
              "          element.appendChild(docLink);\n",
              "        }\n",
              "      </script>\n",
              "    </div>\n",
              "  </div>\n",
              "  "
            ]
          },
          "metadata": {},
          "execution_count": 12
        }
      ]
    },
    {
      "cell_type": "code",
      "metadata": {
        "id": "hQhe_Nt7MTJt",
        "colab": {
          "base_uri": "https://localhost:8080/"
        },
        "outputId": "c648887f-2f9a-4d9b-be41-7d563acbab4e"
      },
      "source": [
        "# Look for any missing data\n",
        "df_merged.isnull().sum()"
      ],
      "execution_count": null,
      "outputs": [
        {
          "output_type": "execute_result",
          "data": {
            "text/plain": [
              "SOAP_Note      191\n",
              "description      0\n",
              "dtype: int64"
            ]
          },
          "metadata": {},
          "execution_count": 13
        }
      ]
    },
    {
      "cell_type": "code",
      "metadata": {
        "id": "47--D9urOL9Z"
      },
      "source": [
        "# Filter out the records with missing SOAP notes\n",
        "df_merged = df_merged[df_merged['SOAP_Note'].notnull()]"
      ],
      "execution_count": null,
      "outputs": []
    },
    {
      "cell_type": "code",
      "metadata": {
        "id": "P6nE0PKqOuso",
        "colab": {
          "base_uri": "https://localhost:8080/",
          "height": 224
        },
        "outputId": "bc16eab5-d891-4359-f38c-7585e68b9517"
      },
      "source": [
        "# Display the final dataset to be used for training the prediction model\n",
        "# \"SOAP_Note\" is our input text, and \"description\" is our output, or label\n",
        "print(\"Number of records in final dataset:\", len(df_merged))\n",
        "df_merged.head()"
      ],
      "execution_count": null,
      "outputs": [
        {
          "output_type": "stream",
          "name": "stdout",
          "text": [
            "Number of records in final dataset: 2868\n"
          ]
        },
        {
          "output_type": "execute_result",
          "data": {
            "text/plain": [
              "                                           SOAP_Note  \\\n",
              "0  s:a 33 year old female crystallographer presen...   \n",
              "1  s:33 yr old female crystallographer presents t...   \n",
              "2  s:a 32 year old f presents with critical dyspn...   \n",
              "3  s:a white female aged 32 Ys presents with 8 mo...   \n",
              "4  s:32 yr old white F presents today for routine...   \n",
              "\n",
              "                             description  \n",
              "0                           Hypertension  \n",
              "1            General medical examination  \n",
              "2  Chronic Obstructive Pulmonary Disease  \n",
              "3                           Hypertension  \n",
              "4            General medical examination  "
            ],
            "text/html": [
              "\n",
              "  <div id=\"df-f876ec2e-079d-4006-94e6-c26ce01a06a2\">\n",
              "    <div class=\"colab-df-container\">\n",
              "      <div>\n",
              "<style scoped>\n",
              "    .dataframe tbody tr th:only-of-type {\n",
              "        vertical-align: middle;\n",
              "    }\n",
              "\n",
              "    .dataframe tbody tr th {\n",
              "        vertical-align: top;\n",
              "    }\n",
              "\n",
              "    .dataframe thead th {\n",
              "        text-align: right;\n",
              "    }\n",
              "</style>\n",
              "<table border=\"1\" class=\"dataframe\">\n",
              "  <thead>\n",
              "    <tr style=\"text-align: right;\">\n",
              "      <th></th>\n",
              "      <th>SOAP_Note</th>\n",
              "      <th>description</th>\n",
              "    </tr>\n",
              "  </thead>\n",
              "  <tbody>\n",
              "    <tr>\n",
              "      <th>0</th>\n",
              "      <td>s:a 33 year old female crystallographer presen...</td>\n",
              "      <td>Hypertension</td>\n",
              "    </tr>\n",
              "    <tr>\n",
              "      <th>1</th>\n",
              "      <td>s:33 yr old female crystallographer presents t...</td>\n",
              "      <td>General medical examination</td>\n",
              "    </tr>\n",
              "    <tr>\n",
              "      <th>2</th>\n",
              "      <td>s:a 32 year old f presents with critical dyspn...</td>\n",
              "      <td>Chronic Obstructive Pulmonary Disease</td>\n",
              "    </tr>\n",
              "    <tr>\n",
              "      <th>3</th>\n",
              "      <td>s:a white female aged 32 Ys presents with 8 mo...</td>\n",
              "      <td>Hypertension</td>\n",
              "    </tr>\n",
              "    <tr>\n",
              "      <th>4</th>\n",
              "      <td>s:32 yr old white F presents today for routine...</td>\n",
              "      <td>General medical examination</td>\n",
              "    </tr>\n",
              "  </tbody>\n",
              "</table>\n",
              "</div>\n",
              "      <button class=\"colab-df-convert\" onclick=\"convertToInteractive('df-f876ec2e-079d-4006-94e6-c26ce01a06a2')\"\n",
              "              title=\"Convert this dataframe to an interactive table.\"\n",
              "              style=\"display:none;\">\n",
              "        \n",
              "  <svg xmlns=\"http://www.w3.org/2000/svg\" height=\"24px\"viewBox=\"0 0 24 24\"\n",
              "       width=\"24px\">\n",
              "    <path d=\"M0 0h24v24H0V0z\" fill=\"none\"/>\n",
              "    <path d=\"M18.56 5.44l.94 2.06.94-2.06 2.06-.94-2.06-.94-.94-2.06-.94 2.06-2.06.94zm-11 1L8.5 8.5l.94-2.06 2.06-.94-2.06-.94L8.5 2.5l-.94 2.06-2.06.94zm10 10l.94 2.06.94-2.06 2.06-.94-2.06-.94-.94-2.06-.94 2.06-2.06.94z\"/><path d=\"M17.41 7.96l-1.37-1.37c-.4-.4-.92-.59-1.43-.59-.52 0-1.04.2-1.43.59L10.3 9.45l-7.72 7.72c-.78.78-.78 2.05 0 2.83L4 21.41c.39.39.9.59 1.41.59.51 0 1.02-.2 1.41-.59l7.78-7.78 2.81-2.81c.8-.78.8-2.07 0-2.86zM5.41 20L4 18.59l7.72-7.72 1.47 1.35L5.41 20z\"/>\n",
              "  </svg>\n",
              "      </button>\n",
              "      \n",
              "  <style>\n",
              "    .colab-df-container {\n",
              "      display:flex;\n",
              "      flex-wrap:wrap;\n",
              "      gap: 12px;\n",
              "    }\n",
              "\n",
              "    .colab-df-convert {\n",
              "      background-color: #E8F0FE;\n",
              "      border: none;\n",
              "      border-radius: 50%;\n",
              "      cursor: pointer;\n",
              "      display: none;\n",
              "      fill: #1967D2;\n",
              "      height: 32px;\n",
              "      padding: 0 0 0 0;\n",
              "      width: 32px;\n",
              "    }\n",
              "\n",
              "    .colab-df-convert:hover {\n",
              "      background-color: #E2EBFA;\n",
              "      box-shadow: 0px 1px 2px rgba(60, 64, 67, 0.3), 0px 1px 3px 1px rgba(60, 64, 67, 0.15);\n",
              "      fill: #174EA6;\n",
              "    }\n",
              "\n",
              "    [theme=dark] .colab-df-convert {\n",
              "      background-color: #3B4455;\n",
              "      fill: #D2E3FC;\n",
              "    }\n",
              "\n",
              "    [theme=dark] .colab-df-convert:hover {\n",
              "      background-color: #434B5C;\n",
              "      box-shadow: 0px 1px 3px 1px rgba(0, 0, 0, 0.15);\n",
              "      filter: drop-shadow(0px 1px 2px rgba(0, 0, 0, 0.3));\n",
              "      fill: #FFFFFF;\n",
              "    }\n",
              "  </style>\n",
              "\n",
              "      <script>\n",
              "        const buttonEl =\n",
              "          document.querySelector('#df-f876ec2e-079d-4006-94e6-c26ce01a06a2 button.colab-df-convert');\n",
              "        buttonEl.style.display =\n",
              "          google.colab.kernel.accessAllowed ? 'block' : 'none';\n",
              "\n",
              "        async function convertToInteractive(key) {\n",
              "          const element = document.querySelector('#df-f876ec2e-079d-4006-94e6-c26ce01a06a2');\n",
              "          const dataTable =\n",
              "            await google.colab.kernel.invokeFunction('convertToInteractive',\n",
              "                                                     [key], {});\n",
              "          if (!dataTable) return;\n",
              "\n",
              "          const docLinkHtml = 'Like what you see? Visit the ' +\n",
              "            '<a target=\"_blank\" href=https://colab.research.google.com/notebooks/data_table.ipynb>data table notebook</a>'\n",
              "            + ' to learn more about interactive tables.';\n",
              "          element.innerHTML = '';\n",
              "          dataTable['output_type'] = 'display_data';\n",
              "          await google.colab.output.renderOutput(dataTable, element);\n",
              "          const docLink = document.createElement('div');\n",
              "          docLink.innerHTML = docLinkHtml;\n",
              "          element.appendChild(docLink);\n",
              "        }\n",
              "      </script>\n",
              "    </div>\n",
              "  </div>\n",
              "  "
            ]
          },
          "metadata": {},
          "execution_count": 15
        }
      ]
    },
    {
      "cell_type": "markdown",
      "metadata": {
        "id": "Yk7RGDcNPn7V"
      },
      "source": [
        "# Explore dataset\n",
        "\n",
        "Before training any machine learning model, it's important to first explore and visualize the data.  "
      ]
    },
    {
      "cell_type": "markdown",
      "metadata": {
        "id": "qMfBjM45RpkZ"
      },
      "source": [
        "## Data values\n",
        "\n",
        "Let's take a look at what typical SOAP Notes and its corresponding clinical diagnosis look like in this dataset. \n",
        "\n",
        "*Useful tip*: The [0] in the code denotes the index of the record.  In the previous section, we noted that there are 2868 records in our dataframe, so you can change the number in the [ ] brackets to any number between 0 and 2867 to look at other examples (Python counts from \"0\", not \"1\").  If you change the index value for the soap note, remember to also change it for the description so that you are looking at data from the same record."
      ]
    },
    {
      "cell_type": "code",
      "metadata": {
        "id": "A7PYcy92PrPN",
        "colab": {
          "base_uri": "https://localhost:8080/",
          "height": 107
        },
        "outputId": "ef159e96-ddb8-4a38-ecd8-eb270420be05"
      },
      "source": [
        "# Print out the SOAP note in the first record of our dataframe \n",
        "# You may change the index number to see other Soap Notes\n",
        "df_merged['SOAP_Note'][0]"
      ],
      "execution_count": null,
      "outputs": [
        {
          "output_type": "execute_result",
          "data": {
            "text/plain": [
              "'s:a 33 year old female crystallographer presents with mild spells of vertigo, mild headaches particularly at the back of the head and in the morning x 2 weeks. pt also reports chronic mild occasional lightheadedness. o:Height 160 cm, Weight 53.8 kg, Temperature 37.3 C, Pulse 76, SystolicBP 146, DiastolicBP 93, Respiration 15, Heart = 2/6 systolic murmur at base of heart, Chest = clear to auscultation B/L, no rales or wheezing, Extremities = no edema or clubbing, Heart = normal S1, S2, RRR a:Hypertension p:performed E/M Level 2 (established patient) - Completed, and prescribed Hydrochlorothiazide - 50 mg po qd, and ordered Cholesterol.'"
            ],
            "application/vnd.google.colaboratory.intrinsic+json": {
              "type": "string"
            }
          },
          "metadata": {},
          "execution_count": 16
        }
      ]
    },
    {
      "cell_type": "code",
      "metadata": {
        "id": "PRNmWPURP4WU",
        "colab": {
          "base_uri": "https://localhost:8080/",
          "height": 35
        },
        "outputId": "6713d998-297a-4d43-aa84-4210dbd88d6f"
      },
      "source": [
        "# Print the corresponding diagnosis for this clinical assessment\n",
        "df_merged['description'][0]"
      ],
      "execution_count": null,
      "outputs": [
        {
          "output_type": "execute_result",
          "data": {
            "text/plain": [
              "'Hypertension'"
            ],
            "application/vnd.google.colaboratory.intrinsic+json": {
              "type": "string"
            }
          },
          "metadata": {},
          "execution_count": 17
        }
      ]
    },
    {
      "cell_type": "code",
      "metadata": {
        "id": "wfz-nTbJ6GUl",
        "colab": {
          "base_uri": "https://localhost:8080/",
          "height": 89
        },
        "outputId": "66901266-86d7-4e0d-fb2c-b11cd2e8cf4e"
      },
      "source": [
        "# Print out the SOAP note in the first record of our dataframe\n",
        "df_merged['SOAP_Note'][400]"
      ],
      "execution_count": null,
      "outputs": [
        {
          "output_type": "execute_result",
          "data": {
            "text/plain": [
              "'s:44 year old male with approx. 4 months old amputated R shoulder presents for physical therapy visit. pt reports no issues o:, Strengthening. Sensation to pain and touch intact. a:Disarticulation of right shoulder status p:Continue with weekly sessions as per plan. performed rehabilitation and remedial exercises following disarticulation of right shoulder - right shoulder - patient tolerated treatment well, showed increased ROM and strength.'"
            ],
            "application/vnd.google.colaboratory.intrinsic+json": {
              "type": "string"
            }
          },
          "metadata": {},
          "execution_count": 18
        }
      ]
    },
    {
      "cell_type": "code",
      "metadata": {
        "id": "s39dehWG6Mz4",
        "colab": {
          "base_uri": "https://localhost:8080/",
          "height": 35
        },
        "outputId": "f97d37eb-7294-407e-df4d-7999af5cd11a"
      },
      "source": [
        "# Print the corresponding diagnosis for this clinical assessment\n",
        "df_merged['description'][400]"
      ],
      "execution_count": null,
      "outputs": [
        {
          "output_type": "execute_result",
          "data": {
            "text/plain": [
              "'Disarticulation of right shoulder status'"
            ],
            "application/vnd.google.colaboratory.intrinsic+json": {
              "type": "string"
            }
          },
          "metadata": {},
          "execution_count": 19
        }
      ]
    },
    {
      "cell_type": "markdown",
      "metadata": {
        "id": "gZlrvAZINQVl"
      },
      "source": [
        "## Remove words related to target from the input text\n",
        "\n",
        "You might notice that the diagnosis itself is sometimes mentioned specifically in the note (for example, in the previous example, \"Hypertension\" is specified after the a: tag).  In order to make sure that we don't have \"data leakage\" between the input and target, let's remove any words in the input text that matches the actual diagnosis.\n",
        "\n",
        "*Useful tip*: The NLTK package (Natural Language Toolkit) is a powerful Python package to parse text."
      ]
    },
    {
      "cell_type": "code",
      "metadata": {
        "id": "b38Lh8D2NUf9"
      },
      "source": [
        "import nltk\n",
        "\n",
        "# Function to remove words in the input matching words in the label\n",
        "# All characters are converted to lower case\n",
        "def removeLabelWords(input, label):\n",
        "  input_words = [word.lower() for word in nltk.wordpunct_tokenize(input)]\n",
        "  label_words = [word.lower() for word in nltk.wordpunct_tokenize(label)]\n",
        "\n",
        "  result_words  = [word for word in input_words if word not in label_words]\n",
        "  result = ' '.join(result_words)\n",
        "\n",
        "  return result\n",
        "\n",
        "# For each record in the dataframe, parse the input text to remove the diagnosis,\n",
        "# and store the result in the new column named \"SOAP_Note_transformed\"\n",
        "df_merged['SOAP_Note_transformed'] = df_merged.apply(lambda row: removeLabelWords(row['SOAP_Note'], row['description']), axis=1)\n",
        "  "
      ],
      "execution_count": null,
      "outputs": []
    },
    {
      "cell_type": "markdown",
      "metadata": {
        "id": "xb06TJfnZv46"
      },
      "source": [
        "Confirm that words matching the diagnosis is removed from the input text."
      ]
    },
    {
      "cell_type": "code",
      "metadata": {
        "id": "DCY1Kf5lZm5R",
        "colab": {
          "base_uri": "https://localhost:8080/"
        },
        "outputId": "c16ae97c-31fa-4b5d-d23b-d8612c9f3ca2"
      },
      "source": [
        "# Helper function to wrap text to match screen size\n",
        "import textwrap\n",
        "def wrap(string, max_width=100):\n",
        "    return '\\n'.join(textwrap.wrap(string, max_width))\n",
        "\n",
        "# Pick a random record\n",
        "import random\n",
        "record_id = random.randint(0, len(df_merged))\n",
        "print(\"Record ID:\", record_id, \"\\n\")\n",
        "\n",
        "# Print out the diagnosis\n",
        "print(\"Diagnosis:\", df_merged['description'][record_id], \"\\n\")\n",
        "\n",
        "# Print out the original text\n",
        "print(\"Original text:\\n\", wrap(df_merged['SOAP_Note'][record_id]), \"\\n\")\n",
        "\n",
        "# Print out the transformed text that has removed the diagnosis\n",
        "print(\"Transformed text (diagnosis removed):\\n\", wrap(df_merged['SOAP_Note_transformed'][record_id]), \"\\n\")"
      ],
      "execution_count": null,
      "outputs": [
        {
          "output_type": "stream",
          "name": "stdout",
          "text": [
            "Record ID: 2827 \n",
            "\n",
            "Diagnosis: General medical examination \n",
            "\n",
            "Original text:\n",
            " s:m aged 32 years presents for periodic physical. pt says he has no complaints today and no changes\n",
            "to PMH/PSH. Patient reports that he never drinks alcohol. he has approx. a 30 pack/year history of\n",
            "smoking.   o:Height 69 in, Weight 153 lbs, Temperature 97.7 F, Pulse 77, SystolicBP 141, DiastolicBP\n",
            "91, Respiration 15, Visual Acuity Study right eye 20/20, left eye 20/20, Testicular exam no lumps\n",
            "noted a:normal exam. no current issues. problem status: Hypertension, being managed. administered\n",
            "immunizations: FLUARIX and Tetanus and diphtheria toxoids adsorbed p:Call office if any reaction\n",
            "from immunization. F/Up in one (1) year for annual check-up or sooner for new symptoms/problems as\n",
            "they arise. \n",
            "\n",
            "Transformed text (diagnosis removed):\n",
            " s : m aged 32 years presents for periodic physical . pt says he has no complaints today and no\n",
            "changes to pmh / psh . patient reports that he never drinks alcohol . he has approx . a 30 pack /\n",
            "year history of smoking . o : height 69 in , weight 153 lbs , temperature 97 . 7 f , pulse 77 ,\n",
            "systolicbp 141 , diastolicbp 91 , respiration 15 , visual acuity study right eye 20 / 20 , left eye\n",
            "20 / 20 , testicular exam no lumps noted a : normal exam . no current issues . problem status :\n",
            "hypertension , being managed . administered immunizations : fluarix and tetanus and diphtheria\n",
            "toxoids adsorbed p : call office if any reaction from immunization . f / up in one ( 1 ) year for\n",
            "annual check - up or sooner for new symptoms / problems as they arise . \n",
            "\n"
          ]
        }
      ]
    },
    {
      "cell_type": "markdown",
      "metadata": {
        "id": "9bhICyZMRw2Z"
      },
      "source": [
        "## Distribution of target\n",
        "\n",
        "Since the \"description\" column representing the clinical diagnosis is our model's output (also referred to as the target or label), let's take a look at the distribution of values in this column."
      ]
    },
    {
      "cell_type": "code",
      "metadata": {
        "id": "b-UR90zTP-x0",
        "colab": {
          "base_uri": "https://localhost:8080/"
        },
        "outputId": "528d9df8-0369-4b5b-e3c2-5a772439d8d0"
      },
      "source": [
        "# Look at the distribution of our \"description\" label\n",
        "target_dist = df_merged['description'].value_counts()\n",
        "target_dist"
      ],
      "execution_count": null,
      "outputs": [
        {
          "output_type": "execute_result",
          "data": {
            "text/plain": [
              "General medical examination                 582\n",
              "Type 1 Diabetes                             493\n",
              "Chronic Obstructive Pulmonary Disease       417\n",
              "Acute Renal Failure                         166\n",
              "Pyelonephritis                              166\n",
              "Type 2 Diabetes                             163\n",
              "Hemorrhagic Stroke                          152\n",
              "Hypertension                                108\n",
              "Care involving other physical therapy       107\n",
              "Embolic Stroke                              104\n",
              "Chronic Renal Failure                        89\n",
              "Chronic Congestive Heart Failure             87\n",
              "Myocardial Infarction                        63\n",
              "Left foot amputation status                  56\n",
              "Disarticulation of right shoulder status     38\n",
              "Disarticulation of right hip status          36\n",
              "Kidney Stones                                30\n",
              "Routine infant or child health check          6\n",
              "critical agony                                2\n",
              "critical hysteria                             1\n",
              "critical distress                             1\n",
              "Attn removal of sutures                       1\n",
              "Name: description, dtype: int64"
            ]
          },
          "metadata": {},
          "execution_count": 22
        }
      ]
    },
    {
      "cell_type": "markdown",
      "metadata": {
        "id": "KuoPpE_OAf4M"
      },
      "source": [
        "From the total counts for each unique value in the description column, we see that there are currently 22 diagnosis categories, where some have very few examples.  To create a more robust prediction model and reduce the number of output categories, we will combine all diagnoses with less than 100 examples into a single \"Other\" category."
      ]
    },
    {
      "cell_type": "code",
      "metadata": {
        "id": "1h-XN3k8RjCJ"
      },
      "source": [
        "# Replace all categories with less than 100 examples with \"Other\"\n",
        "df_merged.loc[df_merged['description'].isin(target_dist.index[target_dist < 100]), 'description'] = 'Other'"
      ],
      "execution_count": null,
      "outputs": []
    },
    {
      "cell_type": "code",
      "metadata": {
        "id": "iFETGsyhT9yg",
        "colab": {
          "base_uri": "https://localhost:8080/"
        },
        "outputId": "5e797634-8638-4760-8fcf-b7700a1ffeef"
      },
      "source": [
        "# Print the revised distribution of target variable\n",
        "df_merged['description'].value_counts()"
      ],
      "execution_count": null,
      "outputs": [
        {
          "output_type": "execute_result",
          "data": {
            "text/plain": [
              "General medical examination              582\n",
              "Type 1 Diabetes                          493\n",
              "Chronic Obstructive Pulmonary Disease    417\n",
              "Other                                    410\n",
              "Acute Renal Failure                      166\n",
              "Pyelonephritis                           166\n",
              "Type 2 Diabetes                          163\n",
              "Hemorrhagic Stroke                       152\n",
              "Hypertension                             108\n",
              "Care involving other physical therapy    107\n",
              "Embolic Stroke                           104\n",
              "Name: description, dtype: int64"
            ]
          },
          "metadata": {},
          "execution_count": 24
        }
      ]
    },
    {
      "cell_type": "markdown",
      "metadata": {
        "id": "P2TjwopXBz9E"
      },
      "source": [
        "We now have 11 categories in our output variable, shown in the distribution plot below."
      ]
    },
    {
      "cell_type": "code",
      "metadata": {
        "id": "gu_XlYDgUUgC",
        "colab": {
          "base_uri": "https://localhost:8080/",
          "height": 281
        },
        "outputId": "d12c09f2-0799-4b39-f269-14990e35662c"
      },
      "source": [
        "# Plot the distribution in a graph\n",
        "df_merged['description'].value_counts().sort_values(ascending=True).plot(kind='barh')\n",
        "plt.title(\"Distribution of target variable 'description'\")\n",
        "plt.show()"
      ],
      "execution_count": null,
      "outputs": [
        {
          "output_type": "display_data",
          "data": {
            "text/plain": [
              "<Figure size 432x288 with 1 Axes>"
            ],
            "image/png": "[encoded data removed]"
          },
          "metadata": {
            "needs_background": "light"
          }
        }
      ]
    },
    {
      "cell_type": "markdown",
      "metadata": {
        "id": "HFGN3_PY0Xfs"
      },
      "source": [
        "# Preprocess the data\n",
        "\n",
        "We will now prepare the data to be used as the input and output values to train our machine learning model."
      ]
    },
    {
      "cell_type": "markdown",
      "metadata": {
        "id": "bWS-9CYghiit"
      },
      "source": [
        "## Split into train and test sets\n",
        "\n",
        "First, we will split the dataset into two separate training and test sets.  The examples in the training set will be used to develop the model, and the examples in the test set will be used to evaluate the model's performance on unseen data (data that was not used as part of the training process).\n",
        "\n",
        "*Useful tip*: In this case study, we are using 75% of the records in the training set and 25% in the test set, but the train/test ratio can also be split 70/30 or 80/20 depending on the use case.  In general, you want to make sure that you have enough training examples to build a robust model, while partitioning off enough test examples to be used for calculating the final model performance."
      ]
    },
    {
      "cell_type": "code",
      "metadata": {
        "id": "cz9W2qTYhlwx",
        "colab": {
          "base_uri": "https://localhost:8080/"
        },
        "outputId": "87931eb6-1aff-4342-bbf0-2401bca4c4b9"
      },
      "source": [
        "from sklearn.model_selection import train_test_split\n",
        "\n",
        "# Define the input and output columns\n",
        "# \"X\" is often used to denote the input/features\n",
        "# \"y\" is often used to denote the output/target/label\n",
        "X = df_merged['SOAP_Note_transformed']\n",
        "y = df_merged['description']\n",
        "\n",
        "# Split the records in the dataset randomly into train (75%) and test sets (25%)\n",
        "X_train, X_test, y_train, y_test = train_test_split(X, y, test_size=0.25, random_state=42)\n",
        "print(f\"Number of examples in training set:\", len(X_train))\n",
        "print(f\"Number of examples in test set:\", len(X_test))"
      ],
      "execution_count": null,
      "outputs": [
        {
          "output_type": "stream",
          "name": "stdout",
          "text": [
            "Number of examples in training set: 2151\n",
            "Number of examples in test set: 717\n"
          ]
        }
      ]
    },
    {
      "cell_type": "markdown",
      "metadata": {
        "id": "GcCNqR54H5nH"
      },
      "source": [
        "We want to make sure that the distribution of output labels are similar within the training and test sets, so let's calculate the percentage of examples in each category within the train set (blue) and test set (orange) and compare them on a bar plot."
      ]
    },
    {
      "cell_type": "code",
      "metadata": {
        "id": "WezPZZAuHf0W",
        "colab": {
          "base_uri": "https://localhost:8080/",
          "height": 281
        },
        "outputId": "8e531e17-ba6b-444b-e744-626f14828f6a"
      },
      "source": [
        "# Plot the distribution of train and test labels\n",
        "train_labels = y_train.value_counts(normalize=True).sort_values(ascending=True).rename('train_labels')\n",
        "test_labels = y_test.value_counts(normalize=True).sort_values(ascending=True).rename('test_labels')\n",
        "\n",
        "# Concatenate the number of examples in the train and test labels\n",
        "label_counts = pd.concat([train_labels, test_labels], axis=1)\n",
        "\n",
        "# Plot the number of example in the train and test sets for each label category\n",
        "label_counts.plot(kind=\"barh\")\n",
        "plt.title(\"Distribution of labels in train vs test sets\")\n",
        "plt.show()"
      ],
      "execution_count": null,
      "outputs": [
        {
          "output_type": "display_data",
          "data": {
            "text/plain": [
              "<Figure size 432x288 with 1 Axes>"
            ],
            "image/png": "[encoded data removed]"
          },
          "metadata": {
            "needs_background": "light"
          }
        }
      ]
    },
    {
      "cell_type": "markdown",
      "metadata": {
        "id": "EwlfqJXyJ9pI"
      },
      "source": [
        "The categories in the target variables are similarly-distributed within the training and test sets."
      ]
    },
    {
      "cell_type": "markdown",
      "metadata": {
        "id": "2DgUbysNvvSg"
      },
      "source": [
        "## Encode labels\n",
        "\n",
        "The model training process expects the categorical output values to be in numerical format instead of text.  For example, instead of \"Hypertension\", the model is expecting the target to be class \"2\". Therefore, we will use the LabelEncoder class to encode each categorical value into a corresponding numerical value and save the new encodings in y_train_transformed and y_test_transformed."
      ]
    },
    {
      "cell_type": "code",
      "metadata": {
        "id": "jii8u61DvuYf",
        "colab": {
          "base_uri": "https://localhost:8080/"
        },
        "outputId": "cb377cdf-72da-4d4e-dd9f-b447cff7ba33"
      },
      "source": [
        "from sklearn import preprocessing\n",
        "\n",
        "# Initialize a LabelEncoder object\n",
        "le = preprocessing.LabelEncoder()\n",
        "\n",
        "# The fit() function takes the unique values in a column and encodes each one into a numerical label\n",
        "le.fit(df_merged['description'])\n",
        "\n",
        "# The transform() function formats and returns the corresponding numerical label\n",
        "y_train_transformed = le.transform(y_train)\n",
        "y_test_transformed = le.transform(y_test)\n",
        "\n",
        "# For example, let's take a look at the first three output variables and its corresponding label\n",
        "print(y_train[0:3].values)\n",
        "print(y_train_transformed[0:3])"
      ],
      "execution_count": null,
      "outputs": [
        {
          "output_type": "stream",
          "name": "stdout",
          "text": [
            "['Hypertension' 'Chronic Obstructive Pulmonary Disease'\n",
            " 'General medical examination']\n",
            "[6 2 4]\n"
          ]
        }
      ]
    },
    {
      "cell_type": "markdown",
      "metadata": {
        "id": "7lJ7o0AmMC5H"
      },
      "source": [
        "*Useful tip*: The inverse_transform() function takes in a list of numerical labels and returns the corresponding text label, which we will need at the end to convert our predicted categories back into human-readable text."
      ]
    },
    {
      "cell_type": "code",
      "metadata": {
        "id": "roY1-Aexxc3s",
        "colab": {
          "base_uri": "https://localhost:8080/"
        },
        "outputId": "aec983b9-ff3f-419b-d2c4-87a9a8ba7ca8"
      },
      "source": [
        "# Check that we can inverse transform the categorical values\n",
        "list(le.inverse_transform([2, 4, 6]))"
      ],
      "execution_count": null,
      "outputs": [
        {
          "output_type": "execute_result",
          "data": {
            "text/plain": [
              "['Chronic Obstructive Pulmonary Disease',\n",
              " 'General medical examination',\n",
              " 'Hypertension']"
            ]
          },
          "metadata": {},
          "execution_count": 29
        }
      ]
    },
    {
      "cell_type": "markdown",
      "metadata": {
        "id": "BloQQtA2hq63"
      },
      "source": [
        "## Tokenize text input\n",
        "\n",
        "An important aspect of NLP is \"Tokenization\", in which the input text is split into smaller units of individual phrases, sentences, words or parts of words.  These units are called \"tokens\", which are then further vectorized (converted into a numerical representation) so that they can be fed into a machine learning model.    \n",
        "\n",
        "*Useful tip*: Although there are many different machine learning algorithms, the current state-of-the-art algorithms for NLP are based on the Transformer architecture.  We will first install the dependencies needed to use the transformers package in Python, and then look at several examples of how text can be tokenized using built-in transformer methods."
      ]
    },
    {
      "cell_type": "code",
      "metadata": {
        "id": "Pmli8pidsohE",
        "colab": {
          "base_uri": "https://localhost:8080/"
        },
        "outputId": "aff0780a-0089-47bd-c776-9d663e4708c2"
      },
      "source": [
        "# Download and install the transformers package\n",
        "!pip install transformers"
      ],
      "execution_count": null,
      "outputs": [
        {
          "output_type": "stream",
          "name": "stdout",
          "text": [
            "Collecting transformers\n",
            "  Downloading transformers-4.17.0-py3-none-any.whl (3.8 MB)\n",
            "\u001b[K     |████████████████████████████████| 3.8 MB 4.7 MB/s \n",
            "\u001b[?25hCollecting pyyaml>=5.1\n",
            "  Downloading PyYAML-6.0-cp37-cp37m-manylinux_2_5_x86_64.manylinux1_x86_64.manylinux_2_12_x86_64.manylinux2010_x86_64.whl (596 kB)\n",
            "\u001b[K     |████████████████████████████████| 596 kB 48.6 MB/s \n",
            "\u001b[?25hCollecting tokenizers!=0.11.3,>=0.11.1\n",
            "  Downloading tokenizers-0.11.6-cp37-cp37m-manylinux_2_12_x86_64.manylinux2010_x86_64.whl (6.5 MB)\n",
            "\u001b[K     |████████████████████████████████| 6.5 MB 47.7 MB/s \n",
            "\u001b[?25hRequirement already satisfied: numpy>=1.17 in /usr/local/lib/python3.7/dist-packages (from transformers) (1.21.5)\n",
            "Requirement already satisfied: packaging>=20.0 in /usr/local/lib/python3.7/dist-packages (from transformers) (21.3)\n",
            "Requirement already satisfied: importlib-metadata in /usr/local/lib/python3.7/dist-packages (from transformers) (4.11.3)\n",
            "Collecting huggingface-hub<1.0,>=0.1.0\n",
            "  Downloading huggingface_hub-0.4.0-py3-none-any.whl (67 kB)\n",
            "\u001b[K     |████████████████████████████████| 67 kB 1.7 MB/s \n",
            "\u001b[?25hRequirement already satisfied: tqdm>=4.27 in /usr/local/lib/python3.7/dist-packages (from transformers) (4.63.0)\n",
            "Collecting sacremoses\n",
            "  Downloading sacremoses-0.0.49-py3-none-any.whl (895 kB)\n",
            "\u001b[K     |████████████████████████████████| 895 kB 59.1 MB/s \n",
            "\u001b[?25hRequirement already satisfied: requests in /usr/local/lib/python3.7/dist-packages (from transformers) (2.23.0)\n",
            "Requirement already satisfied: filelock in /usr/local/lib/python3.7/dist-packages (from transformers) (3.6.0)\n",
            "Requirement already satisfied: regex!=2019.12.17 in /usr/local/lib/python3.7/dist-packages (from transformers) (2019.12.20)\n",
            "Requirement already satisfied: typing-extensions>=3.7.4.3 in /usr/local/lib/python3.7/dist-packages (from huggingface-hub<1.0,>=0.1.0->transformers) (3.10.0.2)\n",
            "Requirement already satisfied: pyparsing!=3.0.5,>=2.0.2 in /usr/local/lib/python3.7/dist-packages (from packaging>=20.0->transformers) (3.0.7)\n",
            "Requirement already satisfied: zipp>=0.5 in /usr/local/lib/python3.7/dist-packages (from importlib-metadata->transformers) (3.7.0)\n",
            "Requirement already satisfied: idna<3,>=2.5 in /usr/local/lib/python3.7/dist-packages (from requests->transformers) (2.10)\n",
            "Requirement already satisfied: chardet<4,>=3.0.2 in /usr/local/lib/python3.7/dist-packages (from requests->transformers) (3.0.4)\n",
            "Requirement already satisfied: certifi>=2017.4.17 in /usr/local/lib/python3.7/dist-packages (from requests->transformers) (2021.10.8)\n",
            "Requirement already satisfied: urllib3!=1.25.0,!=1.25.1,<1.26,>=1.21.1 in /usr/local/lib/python3.7/dist-packages (from requests->transformers) (1.24.3)\n",
            "Requirement already satisfied: joblib in /usr/local/lib/python3.7/dist-packages (from sacremoses->transformers) (1.1.0)\n",
            "Requirement already satisfied: six in /usr/local/lib/python3.7/dist-packages (from sacremoses->transformers) (1.15.0)\n",
            "Requirement already satisfied: click in /usr/local/lib/python3.7/dist-packages (from sacremoses->transformers) (7.1.2)\n",
            "Installing collected packages: pyyaml, tokenizers, sacremoses, huggingface-hub, transformers\n",
            "  Attempting uninstall: pyyaml\n",
            "    Found existing installation: PyYAML 3.13\n",
            "    Uninstalling PyYAML-3.13:\n",
            "      Successfully uninstalled PyYAML-3.13\n",
            "Successfully installed huggingface-hub-0.4.0 pyyaml-6.0 sacremoses-0.0.49 tokenizers-0.11.6 transformers-4.17.0\n"
          ]
        }
      ]
    },
    {
      "cell_type": "markdown",
      "metadata": {
        "id": "oKD0FqSlQOHA"
      },
      "source": [
        "There are many publicly-available pretrained models based on the Transformer architecture.  \"Pre-trained\" means that the model has already been trained on a large corpus of text to learn the language structure and context of words within a document.  We will leverage one of these pretrained models and then fine-tune it during the training process to match our use case. You will often see these pretrained models referred to as \"BERT\", which stands for \"Bidrectional Encoder Representation from Transformers\". \n",
        "\n",
        "Let's import a few different pretrained BERT-based models to compare the output of the tokenization results.  The three BERT models we'll look at are:\n",
        "\n",
        "- Bio_ClinicalBERT (trained using clinical data)\n",
        "- SciBERT (trained using scientific data)\n",
        "- BERT (trained using regular text)"
      ]
    },
    {
      "cell_type": "code",
      "metadata": {
        "id": "apAyndipNjRs",
        "colab": {
          "base_uri": "https://localhost:8080/",
          "height": 241,
          "referenced_widgets": [
            "64e17e9fd8ce4ba1afdf1824bbdee2e4",
            "7d0b20a15c3042d088c41541ee188ad5",
            "2f959cd22e824f16b028f28eb8fd5752",
            "859358df426647dfb8c21038acad7f62",
            "6e77422bf1cf494a8bc2717c80a17bac",
            "4bc343427ffd41dcb182a7dd2339f50c",
            "3decce0ef18d4dca8d7ed02719d46d0c",
            "ed4d5a3f34c14f9e8b00c07613931d50",
            "0d5b270bf90b4d499c7be02b0ca13647",
            "e2bd568820794ad79d14d541d76cd756",
            "de48c0e068f948ee8dad6c7683dfd765",
            "537b9856e2534773bee92709979cff8c",
            "67956dc00a5c4975a2fe6ce6438a79e0",
            "bde1cfe662174adebd68bec544936f96",
            "fd1078fe3e644273b668be05889d5b1e",
            "4a06c828fa8a4d1183634c3ef2744776",
            "e6873953906541b2b409963eaf29be97",
            "e31826e7943b4c6284145201c4fb9ba3",
            "01b1edc6206d4d15a2774d8f743ea6da",
            "8f882da6b68343bcb17a0c3794be2864",
            "ff2bb0a4f169479fa2cac68bf7bdc651",
            "d3013f513b004fda9c38fd072ba07e54",
            "d6b955e6f27641fc8b710105cf9c9387",
            "26c7f28083c14487b361523774ad2eb5",
            "16e324106e6f42739bd26689dee92dff",
            "a1463792d75d46e78d4f6477c1c26ca3",
            "2d846c064e304f40b220c854ee51b51a",
            "e790e591cfd7400e99bc1ea1cd084f71",
            "cf77b4c8581f49dd8d87814eacb5e478",
            "014f9530dc734fd3930c9539f0bbfea1",
            "041dbe8a32bd4a0a9534fab59b018749",
            "aca564b184a146caa7eaa691a5b7a733",
            "e7d041f94b6b43d0b1eee6e8830d3e90",
            "94d44d6346ea4cf9aea84c5506f57107",
            "7eab7f9cf1ce4c9c9918912719f8312c",
            "6a4be72db2fd459daeff3d07bcf652b8",
            "4fbd6705e3604320a874226c1f78a313",
            "430565b083ee4e4c9bdba4670b8d0e36",
            "c2e6f8f17180453b948222422afe55a0",
            "94195053c1614721a5aed07f42a66c01",
            "29dac0274a254a44b06719c102558983",
            "14ed735c2c844b81bd614c251182577c",
            "5f01b72d8d23471cad08514d5850a920",
            "568a754343ca4fa6b533049225752e03",
            "cccdca27c2dc46a893c8ea32afe35993",
            "5c865097af14414289b8cbba1a484ab6",
            "fd3663386e844660b2ef689e59d90e69",
            "93bdfcc5bcd34a298f5a7451a8a77838",
            "8a7273d466984d758a4905e3ff0b2a06",
            "9d9262b0646441e6a6974ac424cc0e2f",
            "583bcc959c9346ad8c471aafe6a74598",
            "80e45daef41d40328b15044fa937ee64",
            "aa562913e83f4179ae87dd6b2d0b2703",
            "268763ba0b0a4a669325471966171886",
            "4388ce967bd449ae9a682b925b24bcb6",
            "583b3a4884ac43f4b242c20bcdcd985c",
            "c3058cdb36734a29a2aa8c5269bcd3c3",
            "7338607547904fa39edcca39b59427af",
            "858ce822e6d04e0cb74ba1f939bfc94d",
            "85b65130783b450191c30ead3b1a7043",
            "f19770aa2ad94aa58912c34125acde64",
            "33d9c2160dde4e0fa49fa4e1f860fa4f",
            "8380d097325947e09ad819fc0cd2f85b",
            "7e1da8e3ad934cbca4f80597b37823f6",
            "7f28507ab1de4326ba4c1e3ff065e6f7",
            "d10fb446f796466f9d851e1f8dcfe54d",
            "0d57350689c04cacb6ebdaff55cc34b0",
            "0992e93f278441b7b87e602cf49ef907",
            "2aa5cd7287da43d5b40c823124ead30e",
            "fc3be13455174a81b064532a3dd80594",
            "22b1979443d14d148996af021178d5f7",
            "dfe9ae31e95c43c7b3cfd8340c2c1657",
            "e06fb803cfe643c180decc1c592bab3e",
            "2ebc336e7a96448bb5dfd9a34a964100",
            "42bec2cfc9b94407aa29aa916c115fc9",
            "42f30fec2eb644f0b4b399734d1738c2",
            "1b35b5c15fca44c6a85915d27633f255"
          ]
        },
        "outputId": "790a7b7a-d22c-4fb3-bfd4-7c10f3942709"
      },
      "source": [
        "# Import transformers package and several pretrained BERT models for comparison\n",
        "from transformers import AutoTokenizer, BertTokenizer\n",
        "\n",
        "# Bio_ClinicalBERT\n",
        "bcbert_tokenizer = AutoTokenizer.from_pretrained(\"emilyalsentzer/Bio_ClinicalBERT\")\n",
        "\n",
        "# SciBERT\n",
        "scibert_tokenizer = AutoTokenizer.from_pretrained(\"allenai/scibert_scivocab_uncased\")\n",
        "\n",
        "# BERT\n",
        "bert_tokenizer = BertTokenizer.from_pretrained('bert-base-uncased')\n"
      ],
      "execution_count": null,
      "outputs": [
        {
          "output_type": "display_data",
          "data": {
            "text/plain": [
              "Downloading:   0%|          | 0.00/385 [00:00<?, ?B/s]"
            ],
            "application/vnd.jupyter.widget-view+json": {
              "version_major": 2,
              "version_minor": 0,
              "model_id": "64e17e9fd8ce4ba1afdf1824bbdee2e4"
            }
          },
          "metadata": {}
        },
        {
          "output_type": "display_data",
          "data": {
            "text/plain": [
              "Downloading:   0%|          | 0.00/208k [00:00<?, ?B/s]"
            ],
            "application/vnd.jupyter.widget-view+json": {
              "version_major": 2,
              "version_minor": 0,
              "model_id": "537b9856e2534773bee92709979cff8c"
            }
          },
          "metadata": {}
        },
        {
          "output_type": "display_data",
          "data": {
            "text/plain": [
              "Downloading:   0%|          | 0.00/385 [00:00<?, ?B/s]"
            ],
            "application/vnd.jupyter.widget-view+json": {
              "version_major": 2,
              "version_minor": 0,
              "model_id": "d6b955e6f27641fc8b710105cf9c9387"
            }
          },
          "metadata": {}
        },
        {
          "output_type": "display_data",
          "data": {
            "text/plain": [
              "Downloading:   0%|          | 0.00/223k [00:00<?, ?B/s]"
            ],
            "application/vnd.jupyter.widget-view+json": {
              "version_major": 2,
              "version_minor": 0,
              "model_id": "94d44d6346ea4cf9aea84c5506f57107"
            }
          },
          "metadata": {}
        },
        {
          "output_type": "display_data",
          "data": {
            "text/plain": [
              "Downloading:   0%|          | 0.00/226k [00:00<?, ?B/s]"
            ],
            "application/vnd.jupyter.widget-view+json": {
              "version_major": 2,
              "version_minor": 0,
              "model_id": "cccdca27c2dc46a893c8ea32afe35993"
            }
          },
          "metadata": {}
        },
        {
          "output_type": "display_data",
          "data": {
            "text/plain": [
              "Downloading:   0%|          | 0.00/28.0 [00:00<?, ?B/s]"
            ],
            "application/vnd.jupyter.widget-view+json": {
              "version_major": 2,
              "version_minor": 0,
              "model_id": "583b3a4884ac43f4b242c20bcdcd985c"
            }
          },
          "metadata": {}
        },
        {
          "output_type": "display_data",
          "data": {
            "text/plain": [
              "Downloading:   0%|          | 0.00/570 [00:00<?, ?B/s]"
            ],
            "application/vnd.jupyter.widget-view+json": {
              "version_major": 2,
              "version_minor": 0,
              "model_id": "0d57350689c04cacb6ebdaff55cc34b0"
            }
          },
          "metadata": {}
        }
      ]
    },
    {
      "cell_type": "markdown",
      "metadata": {
        "id": "thh7IebjbjPU"
      },
      "source": [
        "### Tokenization examples\n",
        "\n",
        "In the previous step, we downloaded several different BERT-based models.  In this step, we will see how the tokenize() function in each of these pretrained models can be used to split the text in one of the SOAP notes into smaller units."
      ]
    },
    {
      "cell_type": "code",
      "metadata": {
        "id": "hWtZdgeD0vX8",
        "colab": {
          "base_uri": "https://localhost:8080/"
        },
        "outputId": "0b53465c-a0f9-459b-bff4-dae0907ef5b3"
      },
      "source": [
        "# Extract sample text to be used for tokenization\n",
        "text = df_merged['SOAP_Note_transformed'][0]\n",
        "print(\"Text:\", wrap(text, 100), \"\\n\")\n",
        "\n",
        "# Split the text into tokens, with Bio_ClinicalBERT, BERT and SciBERT.\n",
        "bcbert_tokens = bcbert_tokenizer.tokenize(text)\n",
        "scibert_tokens = scibert_tokenizer.tokenize(text)\n",
        "bert_tokens = bert_tokenizer.tokenize(text)\n",
        "\n",
        "# Pad out the shorter lists to be the same length for display purposes\n",
        "while len(scibert_tokens) < len(bcbert_tokens):\n",
        "    scibert_tokens.append(\"\")\n",
        "while len(bert_tokens) < len(bcbert_tokens):\n",
        "    bert_tokens.append(\"\")\n",
        "\n",
        "# Label the columns\n",
        "print('{:<12} {:<12} {:<12}'.format(\"BC_BERT\", \"SciBERT\", \"BERT\"))\n",
        "print('{:<12} {:<12} {:<12}'.format(\"-------\", \"-------\", \"----\"))\n",
        "\n",
        "# Display the tokens\n",
        "for tup in zip(bcbert_tokens, scibert_tokens, bert_tokens):\n",
        "    print('{:<12} {:<12} {:<12}'.format(tup[0], tup[1], tup[2]))"
      ],
      "execution_count": null,
      "outputs": [
        {
          "output_type": "stream",
          "name": "stdout",
          "text": [
            "Text: s : a 33 year old female crystallographer presents with mild spells of vertigo , mild headaches\n",
            "particularly at the back of the head and in the morning x 2 weeks . pt also reports chronic mild\n",
            "occasional lightheadedness . o : height 160 cm , weight 53 . 8 kg , temperature 37 . 3 c , pulse 76\n",
            ", systolicbp 146 , diastolicbp 93 , respiration 15 , heart = 2 / 6 systolic murmur at base of heart\n",
            ", chest = clear to auscultation b / l , no rales or wheezing , extremities = no edema or clubbing ,\n",
            "heart = normal s1 , s2 , rrr a : p : performed e / m level 2 ( established patient ) - completed ,\n",
            "and prescribed hydrochlorothiazide - 50 mg po qd , and ordered cholesterol . \n",
            "\n",
            "BC_BERT      SciBERT      BERT        \n",
            "-------      -------      ----        \n",
            "s            s            s           \n",
            ":            :            :           \n",
            "a            a            a           \n",
            "33           33           33          \n",
            "year         year         year        \n",
            "old          old          old         \n",
            "female       female       female      \n",
            "crystal      crystall     crystal     \n",
            "##log        ##ograph     ##log       \n",
            "##rap        ##er         ##raph      \n",
            "##her        presents     ##er        \n",
            "presents     with         presents    \n",
            "with         mild         with        \n",
            "mild         spe          mild        \n",
            "spells       ##ll         spells      \n",
            "of           ##s          of          \n",
            "ve           of           vertigo     \n",
            "##rt         ver          ,           \n",
            "##igo        ##tig        mild        \n",
            ",            ##o          headache    \n",
            "mild         ,            ##s         \n",
            "headache     mild         particularly\n",
            "##s          headache     at          \n",
            "particularly ##s          the         \n",
            "at           particularly back        \n",
            "the          at           of          \n",
            "back         the          the         \n",
            "of           back         head        \n",
            "the          of           and         \n",
            "head         the          in          \n",
            "and          head         the         \n",
            "in           and          morning     \n",
            "the          in           x           \n",
            "morning      the          2           \n",
            "x            morning      weeks       \n",
            "2            x            .           \n",
            "weeks        2            pt          \n",
            ".            weeks        also        \n",
            "p            .            reports     \n",
            "##t          pt           chronic     \n",
            "also         also         mild        \n",
            "reports      reports      occasional  \n",
            "chronic      chronic      light       \n",
            "mild         mild         ##head      \n",
            "occasional   occasional   ##ed        \n",
            "light        light        ##ness      \n",
            "##headed     ##head       .           \n",
            "##ness       ##ed         o           \n",
            ".            ##ness       :           \n",
            "o            .            height      \n",
            ":            o            160         \n",
            "height       :            cm          \n",
            "160          height       ,           \n",
            "cm           160          weight      \n",
            ",            cm           53          \n",
            "weight       ,            .           \n",
            "53           weight       8           \n",
            ".            53           kg          \n",
            "8            .            ,           \n",
            "kg           8            temperature \n",
            ",            kg           37          \n",
            "temperature  ,            .           \n",
            "37           temperature  3           \n",
            ".            37           c           \n",
            "3            .            ,           \n",
            "c            3            pulse       \n",
            ",            c            76          \n",
            "pulse        ,            ,           \n",
            "76           pulse        sy          \n",
            ",            76           ##sto       \n",
            "s            ,            ##lic       \n",
            "##ys         systolic     ##b         \n",
            "##to         ##bp         ##p         \n",
            "##lic        146          146         \n",
            "##b          ,            ,           \n",
            "##p          diastolic    dia         \n",
            "146          ##bp         ##sto       \n",
            ",            93           ##lic       \n",
            "di           ,            ##b         \n",
            "##ast        respiration  ##p         \n",
            "##olic       15           93          \n",
            "##b          ,            ,           \n",
            "##p          heart        res         \n",
            "93           =            ##piration  \n",
            ",            2            15          \n",
            "re           /            ,           \n",
            "##spiration  6            heart       \n",
            "15           systolic     =           \n",
            ",            mur          2           \n",
            "heart        ##mur        /           \n",
            "=            at           6           \n",
            "2            base         sy          \n",
            "/            of           ##sto       \n",
            "6            heart        ##lic       \n",
            "s            ,            murmur      \n",
            "##ys         chest        at          \n",
            "##to         =            base        \n",
            "##lic        clear        of          \n",
            "murmur       to           heart       \n",
            "at           aus          ,           \n",
            "base         ##cult       chest       \n",
            "of           ##ation      =           \n",
            "heart        b            clear       \n",
            ",            /            to          \n",
            "chest        l            aus         \n",
            "=            ,            ##cu        \n",
            "clear        no           ##lta       \n",
            "to           ral          ##tion      \n",
            "au           ##es         b           \n",
            "##s          or           /           \n",
            "##cu         whe          l           \n",
            "##lta        ##ez         ,           \n",
            "##tion       ##ing        no          \n",
            "b            ,            ra          \n",
            "/            extremities  ##les       \n",
            "l            =            or          \n",
            ",            no           w           \n",
            "no           edema        ##hee       \n",
            "r            or           ##zing      \n",
            "##ales       club         ,           \n",
            "or           ##bing       ex          \n",
            "w            ,            ##tre       \n",
            "##hee        heart        ##mit       \n",
            "##zing       =            ##ies       \n",
            ",            normal       =           \n",
            "ex           s            no          \n",
            "##tre        ##1          ed          \n",
            "##mit        ,            ##ema       \n",
            "##ies        s            or          \n",
            "=            ##2          club        \n",
            "no           ,            ##bing      \n",
            "ed           rr           ,           \n",
            "##ema        ##r          heart       \n",
            "or           a            =           \n",
            "club         :            normal      \n",
            "##bing       p            s           \n",
            ",            :            ##1         \n",
            "heart        performed    ,           \n",
            "=            e            s           \n",
            "normal       /            ##2         \n",
            "s            m            ,           \n",
            "##1          level        rr          \n",
            ",            2            ##r         \n",
            "s            (            a           \n",
            "##2          established  :           \n",
            ",            patient      p           \n",
            "r            )            :           \n",
            "##rr         -            performed   \n",
            "a            completed    e           \n",
            ":            ,            /           \n",
            "p            and          m           \n",
            ":            prescribed   level       \n",
            "performed    hydrochlor   2           \n",
            "e            ##othi       (           \n",
            "/            ##azi        established \n",
            "m            ##de         patient     \n",
            "level        -            )           \n",
            "2            50           -           \n",
            "(            mg           completed   \n",
            "established  po           ,           \n",
            "patient      qd           and         \n",
            ")            ,            prescribed  \n",
            "-            and          hydro       \n",
            "completed    ordered      ##ch        \n",
            ",            cholesterol  ##lor       \n",
            "and          .            ##oth       \n",
            "prescribed                ##ia        \n",
            "h                         ##zi        \n",
            "##ydro                    ##de        \n",
            "##ch                      -           \n",
            "##lor                     50          \n",
            "##oth                     mg          \n",
            "##ia                      po          \n",
            "##zi                      q           \n",
            "##de                      ##d         \n",
            "-                         ,           \n",
            "50                        and         \n",
            "mg                        ordered     \n",
            "p                         cho         \n",
            "##o                       ##les       \n",
            "q                         ##terol     \n",
            "##d                       .           \n",
            ",                                     \n",
            "and                                   \n",
            "ordered                               \n",
            "ch                                    \n",
            "##ole                                 \n",
            "##ster                                \n",
            "##ol                                  \n",
            ".                                     \n"
          ]
        }
      ]
    },
    {
      "cell_type": "markdown",
      "metadata": {
        "id": "Bz9jR1_-XTX4"
      },
      "source": [
        "As you can see, the tokenizer is able to split the text not only into individual words and punctuations, but also into parts of words.  The reason why we might want to split up a single words into separate parts is so that the training process can focus on the root of each word, like \"headache\" instead of \"headaches\", or the \"crystal\" part of \"crystallographer\".  \n",
        "\n",
        "Overall, the output of all three BERT models are similar, so we will use the standard BERT model for our training process."
      ]
    },
    {
      "cell_type": "markdown",
      "metadata": {
        "id": "V-PiVHu5b94k"
      },
      "source": [
        "### Function to encode all text\n",
        "\n",
        "This function tokenizes and encodes an entire text corpus into the expected input format for a BERT-based model.  \n",
        "\n",
        "Return: Three arrays consisting of the tokens, masks and segments processed from the text."
      ]
    },
    {
      "cell_type": "code",
      "metadata": {
        "id": "ybM7AsEBcGRc"
      },
      "source": [
        "# Tokenize and encode text\n",
        "def bert_encode(texts, tokenizer, max_len=512):\n",
        "  all_tokens = []\n",
        "  all_masks = []\n",
        "  all_segments = []\n",
        "    \n",
        "  for text in texts:\n",
        "    # Tokenize the text\n",
        "    text = tokenizer.tokenize(text)\n",
        "            \n",
        "    # Preprocess the text sequences to denote the start and end of text sequences\n",
        "    text = text[:max_len-2]\n",
        "    input_sequence = [\"[CLS]\"] + text + [\"[SEP]\"]\n",
        "    pad_len = max_len - len(input_sequence)\n",
        "    \n",
        "    # Convert tokens into numerical sequences\n",
        "    # Masks are special \"hidden\" tokens that are used as part of the training process\n",
        "    # Segments IDs are used to denote separate sentence embeddings\n",
        "    tokens = tokenizer.convert_tokens_to_ids(input_sequence) + [0] * pad_len\n",
        "    pad_masks = [1] * len(input_sequence) + [0] * pad_len\n",
        "    segment_ids = [0] * max_len\n",
        "    \n",
        "    # Accumulate the tokens, masks and segments in the text encoding process\n",
        "    all_tokens.append(tokens)\n",
        "    all_masks.append(pad_masks)\n",
        "    all_segments.append(segment_ids)\n",
        "    \n",
        "  # Return three arrays consisting of the tokens, masks and segments processed from the text\n",
        "  # These arrays will be the input to our BERT-based training model\n",
        "  return np.array(all_tokens), np.array(all_masks), np.array(all_segments)"
      ],
      "execution_count": null,
      "outputs": []
    },
    {
      "cell_type": "markdown",
      "metadata": {
        "id": "rZ-qd3fT0-Qk"
      },
      "source": [
        "# Train model\n",
        "\n",
        "We are now ready to start training our model!  First, we will define the model structure, format the input and output values to match what is expected in the BERT model, and then build and train the model to see how well it can predict the diagnosis category from a patient's medical notes.\n",
        "\n",
        "*Useful tip*: To train this model, we are using a machine learning concept called \"Transfer Learning\".  This means that we are using the pretrained weights in the standard BERT model as a base to help understand the underlying language structure and then adding a small neural network at the end to perform the actual classification tasks specific to our use case.  "
      ]
    },
    {
      "cell_type": "markdown",
      "metadata": {
        "id": "HKY5yVZ4oeli"
      },
      "source": [
        "## Define model structure\n",
        "\n",
        "This function defines the model structure with a BERT base model and a 2-layer neural net to perform the classification task, resulting in an output representing how likely the input text corresponds to each one of the eleven output classes.\n",
        "\n",
        "*Useful tip*: In our example, we are using the open-source TensorFlow platform, created by the Google Brain team, to train a neural network.  Another popular option for training neural networks is PyTorch, which is also an open-source platform created at Facebook's AI Research lab."
      ]
    },
    {
      "cell_type": "code",
      "metadata": {
        "id": "iMFe9qeKSZIe"
      },
      "source": [
        "def build_model(bert_layer, max_len=512):\n",
        "  \n",
        "  # Define the expected structure of the inputs to the model\n",
        "  input_word_ids = tf.keras.Input(shape=(max_len,), dtype=tf.int32, name=\"input_word_ids\")\n",
        "  input_mask = tf.keras.Input(shape=(max_len,), dtype=tf.int32, name=\"input_mask\")\n",
        "  segment_ids = tf.keras.Input(shape=(max_len,), dtype=tf.int32, name=\"segment_ids\")\n",
        "\n",
        "  # Define the BERT pretrained model as the base layer\n",
        "  pooled_output, sequence_output = bert_layer([input_word_ids, input_mask, segment_ids])\n",
        "\n",
        "  # Add a 2-layer neural net to output the likelihood of the input matching each of the output labels\n",
        "  clf_output = sequence_output[:, 0, :]\n",
        "  net = tf.keras.layers.Dense(64, activation='relu')(clf_output)\n",
        "  net = tf.keras.layers.Dropout(0.2)(net)\n",
        "  net = tf.keras.layers.Dense(32, activation='relu')(net)\n",
        "  net = tf.keras.layers.Dropout(0.2)(net)\n",
        "  out = tf.keras.layers.Dense(11, activation='softmax')(net)\n",
        "\n",
        "  # Return the model structure\n",
        "  model = tf.keras.models.Model(inputs=[input_word_ids, input_mask, segment_ids], outputs=out)\n",
        "\n",
        "  # Define hyperparameters to customize and optimize the model training process\n",
        "  model.compile(tf.keras.optimizers.Adam(learning_rate=1e-5), loss='categorical_crossentropy', metrics=['accuracy'])\n",
        "\n",
        "  return model"
      ],
      "execution_count": null,
      "outputs": []
    },
    {
      "cell_type": "markdown",
      "metadata": {
        "id": "fnMlnH_FosAU"
      },
      "source": [
        "## Process model inputs\n",
        "\n",
        "Format the input and output values to match the BERT model.\n",
        "\n",
        "- Transform the text input into encoded tokens\n",
        "- Transform the output labels into a categorical matrix format\n",
        "\n"
      ]
    },
    {
      "cell_type": "code",
      "metadata": {
        "id": "TcUyKVMNowOr"
      },
      "source": [
        "# The max length is the maximum sequence length to be used for training.\n",
        "# BERT can handle up to 512 words in a sequence, but due to resource constraints,\n",
        "# we will restrict the maximum sequence length to 150 words.\n",
        "max_len = 150\n",
        "\n",
        "# Encode the input text\n",
        "train_input = bert_encode(X_train.values, bcbert_tokenizer, max_len=max_len)\n",
        "test_input = bert_encode(X_test.values, bcbert_tokenizer, max_len=max_len)\n",
        "\n",
        "# Reformat the output labels\n",
        "train_labels = tf.keras.utils.to_categorical(y_train_transformed, num_classes=11)\n",
        "test_labels = tf.keras.utils.to_categorical(y_test_transformed, num_classes=11)"
      ],
      "execution_count": null,
      "outputs": []
    },
    {
      "cell_type": "markdown",
      "metadata": {
        "id": "ov2nWnohpOdM"
      },
      "source": [
        "## Build model\n",
        "\n",
        "Download the base BERT model from TensorFlow Hub and build the model.  In the summary below, you can see that this model expects three inputs in the InputLayer corresponding to the preprocessed token, mask and segment arrays, followed by a Keras Layer which is the output of the base BERT model.  This output is then passed into our custom-defined 2-layer neural net with a final output of eleven nodes corresponding to the eleven possible diagnosis categories.  The value in each of the output nodes represents the model's prediction on how likely the input text matches a specific diagnosis."
      ]
    },
    {
      "cell_type": "code",
      "metadata": {
        "id": "-zwDq3FvpFOU",
        "colab": {
          "base_uri": "https://localhost:8080/"
        },
        "outputId": "2db03ef2-8b34-4ff2-f667-6729eeefec8c"
      },
      "source": [
        "import tensorflow_hub as hub\n",
        "\n",
        "# Download the base BERT model from TensorFlow Hub\n",
        "module_url = 'https://tfhub.dev/tensorflow/bert_en_uncased_L-12_H-768_A-12/2'\n",
        "bert_layer = hub.KerasLayer(module_url, trainable=True)\n",
        "\n",
        "# Build and display the model structure\n",
        "model = build_model(bert_layer, max_len=max_len)\n",
        "model.summary()"
      ],
      "execution_count": null,
      "outputs": [
        {
          "output_type": "stream",
          "name": "stdout",
          "text": [
            "Model: \"model\"\n",
            "__________________________________________________________________________________________________\n",
            " Layer (type)                   Output Shape         Param #     Connected to                     \n",
            "==================================================================================================\n",
            " input_word_ids (InputLayer)    [(None, 150)]        0           []                               \n",
            "                                                                                                  \n",
            " input_mask (InputLayer)        [(None, 150)]        0           []                               \n",
            "                                                                                                  \n",
            " segment_ids (InputLayer)       [(None, 150)]        0           []                               \n",
            "                                                                                                  \n",
            " keras_layer (KerasLayer)       [(None, 768),        109482241   ['input_word_ids[0][0]',         \n",
            "                                 (None, 150, 768)]                'input_mask[0][0]',             \n",
            "                                                                  'segment_ids[0][0]']            \n",
            "                                                                                                  \n",
            " tf.__operators__.getitem (Slic  (None, 768)         0           ['keras_layer[0][1]']            \n",
            " ingOpLambda)                                                                                     \n",
            "                                                                                                  \n",
            " dense (Dense)                  (None, 64)           49216       ['tf.__operators__.getitem[0][0]'\n",
            "                                                                 ]                                \n",
            "                                                                                                  \n",
            " dropout (Dropout)              (None, 64)           0           ['dense[0][0]']                  \n",
            "                                                                                                  \n",
            " dense_1 (Dense)                (None, 32)           2080        ['dropout[0][0]']                \n",
            "                                                                                                  \n",
            " dropout_1 (Dropout)            (None, 32)           0           ['dense_1[0][0]']                \n",
            "                                                                                                  \n",
            " dense_2 (Dense)                (None, 11)           363         ['dropout_1[0][0]']              \n",
            "                                                                                                  \n",
            "==================================================================================================\n",
            "Total params: 109,533,900\n",
            "Trainable params: 109,533,899\n",
            "Non-trainable params: 1\n",
            "__________________________________________________________________________________________________\n"
          ]
        }
      ]
    },
    {
      "cell_type": "markdown",
      "metadata": {
        "id": "E1f3i_qFtJJk"
      },
      "source": [
        "## Run model\n",
        "\n",
        "We will now run the model using the model.fit() method.  Each iteration, or epoch, of the training process will look at all the training examples and adjust the internal weights in the neural network model to reduce the amount of error in the prediction.  We will do ten passes in this training example, but feel free to increase or decrease the number of epochs to see its effect on performance.\n",
        "\n",
        "To track the improvement in performance, the training process will calculate the accuracy score using a validation set that is automatically generated from 20% of the input data.  \n",
        "\n",
        "Finally, the training process will compare whether the validation accuracy score has improved from the previous iterations, and if so, the model parameters will be saved.  This is done because a model can potentially be \"overtrained\", in which case its performance will actually start decreasing, so we want to stop at the point where the model has the best performance and remember those parameters. \n",
        "\n",
        "*Note*: This section may take 5-10 minutes to run."
      ]
    },
    {
      "cell_type": "code",
      "metadata": {
        "id": "SENduH3stPN8",
        "colab": {
          "base_uri": "https://localhost:8080/"
        },
        "outputId": "8250f3c1-22fc-4808-d79d-3a85e6c63b8d"
      },
      "source": [
        "# Train the model using BERT as the pretrained layer\n",
        "num_epochs = 10\n",
        "checkpoint = tf.keras.callbacks.ModelCheckpoint('model.h5', monitor='val_accuracy', save_best_only=True, verbose=1)\n",
        "earlystopping = tf.keras.callbacks.EarlyStopping(monitor='val_accuracy', patience=5, verbose=1)\n",
        "\n",
        "train_history = model.fit(\n",
        "    train_input, train_labels, \n",
        "    validation_split=0.2,\n",
        "    epochs=num_epochs,\n",
        "    callbacks=[checkpoint, earlystopping],\n",
        "    batch_size=32,\n",
        "    verbose=1)"
      ],
      "execution_count": null,
      "outputs": [
        {
          "output_type": "stream",
          "name": "stdout",
          "text": [
            "Epoch 1/10\n",
            "54/54 [==============================] - ETA: 0s - loss: 2.1977 - accuracy: 0.2372\n",
            "Epoch 1: val_accuracy improved from -inf to 0.55220, saving model to model.h5\n",
            "54/54 [==============================] - 56s 763ms/step - loss: 2.1977 - accuracy: 0.2372 - val_loss: 1.6942 - val_accuracy: 0.5522\n",
            "Epoch 2/10\n",
            "54/54 [==============================] - ETA: 0s - loss: 1.6463 - accuracy: 0.5105\n",
            "Epoch 2: val_accuracy improved from 0.55220 to 0.66589, saving model to model.h5\n",
            "54/54 [==============================] - 40s 751ms/step - loss: 1.6463 - accuracy: 0.5105 - val_loss: 1.1502 - val_accuracy: 0.6659\n",
            "Epoch 3/10\n",
            "54/54 [==============================] - ETA: 0s - loss: 1.2818 - accuracy: 0.6012\n",
            "Epoch 3: val_accuracy improved from 0.66589 to 0.77262, saving model to model.h5\n",
            "54/54 [==============================] - 40s 750ms/step - loss: 1.2818 - accuracy: 0.6012 - val_loss: 0.8967 - val_accuracy: 0.7726\n",
            "Epoch 4/10\n",
            "54/54 [==============================] - ETA: 0s - loss: 1.0449 - accuracy: 0.6895\n",
            "Epoch 4: val_accuracy improved from 0.77262 to 0.84223, saving model to model.h5\n",
            "54/54 [==============================] - 40s 750ms/step - loss: 1.0449 - accuracy: 0.6895 - val_loss: 0.7212 - val_accuracy: 0.8422\n",
            "Epoch 5/10\n",
            "54/54 [==============================] - ETA: 0s - loss: 0.8382 - accuracy: 0.7645\n",
            "Epoch 5: val_accuracy did not improve from 0.84223\n",
            "54/54 [==============================] - 36s 659ms/step - loss: 0.8382 - accuracy: 0.7645 - val_loss: 0.6274 - val_accuracy: 0.8399\n",
            "Epoch 6/10\n",
            "54/54 [==============================] - ETA: 0s - loss: 0.7227 - accuracy: 0.8023\n",
            "Epoch 6: val_accuracy improved from 0.84223 to 0.86543, saving model to model.h5\n",
            "54/54 [==============================] - 40s 749ms/step - loss: 0.7227 - accuracy: 0.8023 - val_loss: 0.5376 - val_accuracy: 0.8654\n",
            "Epoch 7/10\n",
            "54/54 [==============================] - ETA: 0s - loss: 0.6265 - accuracy: 0.8285\n",
            "Epoch 7: val_accuracy did not improve from 0.86543\n",
            "54/54 [==============================] - 36s 658ms/step - loss: 0.6265 - accuracy: 0.8285 - val_loss: 0.5056 - val_accuracy: 0.8585\n",
            "Epoch 8/10\n",
            "54/54 [==============================] - ETA: 0s - loss: 0.5570 - accuracy: 0.8366\n",
            "Epoch 8: val_accuracy improved from 0.86543 to 0.86775, saving model to model.h5\n",
            "54/54 [==============================] - 40s 749ms/step - loss: 0.5570 - accuracy: 0.8366 - val_loss: 0.4707 - val_accuracy: 0.8677\n",
            "Epoch 9/10\n",
            "54/54 [==============================] - ETA: 0s - loss: 0.5186 - accuracy: 0.8616\n",
            "Epoch 9: val_accuracy improved from 0.86775 to 0.87239, saving model to model.h5\n",
            "54/54 [==============================] - 40s 751ms/step - loss: 0.5186 - accuracy: 0.8616 - val_loss: 0.4432 - val_accuracy: 0.8724\n",
            "Epoch 10/10\n",
            "54/54 [==============================] - ETA: 0s - loss: 0.4525 - accuracy: 0.8686\n",
            "Epoch 10: val_accuracy did not improve from 0.87239\n",
            "54/54 [==============================] - 35s 658ms/step - loss: 0.4525 - accuracy: 0.8686 - val_loss: 0.4616 - val_accuracy: 0.8608\n"
          ]
        }
      ]
    },
    {
      "cell_type": "markdown",
      "metadata": {
        "id": "DepjTOOrQgJS"
      },
      "source": [
        "## Graph training progress\n",
        "\n",
        "Visualize the training process by plotting progressive decrease in loss and increase in accuracy over the number of epochs, for both the training and validation sets."
      ]
    },
    {
      "cell_type": "code",
      "metadata": {
        "id": "nwnyMKT0B2yQ",
        "colab": {
          "base_uri": "https://localhost:8080/",
          "height": 573
        },
        "outputId": "cb2daba8-1f7e-4546-ec64-8b9da3326048"
      },
      "source": [
        "# Define a function to display graphs comparing the train and validation loss and accuracy\n",
        "def showGraphs(history):\n",
        "\n",
        "  # Extract the accuracy and loss values from the history object\n",
        "  history_dict = history.history\n",
        "  \n",
        "  acc = history.history['accuracy']\n",
        "  val_acc = history.history['val_accuracy']\n",
        "  loss = history.history['loss']\n",
        "  val_loss = history.history['val_loss']\n",
        "\n",
        "  # Define the number of epochs to be used in the plot\n",
        "  epochs = range(1, len(acc) + 1)\n",
        "\n",
        "  # Construct and show the graph comparing the change in loss between \n",
        "  # the training and validation sets over epochs\n",
        "  plt.plot(epochs, loss, 'bo', label='Training loss')\n",
        "  plt.plot(epochs, val_loss, 'b', label='Validation loss')\n",
        "  plt.xticks(range(1,num_epochs+1,1))\n",
        "  plt.title('Training and validation loss')\n",
        "  plt.xlabel('Epochs')\n",
        "  plt.ylabel('Loss')\n",
        "  plt.legend()\n",
        "  plt.show()\n",
        "\n",
        "  plt.clf()   # clear figure\n",
        "  acc_values = history_dict['accuracy']\n",
        "  val_acc_values = history_dict['val_accuracy']\n",
        "\n",
        "  # Construct and show the graph comparing the change in accuracy between\n",
        "  # the training and validation sets over epochs\n",
        "  plt.plot(epochs, acc, 'bo', label='Training acc')\n",
        "  plt.plot(epochs, val_acc, 'b', label='Validation acc')\n",
        "  plt.xticks(range(1,num_epochs+1,1))\n",
        "  plt.title('Training and validation accuracy')\n",
        "  plt.xlabel('Epochs')\n",
        "  plt.ylabel('Accuracy')\n",
        "  plt.legend()\n",
        "  plt.show()\n",
        "\n",
        "# Compare train and validation loss and accuracy over epochs\n",
        "showGraphs(train_history)"
      ],
      "execution_count": null,
      "outputs": [
        {
          "output_type": "display_data",
          "data": {
            "text/plain": [
              "<Figure size 432x288 with 1 Axes>"
            ],
            "image/png": "[encoded data removed]"
          },
          "metadata": {
            "needs_background": "light"
          }
        },
        {
          "output_type": "display_data",
          "data": {
            "text/plain": [
              "<Figure size 432x288 with 1 Axes>"
            ],
            "image/png": "[encoded data removed]"
          },
          "metadata": {
            "needs_background": "light"
          }
        }
      ]
    },
    {
      "cell_type": "markdown",
      "metadata": {
        "id": "1LSo4-mc1D5s"
      },
      "source": [
        "# Evaluate model\n",
        "\n",
        "Congratulations, you've succesfully trained a machine learning model that can be used to predict a patient's diagnosis from SOAP notes!  Now we have to evaluate the performance of the model on the test set.  Remember that this test set was partitioned out from the entire dataset so the examples in this test set have not been used in the training process."
      ]
    },
    {
      "cell_type": "markdown",
      "metadata": {
        "id": "Qo6uhCYR6jVy"
      },
      "source": [
        "## Accuracy score on test set\n",
        "\n",
        "To calculate the model performance on the test set, we will pass the input text examples from the test set into the model and ask it to predict the diagnosis class for each input.  Out of the eleven possible classes, the actual predicted value will be the class that has the highest likelihood based on the predicted values.  This set of predicted values (y_pred) will then be compared to the actual labels in the test set (y_true) to calculate the overall accuracy score."
      ]
    },
    {
      "cell_type": "code",
      "metadata": {
        "id": "0HKZHGvGSkeU",
        "colab": {
          "base_uri": "https://localhost:8080/"
        },
        "outputId": "4b3e845b-96dc-45d8-8de4-5486195650b1"
      },
      "source": [
        "from sklearn.metrics import accuracy_score\n",
        "\n",
        "# Load the parameters from the last saved model\n",
        "model.load_weights('model.h5')\n",
        "\n",
        "# Make a prediction on each of the inputs in the test set\n",
        "predictions = model.predict(test_input)\n",
        "\n",
        "# Define a y_pred array containing the model's \"best prediction\" for each given input\n",
        "y_pred = np.argmax(predictions, axis=1)\n",
        "\n",
        "# Define a y_true array containing the actual labels for each input in the test set\n",
        "y_true = y_test_transformed\n",
        "\n",
        "# Calculate accuracy score on the test set by comparing the true vs predicted values\n",
        "test_acc = accuracy_score(y_true, y_pred)\n",
        "print(f\"Accuracy score on the test set is: {round(test_acc, 3)}\")"
      ],
      "execution_count": null,
      "outputs": [
        {
          "output_type": "stream",
          "name": "stdout",
          "text": [
            "Accuracy score on the test set is: 0.862\n"
          ]
        }
      ]
    },
    {
      "cell_type": "markdown",
      "metadata": {
        "id": "ZBddJJW5Gd5w"
      },
      "source": [
        "## Compare accuracy between train and test sets\n",
        "\n",
        "In order to determine whether the model is generalizable to unseen data, we will compare the validation accuracy (the accuracy achieved on the training set) and the test accuracy (the accuracy on the test set, which was not used during the process).  Ideally, the accuracy score on the test set should be similar to that of the training set, indicating that the model is consistently able to make predictions at the same accuracy level even on previously unseen data."
      ]
    },
    {
      "cell_type": "code",
      "metadata": {
        "id": "V3MIyrivJcF0",
        "colab": {
          "base_uri": "https://localhost:8080/"
        },
        "outputId": "c6de0456-3746-4fd9-e0f9-61cb124d8cb8"
      },
      "source": [
        "# Retrieve the last value for the validation accuracy score on the training set\n",
        "val_acc = train_history.history['val_accuracy'][-1]\n",
        "print(f\"Accuracy score on the training set is: {round(val_acc, 3)}\")"
      ],
      "execution_count": null,
      "outputs": [
        {
          "output_type": "stream",
          "name": "stdout",
          "text": [
            "Accuracy score on the training set is: 0.861\n"
          ]
        }
      ]
    },
    {
      "cell_type": "code",
      "metadata": {
        "id": "9nOUkCX1GIn6",
        "colab": {
          "base_uri": "https://localhost:8080/",
          "height": 302
        },
        "outputId": "60d8597a-70eb-4a07-d103-bd284b1beba5"
      },
      "source": [
        "# Plot train vs test accuracy scores\n",
        "plt.title(\"Train vs Test Accuracy Scores\", fontsize=14)\n",
        "\n",
        "# Set up the data to be compared\n",
        "dataset = ['Train', 'Test']\n",
        "acc_score = [val_acc, test_acc]\n",
        "\n",
        "# Plot the comparison graphs\n",
        "plt.bar(dataset, acc_score, width=0.50, edgecolor='k')\n",
        "plt.ylim(0,1)\n",
        "plt.xticks(fontsize=13)\n",
        "plt.xlabel(\"Dataset\", fontsize=13)\n",
        "plt.ylabel(\"Accuracy Score\", fontsize=13)\n",
        "plt.show()\n"
      ],
      "execution_count": null,
      "outputs": [
        {
          "output_type": "display_data",
          "data": {
            "text/plain": [
              "<Figure size 432x288 with 1 Axes>"
            ],
            "image/png": "[encoded data removed]"
          },
          "metadata": {
            "needs_background": "light"
          }
        }
      ]
    },
    {
      "cell_type": "markdown",
      "metadata": {
        "id": "bJslV2L86xfu"
      },
      "source": [
        "## Confusion Matrix\n",
        "\n",
        "A confusion matrix is a great way to visualize the results of a classification model.  For each entry in the test set, the x-axis shows the predicted diagnosis and the y-axis shows the actual diagnosis.\n",
        "\n",
        "In the example below, we see that the predicted and actual categories are mostly aligned.  The category that is most often incorrectly predicted is \"Other\", which is not surprising as this is a general category containing many different examples of diagnoses."
      ]
    },
    {
      "cell_type": "code",
      "metadata": {
        "id": "KHlfL0MbDdfU",
        "colab": {
          "base_uri": "https://localhost:8080/",
          "height": 582
        },
        "outputId": "26ed1b22-0ae9-4792-e110-deeb01e91a99"
      },
      "source": [
        "# Confusion Matrix\n",
        "from sklearn.metrics import confusion_matrix, ConfusionMatrixDisplay\n",
        "\n",
        "# Create the confusion matrix based on predictions vs actual labels\n",
        "cm = confusion_matrix(y_true, y_pred)\n",
        "\n",
        "# Display the confusion matrix with labels\n",
        "plt.figure(figsize = (10,7))\n",
        "labels = le.inverse_transform(range(0,11))\n",
        "sns.heatmap(cm, annot=True, cmap='Blues', fmt='g', xticklabels=labels, yticklabels=labels)\n",
        "plt.xlabel(\"Predicted Diagnosis\", fontsize=12)\n",
        "plt.ylabel(\"Actual Diagnosis\", fontsize=12)\n",
        "plt.xticks(rotation=45, ha='right')\n",
        "plt.show()"
      ],
      "execution_count": null,
      "outputs": [
        {
          "output_type": "display_data",
          "data": {
            "text/plain": [
              "<Figure size 720x504 with 2 Axes>"
            ],
            "image/png": "[encoded data removed]"
          },
          "metadata": {
            "needs_background": "light"
          }
        }
      ]
    },
    {
      "cell_type": "markdown",
      "metadata": {
        "id": "LgtxV0cJ1akT"
      },
      "source": [
        "## Precision, Recall and F1-score\n",
        "\n",
        "Performance metrics used for classification models also include Precision, Recall and F1-score.\n",
        "\n",
        "**Precision**: \n",
        "- *How many of what the model predicted as positive are actually positive?*\n",
        "- Formula for Precision: True Positive / (True Positive + False Positive)\n",
        "\n",
        "**Recall:** \n",
        "- *How many of actual positives are truly predicted by the model?*\n",
        "- Formula for Recall: True Positive / (True Positive + False Negative)\n",
        "\n",
        "**F1-score**: \n",
        "- *A weighted average of precision and recall scores*\n",
        "- Formula for F1-score: 2 x (Precision * Recall) / (Precision + Recall)"
      ]
    },
    {
      "cell_type": "code",
      "metadata": {
        "id": "HFTD3ySQz-dY",
        "colab": {
          "base_uri": "https://localhost:8080/"
        },
        "outputId": "356012d6-0541-46c6-abee-3d9e5d3512bf"
      },
      "source": [
        "from sklearn.metrics import classification_report\n",
        "\n",
        "# The classification_report method will print out the precision, recall and f1-scores for each class\n",
        "# Alternatively, the sklearn.metrics package also includes methods to calculate many other types of metrics\n",
        "print(classification_report(y_true, y_pred, target_names=labels))"
      ],
      "execution_count": null,
      "outputs": [
        {
          "output_type": "stream",
          "name": "stdout",
          "text": [
            "                                       precision    recall  f1-score   support\n",
            "\n",
            "                  Acute Renal Failure       0.58      0.78      0.67        32\n",
            "Care involving other physical therapy       1.00      1.00      1.00        26\n",
            "Chronic Obstructive Pulmonary Disease       0.94      0.96      0.95        99\n",
            "                       Embolic Stroke       0.94      0.59      0.72        29\n",
            "          General medical examination       0.81      0.84      0.83       148\n",
            "                   Hemorrhagic Stroke       0.77      0.93      0.84        40\n",
            "                         Hypertension       0.86      1.00      0.93        25\n",
            "                                Other       0.89      0.74      0.81       117\n",
            "                       Pyelonephritis       0.82      0.72      0.77        43\n",
            "                      Type 1 Diabetes       0.95      0.94      0.95       119\n",
            "                      Type 2 Diabetes       0.88      0.97      0.93        39\n",
            "\n",
            "                             accuracy                           0.86       717\n",
            "                            macro avg       0.86      0.86      0.85       717\n",
            "                         weighted avg       0.87      0.86      0.86       717\n",
            "\n"
          ]
        }
      ]
    },
    {
      "cell_type": "markdown",
      "metadata": {
        "id": "s2nhcKfy-4aQ"
      },
      "source": [
        "## Test prediction examples\n",
        "\n",
        "Finally, let's look at different examples of SOAP notes, its corresponding diagnosis prediction based on our trained model, and what the diagnosis actually is.  Feel free to run the code snippet below as many times as you like -- each time the code will choose a random example from the test set."
      ]
    },
    {
      "cell_type": "code",
      "metadata": {
        "id": "oJP93stv-8Mx",
        "colab": {
          "base_uri": "https://localhost:8080/"
        },
        "outputId": "8637e1c7-c5cf-4144-d2a8-7ac60bb5dcda"
      },
      "source": [
        "import random\n",
        "\n",
        "# Pick a random test record\n",
        "test_id = random.randint(0, len(y_test))\n",
        "print(\"Test record ID:\", test_id, \"\\n\")\n",
        "\n",
        "# Print the soap note, predicted diagnosis, and actual diagnosis\n",
        "print(\"SOAP note (diagnosis removed):\\n\", wrap(X_test.values[test_id], 100), '\\n')\n",
        "print(\"Predicted diagnosis:\", le.inverse_transform([y_pred[test_id]])[0])\n",
        "print(\"Actual diagnosis:\", y_test.values[test_id])"
      ],
      "execution_count": null,
      "outputs": [
        {
          "output_type": "stream",
          "name": "stdout",
          "text": [
            "Test record ID: 470 \n",
            "\n",
            "SOAP note (diagnosis removed):\n",
            " s : 18 yo f with 2 weeks old amputated lt presents for physical therapy visit . pt reports no issues\n",
            "o :, extremity = no redness , no pus , good strength ; treatment provided : mobility and gait\n",
            "training a : p : continue as per plan with sessions every three days . performed rehabilitation and\n",
            "remedial exercises following of - - patient tolerated treatment well and appears to be compliant\n",
            "with home exercise program . \n",
            "\n",
            "Predicted diagnosis: Other\n",
            "Actual diagnosis: Other\n"
          ]
        }
      ]
    },
    {
      "cell_type": "markdown",
      "metadata": {
        "id": "7qiTsnzew5Oo"
      },
      "source": [
        "Congratulations, you have completed an optional Python tutorial in the ‘AI for Clinician Champions Certificate' program! \n",
        "\n",
        "https://michener.ca/ce_course/ai-for-clinician-champions-certificate-program/\n",
        "\n",
        "\n",
        "\n",
        "\n",
        "This program is offered by Michener Institute & Vector Institute for clinicians who wish to learn more about AI in Healthcare.\n",
        "\n",
        "***Never stop learning!***"
      ]
    }
  ]
}