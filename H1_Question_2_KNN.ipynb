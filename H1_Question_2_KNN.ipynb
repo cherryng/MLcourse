{
  "nbformat": 4,
  "nbformat_minor": 0,
  "metadata": {
    "kernelspec": {
      "display_name": "Python 3",
      "language": "python",
      "name": "python3"
    },
    "language_info": {
      "codemirror_mode": {
        "name": "ipython",
        "version": 3
      },
      "file_extension": ".py",
      "mimetype": "text/x-python",
      "name": "python",
      "nbconvert_exporter": "python",
      "pygments_lexer": "ipython3",
      "version": "3.7.4"
    },
    "colab": {
      "name": "H1-Question-2-KNN.ipynb",
      "provenance": [],
      "toc_visible": true,
      "collapsed_sections": [],
      "include_colab_link": true
    }
  },
  "cells": [
    {
      "cell_type": "markdown",
      "metadata": {
        "id": "view-in-github",
        "colab_type": "text"
      },
      "source": [
        "<a href=\"https://colab.research.google.com/github/cherryng/MLcourse/blob/main/H1_Question_2_KNN.ipynb\" target=\"_parent\"><img src=\"https://colab.research.google.com/assets/colab-badge.svg\" alt=\"Open In Colab\"/></a>"
      ]
    },
    {
      "cell_type": "markdown",
      "metadata": {
        "id": "qghfFzfIOaNm"
      },
      "source": [
        "# Question 2:\n",
        "In this part of the assignment you will practice putting together a simple machine learning pipeline and to implement the K-nearest neighbor algorithm. You will familiairze yourselves with different python libraries (scikit-learn, matplotlib, pandas) that are helpful tools for machine learning."
      ]
    },
    {
      "cell_type": "markdown",
      "metadata": {
        "id": "khqCyUn_OaNn"
      },
      "source": [
        "## 1. Preparing the data\n",
        "\n",
        "In this assignment we will use the Iris Flower Species Dataset. This dataset consists of 3 different types of irise species (Setosa, Versicolour, and Virginica) where we have the following measures for each flower sample: the petal length, the sepal length, the petal width, the sepal width.\n",
        "\n",
        "Below is an example.\n",
        "\n",
        "\n"
      ]
    },
    {
      "cell_type": "markdown",
      "metadata": {
        "id": "Gg8psoYLytNh"
      },
      "source": [
        "![Drag Racing](https://www.integratedots.com/wp-content/uploads/2019/06/iris_petal-sepal-e1560211020463.png)"
      ]
    },
    {
      "cell_type": "markdown",
      "metadata": {
        "id": "-Mb_MGnXzUxr"
      },
      "source": [
        "This data is stored in a 150x4 numpy array, where 150 is the number of sample flowers and 4 is the measured features for each.  Go through the following steps to download the data."
      ]
    },
    {
      "cell_type": "code",
      "metadata": {
        "id": "CpxSlYFJzk9e",
        "outputId": "eb15eabd-babe-4d7e-a7bb-65c6d2af9b09",
        "colab": {
          "base_uri": "https://localhost:8080/",
          "height": 419
        }
      },
      "source": [
        "from sklearn import datasets\n",
        "import pandas as pd\n",
        "\n",
        "iris = datasets.load_iris()\n",
        "\n",
        "# We use pandas dataframe to see the table\n",
        "df = pd.DataFrame(iris.data, columns=iris.feature_names)\n",
        "df\n",
        "\n"
      ],
      "execution_count": 1,
      "outputs": [
        {
          "output_type": "execute_result",
          "data": {
            "text/plain": [
              "     sepal length (cm)  sepal width (cm)  petal length (cm)  petal width (cm)\n",
              "0                  5.1               3.5                1.4               0.2\n",
              "1                  4.9               3.0                1.4               0.2\n",
              "2                  4.7               3.2                1.3               0.2\n",
              "3                  4.6               3.1                1.5               0.2\n",
              "4                  5.0               3.6                1.4               0.2\n",
              "..                 ...               ...                ...               ...\n",
              "145                6.7               3.0                5.2               2.3\n",
              "146                6.3               2.5                5.0               1.9\n",
              "147                6.5               3.0                5.2               2.0\n",
              "148                6.2               3.4                5.4               2.3\n",
              "149                5.9               3.0                5.1               1.8\n",
              "\n",
              "[150 rows x 4 columns]"
            ],
            "text/html": [
              "\n",
              "  <div id=\"df-6c062292-3b3e-4111-90dc-5282aa358f3d\">\n",
              "    <div class=\"colab-df-container\">\n",
              "      <div>\n",
              "<style scoped>\n",
              "    .dataframe tbody tr th:only-of-type {\n",
              "        vertical-align: middle;\n",
              "    }\n",
              "\n",
              "    .dataframe tbody tr th {\n",
              "        vertical-align: top;\n",
              "    }\n",
              "\n",
              "    .dataframe thead th {\n",
              "        text-align: right;\n",
              "    }\n",
              "</style>\n",
              "<table border=\"1\" class=\"dataframe\">\n",
              "  <thead>\n",
              "    <tr style=\"text-align: right;\">\n",
              "      <th></th>\n",
              "      <th>sepal length (cm)</th>\n",
              "      <th>sepal width (cm)</th>\n",
              "      <th>petal length (cm)</th>\n",
              "      <th>petal width (cm)</th>\n",
              "    </tr>\n",
              "  </thead>\n",
              "  <tbody>\n",
              "    <tr>\n",
              "      <th>0</th>\n",
              "      <td>5.1</td>\n",
              "      <td>3.5</td>\n",
              "      <td>1.4</td>\n",
              "      <td>0.2</td>\n",
              "    </tr>\n",
              "    <tr>\n",
              "      <th>1</th>\n",
              "      <td>4.9</td>\n",
              "      <td>3.0</td>\n",
              "      <td>1.4</td>\n",
              "      <td>0.2</td>\n",
              "    </tr>\n",
              "    <tr>\n",
              "      <th>2</th>\n",
              "      <td>4.7</td>\n",
              "      <td>3.2</td>\n",
              "      <td>1.3</td>\n",
              "      <td>0.2</td>\n",
              "    </tr>\n",
              "    <tr>\n",
              "      <th>3</th>\n",
              "      <td>4.6</td>\n",
              "      <td>3.1</td>\n",
              "      <td>1.5</td>\n",
              "      <td>0.2</td>\n",
              "    </tr>\n",
              "    <tr>\n",
              "      <th>4</th>\n",
              "      <td>5.0</td>\n",
              "      <td>3.6</td>\n",
              "      <td>1.4</td>\n",
              "      <td>0.2</td>\n",
              "    </tr>\n",
              "    <tr>\n",
              "      <th>...</th>\n",
              "      <td>...</td>\n",
              "      <td>...</td>\n",
              "      <td>...</td>\n",
              "      <td>...</td>\n",
              "    </tr>\n",
              "    <tr>\n",
              "      <th>145</th>\n",
              "      <td>6.7</td>\n",
              "      <td>3.0</td>\n",
              "      <td>5.2</td>\n",
              "      <td>2.3</td>\n",
              "    </tr>\n",
              "    <tr>\n",
              "      <th>146</th>\n",
              "      <td>6.3</td>\n",
              "      <td>2.5</td>\n",
              "      <td>5.0</td>\n",
              "      <td>1.9</td>\n",
              "    </tr>\n",
              "    <tr>\n",
              "      <th>147</th>\n",
              "      <td>6.5</td>\n",
              "      <td>3.0</td>\n",
              "      <td>5.2</td>\n",
              "      <td>2.0</td>\n",
              "    </tr>\n",
              "    <tr>\n",
              "      <th>148</th>\n",
              "      <td>6.2</td>\n",
              "      <td>3.4</td>\n",
              "      <td>5.4</td>\n",
              "      <td>2.3</td>\n",
              "    </tr>\n",
              "    <tr>\n",
              "      <th>149</th>\n",
              "      <td>5.9</td>\n",
              "      <td>3.0</td>\n",
              "      <td>5.1</td>\n",
              "      <td>1.8</td>\n",
              "    </tr>\n",
              "  </tbody>\n",
              "</table>\n",
              "<p>150 rows × 4 columns</p>\n",
              "</div>\n",
              "      <button class=\"colab-df-convert\" onclick=\"convertToInteractive('df-6c062292-3b3e-4111-90dc-5282aa358f3d')\"\n",
              "              title=\"Convert this dataframe to an interactive table.\"\n",
              "              style=\"display:none;\">\n",
              "        \n",
              "  <svg xmlns=\"http://www.w3.org/2000/svg\" height=\"24px\"viewBox=\"0 0 24 24\"\n",
              "       width=\"24px\">\n",
              "    <path d=\"M0 0h24v24H0V0z\" fill=\"none\"/>\n",
              "    <path d=\"M18.56 5.44l.94 2.06.94-2.06 2.06-.94-2.06-.94-.94-2.06-.94 2.06-2.06.94zm-11 1L8.5 8.5l.94-2.06 2.06-.94-2.06-.94L8.5 2.5l-.94 2.06-2.06.94zm10 10l.94 2.06.94-2.06 2.06-.94-2.06-.94-.94-2.06-.94 2.06-2.06.94z\"/><path d=\"M17.41 7.96l-1.37-1.37c-.4-.4-.92-.59-1.43-.59-.52 0-1.04.2-1.43.59L10.3 9.45l-7.72 7.72c-.78.78-.78 2.05 0 2.83L4 21.41c.39.39.9.59 1.41.59.51 0 1.02-.2 1.41-.59l7.78-7.78 2.81-2.81c.8-.78.8-2.07 0-2.86zM5.41 20L4 18.59l7.72-7.72 1.47 1.35L5.41 20z\"/>\n",
              "  </svg>\n",
              "      </button>\n",
              "      \n",
              "  <style>\n",
              "    .colab-df-container {\n",
              "      display:flex;\n",
              "      flex-wrap:wrap;\n",
              "      gap: 12px;\n",
              "    }\n",
              "\n",
              "    .colab-df-convert {\n",
              "      background-color: #E8F0FE;\n",
              "      border: none;\n",
              "      border-radius: 50%;\n",
              "      cursor: pointer;\n",
              "      display: none;\n",
              "      fill: #1967D2;\n",
              "      height: 32px;\n",
              "      padding: 0 0 0 0;\n",
              "      width: 32px;\n",
              "    }\n",
              "\n",
              "    .colab-df-convert:hover {\n",
              "      background-color: #E2EBFA;\n",
              "      box-shadow: 0px 1px 2px rgba(60, 64, 67, 0.3), 0px 1px 3px 1px rgba(60, 64, 67, 0.15);\n",
              "      fill: #174EA6;\n",
              "    }\n",
              "\n",
              "    [theme=dark] .colab-df-convert {\n",
              "      background-color: #3B4455;\n",
              "      fill: #D2E3FC;\n",
              "    }\n",
              "\n",
              "    [theme=dark] .colab-df-convert:hover {\n",
              "      background-color: #434B5C;\n",
              "      box-shadow: 0px 1px 3px 1px rgba(0, 0, 0, 0.15);\n",
              "      filter: drop-shadow(0px 1px 2px rgba(0, 0, 0, 0.3));\n",
              "      fill: #FFFFFF;\n",
              "    }\n",
              "  </style>\n",
              "\n",
              "      <script>\n",
              "        const buttonEl =\n",
              "          document.querySelector('#df-6c062292-3b3e-4111-90dc-5282aa358f3d button.colab-df-convert');\n",
              "        buttonEl.style.display =\n",
              "          google.colab.kernel.accessAllowed ? 'block' : 'none';\n",
              "\n",
              "        async function convertToInteractive(key) {\n",
              "          const element = document.querySelector('#df-6c062292-3b3e-4111-90dc-5282aa358f3d');\n",
              "          const dataTable =\n",
              "            await google.colab.kernel.invokeFunction('convertToInteractive',\n",
              "                                                     [key], {});\n",
              "          if (!dataTable) return;\n",
              "\n",
              "          const docLinkHtml = 'Like what you see? Visit the ' +\n",
              "            '<a target=\"_blank\" href=https://colab.research.google.com/notebooks/data_table.ipynb>data table notebook</a>'\n",
              "            + ' to learn more about interactive tables.';\n",
              "          element.innerHTML = '';\n",
              "          dataTable['output_type'] = 'display_data';\n",
              "          await google.colab.output.renderOutput(dataTable, element);\n",
              "          const docLink = document.createElement('div');\n",
              "          docLink.innerHTML = docLinkHtml;\n",
              "          element.appendChild(docLink);\n",
              "        }\n",
              "      </script>\n",
              "    </div>\n",
              "  </div>\n",
              "  "
            ]
          },
          "metadata": {},
          "execution_count": 1
        }
      ]
    },
    {
      "cell_type": "code",
      "metadata": {
        "id": "T0uMkFGJAUMF",
        "outputId": "c635d0fe-1c97-4ded-926d-b1cbbb503512",
        "colab": {
          "base_uri": "https://localhost:8080/"
        }
      },
      "source": [
        "# Setosa, Versicolour, and Virginica\n",
        "iris.target"
      ],
      "execution_count": 2,
      "outputs": [
        {
          "output_type": "execute_result",
          "data": {
            "text/plain": [
              "array([0, 0, 0, 0, 0, 0, 0, 0, 0, 0, 0, 0, 0, 0, 0, 0, 0, 0, 0, 0, 0, 0,\n",
              "       0, 0, 0, 0, 0, 0, 0, 0, 0, 0, 0, 0, 0, 0, 0, 0, 0, 0, 0, 0, 0, 0,\n",
              "       0, 0, 0, 0, 0, 0, 1, 1, 1, 1, 1, 1, 1, 1, 1, 1, 1, 1, 1, 1, 1, 1,\n",
              "       1, 1, 1, 1, 1, 1, 1, 1, 1, 1, 1, 1, 1, 1, 1, 1, 1, 1, 1, 1, 1, 1,\n",
              "       1, 1, 1, 1, 1, 1, 1, 1, 1, 1, 1, 1, 2, 2, 2, 2, 2, 2, 2, 2, 2, 2,\n",
              "       2, 2, 2, 2, 2, 2, 2, 2, 2, 2, 2, 2, 2, 2, 2, 2, 2, 2, 2, 2, 2, 2,\n",
              "       2, 2, 2, 2, 2, 2, 2, 2, 2, 2, 2, 2, 2, 2, 2, 2, 2, 2])"
            ]
          },
          "metadata": {},
          "execution_count": 2
        }
      ]
    },
    {
      "cell_type": "markdown",
      "metadata": {
        "id": "GsrXTiOA0Pg9"
      },
      "source": [
        "We use pandas dataframe to see the statistics of this data."
      ]
    },
    {
      "cell_type": "code",
      "metadata": {
        "id": "Dm5nDQNi0N5b",
        "outputId": "4141aca7-5ba5-4850-e8cd-1dcd351f4084",
        "colab": {
          "base_uri": "https://localhost:8080/",
          "height": 297
        }
      },
      "source": [
        "df.describe()"
      ],
      "execution_count": 3,
      "outputs": [
        {
          "output_type": "execute_result",
          "data": {
            "text/plain": [
              "       sepal length (cm)  sepal width (cm)  petal length (cm)  \\\n",
              "count         150.000000        150.000000         150.000000   \n",
              "mean            5.843333          3.057333           3.758000   \n",
              "std             0.828066          0.435866           1.765298   \n",
              "min             4.300000          2.000000           1.000000   \n",
              "25%             5.100000          2.800000           1.600000   \n",
              "50%             5.800000          3.000000           4.350000   \n",
              "75%             6.400000          3.300000           5.100000   \n",
              "max             7.900000          4.400000           6.900000   \n",
              "\n",
              "       petal width (cm)  \n",
              "count        150.000000  \n",
              "mean           1.199333  \n",
              "std            0.762238  \n",
              "min            0.100000  \n",
              "25%            0.300000  \n",
              "50%            1.300000  \n",
              "75%            1.800000  \n",
              "max            2.500000  "
            ],
            "text/html": [
              "\n",
              "  <div id=\"df-c4b9b40e-4dab-4068-92c8-5a41bc4b6aa8\">\n",
              "    <div class=\"colab-df-container\">\n",
              "      <div>\n",
              "<style scoped>\n",
              "    .dataframe tbody tr th:only-of-type {\n",
              "        vertical-align: middle;\n",
              "    }\n",
              "\n",
              "    .dataframe tbody tr th {\n",
              "        vertical-align: top;\n",
              "    }\n",
              "\n",
              "    .dataframe thead th {\n",
              "        text-align: right;\n",
              "    }\n",
              "</style>\n",
              "<table border=\"1\" class=\"dataframe\">\n",
              "  <thead>\n",
              "    <tr style=\"text-align: right;\">\n",
              "      <th></th>\n",
              "      <th>sepal length (cm)</th>\n",
              "      <th>sepal width (cm)</th>\n",
              "      <th>petal length (cm)</th>\n",
              "      <th>petal width (cm)</th>\n",
              "    </tr>\n",
              "  </thead>\n",
              "  <tbody>\n",
              "    <tr>\n",
              "      <th>count</th>\n",
              "      <td>150.000000</td>\n",
              "      <td>150.000000</td>\n",
              "      <td>150.000000</td>\n",
              "      <td>150.000000</td>\n",
              "    </tr>\n",
              "    <tr>\n",
              "      <th>mean</th>\n",
              "      <td>5.843333</td>\n",
              "      <td>3.057333</td>\n",
              "      <td>3.758000</td>\n",
              "      <td>1.199333</td>\n",
              "    </tr>\n",
              "    <tr>\n",
              "      <th>std</th>\n",
              "      <td>0.828066</td>\n",
              "      <td>0.435866</td>\n",
              "      <td>1.765298</td>\n",
              "      <td>0.762238</td>\n",
              "    </tr>\n",
              "    <tr>\n",
              "      <th>min</th>\n",
              "      <td>4.300000</td>\n",
              "      <td>2.000000</td>\n",
              "      <td>1.000000</td>\n",
              "      <td>0.100000</td>\n",
              "    </tr>\n",
              "    <tr>\n",
              "      <th>25%</th>\n",
              "      <td>5.100000</td>\n",
              "      <td>2.800000</td>\n",
              "      <td>1.600000</td>\n",
              "      <td>0.300000</td>\n",
              "    </tr>\n",
              "    <tr>\n",
              "      <th>50%</th>\n",
              "      <td>5.800000</td>\n",
              "      <td>3.000000</td>\n",
              "      <td>4.350000</td>\n",
              "      <td>1.300000</td>\n",
              "    </tr>\n",
              "    <tr>\n",
              "      <th>75%</th>\n",
              "      <td>6.400000</td>\n",
              "      <td>3.300000</td>\n",
              "      <td>5.100000</td>\n",
              "      <td>1.800000</td>\n",
              "    </tr>\n",
              "    <tr>\n",
              "      <th>max</th>\n",
              "      <td>7.900000</td>\n",
              "      <td>4.400000</td>\n",
              "      <td>6.900000</td>\n",
              "      <td>2.500000</td>\n",
              "    </tr>\n",
              "  </tbody>\n",
              "</table>\n",
              "</div>\n",
              "      <button class=\"colab-df-convert\" onclick=\"convertToInteractive('df-c4b9b40e-4dab-4068-92c8-5a41bc4b6aa8')\"\n",
              "              title=\"Convert this dataframe to an interactive table.\"\n",
              "              style=\"display:none;\">\n",
              "        \n",
              "  <svg xmlns=\"http://www.w3.org/2000/svg\" height=\"24px\"viewBox=\"0 0 24 24\"\n",
              "       width=\"24px\">\n",
              "    <path d=\"M0 0h24v24H0V0z\" fill=\"none\"/>\n",
              "    <path d=\"M18.56 5.44l.94 2.06.94-2.06 2.06-.94-2.06-.94-.94-2.06-.94 2.06-2.06.94zm-11 1L8.5 8.5l.94-2.06 2.06-.94-2.06-.94L8.5 2.5l-.94 2.06-2.06.94zm10 10l.94 2.06.94-2.06 2.06-.94-2.06-.94-.94-2.06-.94 2.06-2.06.94z\"/><path d=\"M17.41 7.96l-1.37-1.37c-.4-.4-.92-.59-1.43-.59-.52 0-1.04.2-1.43.59L10.3 9.45l-7.72 7.72c-.78.78-.78 2.05 0 2.83L4 21.41c.39.39.9.59 1.41.59.51 0 1.02-.2 1.41-.59l7.78-7.78 2.81-2.81c.8-.78.8-2.07 0-2.86zM5.41 20L4 18.59l7.72-7.72 1.47 1.35L5.41 20z\"/>\n",
              "  </svg>\n",
              "      </button>\n",
              "      \n",
              "  <style>\n",
              "    .colab-df-container {\n",
              "      display:flex;\n",
              "      flex-wrap:wrap;\n",
              "      gap: 12px;\n",
              "    }\n",
              "\n",
              "    .colab-df-convert {\n",
              "      background-color: #E8F0FE;\n",
              "      border: none;\n",
              "      border-radius: 50%;\n",
              "      cursor: pointer;\n",
              "      display: none;\n",
              "      fill: #1967D2;\n",
              "      height: 32px;\n",
              "      padding: 0 0 0 0;\n",
              "      width: 32px;\n",
              "    }\n",
              "\n",
              "    .colab-df-convert:hover {\n",
              "      background-color: #E2EBFA;\n",
              "      box-shadow: 0px 1px 2px rgba(60, 64, 67, 0.3), 0px 1px 3px 1px rgba(60, 64, 67, 0.15);\n",
              "      fill: #174EA6;\n",
              "    }\n",
              "\n",
              "    [theme=dark] .colab-df-convert {\n",
              "      background-color: #3B4455;\n",
              "      fill: #D2E3FC;\n",
              "    }\n",
              "\n",
              "    [theme=dark] .colab-df-convert:hover {\n",
              "      background-color: #434B5C;\n",
              "      box-shadow: 0px 1px 3px 1px rgba(0, 0, 0, 0.15);\n",
              "      filter: drop-shadow(0px 1px 2px rgba(0, 0, 0, 0.3));\n",
              "      fill: #FFFFFF;\n",
              "    }\n",
              "  </style>\n",
              "\n",
              "      <script>\n",
              "        const buttonEl =\n",
              "          document.querySelector('#df-c4b9b40e-4dab-4068-92c8-5a41bc4b6aa8 button.colab-df-convert');\n",
              "        buttonEl.style.display =\n",
              "          google.colab.kernel.accessAllowed ? 'block' : 'none';\n",
              "\n",
              "        async function convertToInteractive(key) {\n",
              "          const element = document.querySelector('#df-c4b9b40e-4dab-4068-92c8-5a41bc4b6aa8');\n",
              "          const dataTable =\n",
              "            await google.colab.kernel.invokeFunction('convertToInteractive',\n",
              "                                                     [key], {});\n",
              "          if (!dataTable) return;\n",
              "\n",
              "          const docLinkHtml = 'Like what you see? Visit the ' +\n",
              "            '<a target=\"_blank\" href=https://colab.research.google.com/notebooks/data_table.ipynb>data table notebook</a>'\n",
              "            + ' to learn more about interactive tables.';\n",
              "          element.innerHTML = '';\n",
              "          dataTable['output_type'] = 'display_data';\n",
              "          await google.colab.output.renderOutput(dataTable, element);\n",
              "          const docLink = document.createElement('div');\n",
              "          docLink.innerHTML = docLinkHtml;\n",
              "          element.appendChild(docLink);\n",
              "        }\n",
              "      </script>\n",
              "    </div>\n",
              "  </div>\n",
              "  "
            ]
          },
          "metadata": {},
          "execution_count": 3
        }
      ]
    },
    {
      "cell_type": "markdown",
      "metadata": {
        "id": "U7ZqoZd5ziX-"
      },
      "source": [
        "In this assignment we only use the first two features (sepal length and width) for easier visualization. We also split the dataset into 2 cohorts for training and testing."
      ]
    },
    {
      "cell_type": "code",
      "metadata": {
        "id": "lmeeqnuZOaNo",
        "outputId": "f8c2bdae-b1d1-4f91-fb11-e2813ef1cfad",
        "colab": {
          "base_uri": "https://localhost:8080/"
        }
      },
      "source": [
        "from sklearn.model_selection import train_test_split\n",
        "\n",
        "X = iris.data[:, :2] # The data matrix \n",
        "y = iris.target # The class labels\n",
        "\n",
        "# We take 20% as test set\n",
        "X_train, X_test, y_train, y_test = train_test_split(X, y, test_size=0.2, random_state=42)\n",
        "X_train.shape, X_test.shape\n",
        "\n",
        "print(\"testing\")"
      ],
      "execution_count": 4,
      "outputs": [
        {
          "output_type": "stream",
          "name": "stdout",
          "text": [
            "testing\n"
          ]
        }
      ]
    },
    {
      "cell_type": "markdown",
      "metadata": {
        "id": "_IEFcgJeOaNt"
      },
      "source": [
        "Now let's visualize this data to get some sense of the samples. "
      ]
    },
    {
      "cell_type": "code",
      "metadata": {
        "id": "MoqwjDkjOaNt",
        "outputId": "0b3cd83c-c899-4355-fa7b-2b74c709310f",
        "colab": {
          "base_uri": "https://localhost:8080/",
          "height": 407
        }
      },
      "source": [
        "import matplotlib.pyplot as plt\n",
        "\n",
        "f, axs = plt.subplots(figsize=(8,6))\n",
        "the_scatter = axs.scatter(X[:, 0], X[:, 1], c=y,\n",
        "            cmap=plt.cm.Set1, edgecolor='k')\n",
        "\n",
        "# Change the legend name of the class to be Iris species like Setosa, Versicolour etc...\n",
        "lines, legend_names = the_scatter.legend_elements()\n",
        "legend1 = axs.legend(lines, ['Setosa', 'Versicolour', 'Virginica'], title=\"Classes\")\n",
        "axs.add_artist(legend1)\n",
        "\n",
        "axs.set_xlabel('Sepal length')\n",
        "axs.set_ylabel('Sepal width')\n",
        "axs.legend()\n",
        "\n",
        "plt.show()"
      ],
      "execution_count": null,
      "outputs": [
        {
          "output_type": "stream",
          "name": "stderr",
          "text": [
            "No handles with labels found to put in legend.\n"
          ]
        },
        {
          "output_type": "display_data",
          "data": {
            "text/plain": [
              "<Figure size 576x432 with 1 Axes>"
            ],
            "image/png": "[encoded data removed]"
          },
          "metadata": {
            "needs_background": "light"
          }
        }
      ]
    },
    {
      "cell_type": "markdown",
      "metadata": {
        "id": "-K9FSFSEOaNw"
      },
      "source": [
        "## 2. Implemeting K-Nearest Neighbors\n",
        "Now we want to implement the K-nearest neighbor algorithm. \n",
        "\n",
        "Fill in the code block below for calculating the distance between two vectors."
      ]
    },
    {
      "cell_type": "code",
      "metadata": {
        "id": "6ghmx_E6OaNw"
      },
      "source": [
        "from math import sqrt\n",
        "\n",
        "# calculate the Euclidean distance between two vectors\n",
        "def euclidean_distance(x1, x2):\n",
        "    distance = 0.0\n",
        "    ## TODO: fill in this part of the code to return the euclidean distance \n",
        "    ##       between x1 and x2. (hint: you can use sqrt from math library)\n",
        "    return distance\n",
        "\n",
        "# This is a helper function to print information on each sample\n",
        "def print_features(x,y):\n",
        "    print('Iris type:', ['Setosa', 'Versicolour', 'Virginica'][y-1])\n",
        "    print('Sepal Length: %.1f \\t Sepal Width: %.1f'%(x[0], x[1]))   "
      ],
      "execution_count": null,
      "outputs": []
    },
    {
      "cell_type": "markdown",
      "metadata": {
        "id": "SbRG8WEkOaNz"
      },
      "source": [
        "Then we calculate the euclidean distance to a test example"
      ]
    },
    {
      "cell_type": "code",
      "metadata": {
        "id": "No6r55ZsOaNz",
        "outputId": "0b999578-0717-433d-87a8-46eb9be7f8ad",
        "colab": {
          "base_uri": "https://localhost:8080/",
          "height": 178
        }
      },
      "source": [
        "# We randomly pick a test example\n",
        "sample = X_test[10]\n",
        "print('Test Sample:')\n",
        "print_features(sample, y_test[10])\n",
        "\n",
        "# Calculate the euclidean distance to this test example\n",
        "distances = []\n",
        "for i, row in enumerate(X_train):\n",
        "    distance = euclidean_distance(sample, row)\n",
        "    distances.append((i, distance))\n",
        "distances.sort(key=lambda tup: tup[1])\n",
        "\n",
        "k = 2 # Number of nearest neighbors\n",
        "print('\\nTop %d Nearest Neighbors:' % k)\n",
        "for nn in range(k):\n",
        "    print_features(X_train[distances[nn][0]], y_train[distances[nn][0]])"
      ],
      "execution_count": null,
      "outputs": [
        {
          "output_type": "stream",
          "text": [
            "Test Sample:\n",
            "Iris type: Versicolour\n",
            "Sepal Length: 6.5 \t Sepal Width: 3.2\n",
            "\n",
            "Top 2 Nearest Neighbors:\n",
            "Iris type: Virginica\n",
            "Sepal Length: 4.6 \t Sepal Width: 3.6\n",
            "Iris type: Virginica\n",
            "Sepal Length: 5.7 \t Sepal Width: 4.4\n"
          ],
          "name": "stdout"
        }
      ]
    },
    {
      "cell_type": "markdown",
      "metadata": {
        "id": "EaNEdUjnOaN2"
      },
      "source": [
        "We can calculate the distance for all the pairs of test examples. For example, if there are **Ntr** training examples and **Nte** test examples, this stage should result in a **Nte x Ntr** matrix where each element (i,j) is the distance between the i-th test and j-th train example."
      ]
    },
    {
      "cell_type": "code",
      "metadata": {
        "id": "xfxQN1vIOaN3",
        "outputId": "d12074a1-d0f3-45aa-da6c-f9d2562c3c7d",
        "colab": {
          "base_uri": "https://localhost:8080/",
          "height": 327
        }
      },
      "source": [
        "import numpy as np\n",
        "\n",
        "distances = []\n",
        "for x_test in X_test:\n",
        "    distance = np.sum((x_test[np.newaxis, ...] - X_train) ** 2, axis=1)\n",
        "    distances.append(distance)\n",
        "\n",
        "distances = np.array(distances)\n",
        "plt.figure(figsize=(15, 5))\n",
        "plt.imshow(distances)\n",
        "plt.colorbar()\n",
        "plt.xlabel('Training examples id')\n",
        "plt.ylabel('Test examples id')"
      ],
      "execution_count": null,
      "outputs": [
        {
          "output_type": "execute_result",
          "data": {
            "text/plain": [
              "Text(0, 0.5, 'Test examples id')"
            ]
          },
          "metadata": {
            "tags": []
          },
          "execution_count": 8
        },
        {
          "output_type": "display_data",
          "data": {
            "image/png": "[encoded data removed]",
            "text/plain": [
              "<Figure size 1080x360 with 2 Axes>"
            ]
          },
          "metadata": {
            "tags": [],
            "needs_background": "light"
          }
        }
      ]
    },
    {
      "cell_type": "markdown",
      "metadata": {
        "id": "05kZYs6cOaN5"
      },
      "source": [
        "### Question 1\n",
        "\n",
        "Notice the structured patterns in the distance matrix, where some rows or columns are visible brighter.\n",
        "\n",
        "1.  Which training examples are probably more important for test predictions in a K nearest neighbor classifier? Why? \n",
        "2.  Which test examples are closer to most of the training examples?\n",
        "\n",
        "$\\color{blue}{\\textit Your Answer:}$ *fill this in.*\n"
      ]
    },
    {
      "cell_type": "markdown",
      "metadata": {
        "id": "722jHcoEOaN6"
      },
      "source": [
        "\n",
        "Now we will use the scikit learn library to implement a simple KNN. "
      ]
    },
    {
      "cell_type": "code",
      "metadata": {
        "id": "BxK90tcJOaN6",
        "outputId": "5c53fa32-595e-44e0-cb4d-520680cb4eeb",
        "colab": {
          "base_uri": "https://localhost:8080/",
          "height": 71
        }
      },
      "source": [
        "from sklearn.neighbors import KNeighborsClassifier\n",
        "\n",
        "k = 2 # Number of nearest neighbors\n",
        "neigh = KNeighborsClassifier(n_neighbors=k)\n",
        "neigh.fit(X_train, y_train)"
      ],
      "execution_count": null,
      "outputs": [
        {
          "output_type": "execute_result",
          "data": {
            "text/plain": [
              "KNeighborsClassifier(algorithm='auto', leaf_size=30, metric='minkowski',\n",
              "                     metric_params=None, n_jobs=None, n_neighbors=2, p=2,\n",
              "                     weights='uniform')"
            ]
          },
          "metadata": {
            "tags": []
          },
          "execution_count": 9
        }
      ]
    },
    {
      "cell_type": "markdown",
      "metadata": {
        "id": "HZxTcu_hOaN9"
      },
      "source": [
        "Let's pick a sample from our test set. Now we want to find the 5 closest neighbors of this sample from the training set. Complete the code segment below to find these samples and print out their features (hint: use kneighbors method for KNeighborsClassifier https://scikit-learn.org/stable/modules/generated/sklearn.neighbors.KNeighborsClassifier.html) \n",
        "\n"
      ]
    },
    {
      "cell_type": "code",
      "metadata": {
        "id": "Y-FK_dJmJrnS",
        "outputId": "bd79e249-94b1-4471-ee9d-dd7689132551",
        "colab": {
          "base_uri": "https://localhost:8080/",
          "height": 300
        }
      },
      "source": [
        "sample = X_test[10]\n",
        "print('A random sample chosen from the testset:')\n",
        "print_features(sample, y_test[10])\n",
        "\n",
        "## TODO: find the 5 closest samples from the training test to \"sample\"\n",
        "dists, neighbor_ids = neigh.kneighbors()\n",
        "\n",
        "\n",
        "print('Closest 5 neighbors to this test sample:')\n",
        "for knn in range(5):\n",
        "    print('Neighbor %d ===> distance:%f'%(knn, dists[0][knn]))\n",
        "    print_features(X_train[neighbor_ids[0][knn]], y_train[neighbor_ids[0][knn]])"
      ],
      "execution_count": null,
      "outputs": [
        {
          "output_type": "stream",
          "text": [
            "A random sample chosen from the testset:\n",
            "Iris type: Versicolour\n",
            "Sepal Length: 6.5 \t Sepal Width: 3.2\n"
          ],
          "name": "stdout"
        },
        {
          "output_type": "error",
          "ename": "TypeError",
          "evalue": "ignored",
          "traceback": [
            "\u001b[0;31m---------------------------------------------------------------------------\u001b[0m",
            "\u001b[0;31mTypeError\u001b[0m                                 Traceback (most recent call last)",
            "\u001b[0;32m<ipython-input-10-a5a651704e1a>\u001b[0m in \u001b[0;36m<module>\u001b[0;34m()\u001b[0m\n\u001b[1;32m      4\u001b[0m \u001b[0;34m\u001b[0m\u001b[0m\n\u001b[1;32m      5\u001b[0m \u001b[0;31m## TODO: find the 5 closest samples from the training test to \"sample\"\u001b[0m\u001b[0;34m\u001b[0m\u001b[0;34m\u001b[0m\u001b[0;34m\u001b[0m\u001b[0m\n\u001b[0;32m----> 6\u001b[0;31m \u001b[0mdists\u001b[0m\u001b[0;34m,\u001b[0m \u001b[0mneighbor_ids\u001b[0m \u001b[0;34m=\u001b[0m \u001b[0;34m...\u001b[0m\u001b[0;34m\u001b[0m\u001b[0;34m\u001b[0m\u001b[0m\n\u001b[0m\u001b[1;32m      7\u001b[0m \u001b[0;34m\u001b[0m\u001b[0m\n\u001b[1;32m      8\u001b[0m \u001b[0;34m\u001b[0m\u001b[0m\n",
            "\u001b[0;31mTypeError\u001b[0m: 'ellipsis' object is not iterable"
          ]
        }
      ]
    },
    {
      "cell_type": "markdown",
      "metadata": {
        "id": "hEyBPpw1OaOA"
      },
      "source": [
        "We can visualize the decision boundary"
      ]
    },
    {
      "cell_type": "code",
      "metadata": {
        "id": "x7BAHGbHOaOB"
      },
      "source": [
        "from matplotlib.colors import ListedColormap\n",
        "from sklearn import neighbors, datasets\n",
        "\n",
        "h = .02  # step size in the mesh\n",
        "# Create color maps\n",
        "cmap_light = ListedColormap(['orange', 'cyan', 'cornflowerblue'])\n",
        "cmap_bold = ListedColormap(['darkorange', 'c', 'darkblue'])"
      ],
      "execution_count": null,
      "outputs": []
    },
    {
      "cell_type": "code",
      "metadata": {
        "id": "9kSW2_VzOaOD"
      },
      "source": [
        "# Plot the decision boundary. For that, we will assign a color to each\n",
        "# point in the mesh [x_min, x_max]x[y_min, y_max].\n",
        "x_min, x_max = X_train[:, 0].min() - 1, X_train[:, 0].max() + 1\n",
        "y_min, y_max = X_train[:, 1].min() - 1, X_train[:, 1].max() + 1\n",
        "xx, yy = np.meshgrid(np.arange(x_min, x_max, h),\n",
        "                     np.arange(y_min, y_max, h))\n",
        "Z = neigh.predict(np.c_[xx.ravel(), yy.ravel()])\n",
        "\n",
        "# Put the result into a color plot\n",
        "Z = Z.reshape(xx.shape)\n",
        "fig, ax = plt.subplots(figsize=(8, 6))\n",
        "plt.pcolormesh(xx, yy, Z, cmap=cmap_light)\n",
        "\n",
        "# Plot also the training points\n",
        "the_scatter = ax.scatter(\n",
        "    X[:, 0], X[:, 1], c=y, cmap=cmap_bold, edgecolor='k', s=20)\n",
        "\n",
        "# Change the legend name of the class to be Iris species like Setosa, Versicolour etc...\n",
        "lines, legend_names = the_scatter.legend_elements()\n",
        "legend1 = ax.legend(lines, ['Setosa', 'Versicolour', 'Virginica'], \n",
        "                     title=\"Classes\")\n",
        "ax.add_artist(legend1)\n",
        "\n",
        "plt.xlim(xx.min(), xx.max())\n",
        "plt.ylim(yy.min(), yy.max())\n",
        "plt.title(\"3-Class classification (k = %i)\" % (k))\n",
        "plt.xlabel('Sepal length')\n",
        "plt.ylabel('Sepal width')"
      ],
      "execution_count": null,
      "outputs": []
    },
    {
      "cell_type": "markdown",
      "metadata": {
        "id": "WlHPJytEOaOG"
      },
      "source": [
        "Let's use the KNN to predict on the whole test set and calculate accuracy"
      ]
    },
    {
      "cell_type": "code",
      "metadata": {
        "id": "Hk7K9q7JOaOG"
      },
      "source": [
        "y_pred = neigh.predict(X_test)\n",
        "accuracy = (y_pred == y_test).mean()\n",
        "print('test accuracy: %f' % accuracy)"
      ],
      "execution_count": null,
      "outputs": []
    },
    {
      "cell_type": "markdown",
      "metadata": {
        "id": "La0lTdpDOaOK"
      },
      "source": [
        "We can calculate the test accuracy with respect to different choices of K for K-nearest neighbors."
      ]
    },
    {
      "cell_type": "code",
      "metadata": {
        "id": "4NyxYakRcCE6"
      },
      "source": [
        "# Helper function for calculating accuracy\n",
        "def accuracy(y_pred, y_test):\n",
        "    accuracy = (y_pred == y_test).mean()\n",
        "    return accuracy"
      ],
      "execution_count": null,
      "outputs": []
    },
    {
      "cell_type": "code",
      "metadata": {
        "id": "P2l3Uyt5OaOK"
      },
      "source": [
        "test_accs = []\n",
        "for k in range(1, X_train.shape[0]):\n",
        "    # Create K nearest neighbors classifier\n",
        "    neigh = KNeighborsClassifier(n_neighbors=k)\n",
        "    neigh.fit(X_train, y_train)\n",
        "    \n",
        "    # Prediction\n",
        "    y_pred = neigh.predict(X_test)\n",
        "    \n",
        "    # Calculate accuracy\n",
        "    acc = (y_pred == y_test).mean()\n",
        "    test_accs.append(acc)"
      ],
      "execution_count": null,
      "outputs": []
    },
    {
      "cell_type": "code",
      "metadata": {
        "id": "ZgfVLdCnOaON"
      },
      "source": [
        "plt.figure(figsize=(10, 6))\n",
        "plt.plot(list(range(1, X_train.shape[0])), test_accs)\n",
        "plt.xlabel('Number of nearest neighbors (k)')\n",
        "plt.ylabel('Test set accuracy')"
      ],
      "execution_count": null,
      "outputs": []
    },
    {
      "cell_type": "code",
      "metadata": {
        "id": "yMMopS-mYnd9"
      },
      "source": [
        ""
      ],
      "execution_count": null,
      "outputs": []
    },
    {
      "cell_type": "markdown",
      "metadata": {
        "id": "sSOeFBfrOaOP"
      },
      "source": [
        "### Question 2\n",
        "\n",
        "See from the graph and answer the following questions:\n",
        "\n",
        "1. Which k gives the best test set accuracy? \n",
        "2. When k becomes larger and close to size of the training set, the test set accuracy drops. Why is that? \n",
        "\n",
        "$\\color{blue}{\\textit Your Answer:}$ *fill this in.*\n"
      ]
    },
    {
      "cell_type": "markdown",
      "metadata": {
        "id": "IxPJg58UdGBP"
      },
      "source": [
        "### Question 3\n",
        "\n",
        "1. Train a KNN classifier for the iris data, but this time use all 4 features instead of only 2. Report on the performance of the model and explain why it is better or worse. What differences do you observe? \n",
        "\n",
        "$\\color{blue}{\\textit Your Answer:}$ *fill this in.*"
      ]
    },
    {
      "cell_type": "code",
      "metadata": {
        "id": "dRrSoYTxGf9E"
      },
      "source": [
        ""
      ],
      "execution_count": null,
      "outputs": []
    }
  ]
}