{
  "nbformat": 4,
  "nbformat_minor": 0,
  "metadata": {
    "kernelspec": {
      "display_name": "Python 3",
      "language": "python",
      "name": "python3"
    },
    "language_info": {
      "codemirror_mode": {
        "name": "ipython",
        "version": 3
      },
      "file_extension": ".py",
      "mimetype": "text/x-python",
      "name": "python",
      "nbconvert_exporter": "python",
      "pygments_lexer": "ipython3",
      "version": "3.7.4"
    },
    "colab": {
      "name": "H1-Question-2-KNN.ipynb",
      "provenance": [],
      "toc_visible": true,
      "collapsed_sections": [],
      "include_colab_link": true
    }
  },
  "cells": [
    {
      "cell_type": "markdown",
      "metadata": {
        "id": "view-in-github",
        "colab_type": "text"
      },
      "source": [
        "<a href=\"https://colab.research.google.com/github/cherryng/MLcourse/blob/main/H1_Question_2_KNN.ipynb\" target=\"_parent\"><img src=\"https://colab.research.google.com/assets/colab-badge.svg\" alt=\"Open In Colab\"/></a>"
      ]
    },
    {
      "cell_type": "markdown",
      "metadata": {
        "id": "qghfFzfIOaNm"
      },
      "source": [
        "# Question 2:\n",
        "In this part of the assignment you will practice putting together a simple machine learning pipeline and to implement the K-nearest neighbor algorithm. You will familiairze yourselves with different python libraries (scikit-learn, matplotlib, pandas) that are helpful tools for machine learning."
      ]
    },
    {
      "cell_type": "markdown",
      "metadata": {
        "id": "khqCyUn_OaNn"
      },
      "source": [
        "## 1. Preparing the data\n",
        "\n",
        "In this assignment we will use the Iris Flower Species Dataset. This dataset consists of 3 different types of irise species (Setosa, Versicolour, and Virginica) where we have the following measures for each flower sample: the petal length, the sepal length, the petal width, the sepal width.\n",
        "\n",
        "Below is an example.\n",
        "\n",
        "\n"
      ]
    },
    {
      "cell_type": "markdown",
      "metadata": {
        "id": "Gg8psoYLytNh"
      },
      "source": [
        "![Drag Racing](https://www.integratedots.com/wp-content/uploads/2019/06/iris_petal-sepal-e1560211020463.png)"
      ]
    },
    {
      "cell_type": "markdown",
      "metadata": {
        "id": "-Mb_MGnXzUxr"
      },
      "source": [
        "This data is stored in a 150x4 numpy array, where 150 is the number of sample flowers and 4 is the measured features for each.  Go through the following steps to download the data."
      ]
    },
    {
      "cell_type": "code",
      "metadata": {
        "id": "CpxSlYFJzk9e",
        "outputId": "c6f5c5a8-ccce-466d-d0f9-5448201bdb93",
        "colab": {
          "base_uri": "https://localhost:8080/",
          "height": 419
        }
      },
      "source": [
        "from sklearn import datasets\n",
        "import pandas as pd\n",
        "\n",
        "iris = datasets.load_iris()\n",
        "\n",
        "# We use pandas dataframe to see the table\n",
        "df = pd.DataFrame(iris.data, columns=iris.feature_names)\n",
        "df"
      ],
      "execution_count": 1,
      "outputs": [
        {
          "output_type": "execute_result",
          "data": {
            "text/plain": [
              "     sepal length (cm)  sepal width (cm)  petal length (cm)  petal width (cm)\n",
              "0                  5.1               3.5                1.4               0.2\n",
              "1                  4.9               3.0                1.4               0.2\n",
              "2                  4.7               3.2                1.3               0.2\n",
              "3                  4.6               3.1                1.5               0.2\n",
              "4                  5.0               3.6                1.4               0.2\n",
              "..                 ...               ...                ...               ...\n",
              "145                6.7               3.0                5.2               2.3\n",
              "146                6.3               2.5                5.0               1.9\n",
              "147                6.5               3.0                5.2               2.0\n",
              "148                6.2               3.4                5.4               2.3\n",
              "149                5.9               3.0                5.1               1.8\n",
              "\n",
              "[150 rows x 4 columns]"
            ],
            "text/html": [
              "\n",
              "  <div id=\"df-f7098e98-b408-4609-aa0b-b129897dcb4d\">\n",
              "    <div class=\"colab-df-container\">\n",
              "      <div>\n",
              "<style scoped>\n",
              "    .dataframe tbody tr th:only-of-type {\n",
              "        vertical-align: middle;\n",
              "    }\n",
              "\n",
              "    .dataframe tbody tr th {\n",
              "        vertical-align: top;\n",
              "    }\n",
              "\n",
              "    .dataframe thead th {\n",
              "        text-align: right;\n",
              "    }\n",
              "</style>\n",
              "<table border=\"1\" class=\"dataframe\">\n",
              "  <thead>\n",
              "    <tr style=\"text-align: right;\">\n",
              "      <th></th>\n",
              "      <th>sepal length (cm)</th>\n",
              "      <th>sepal width (cm)</th>\n",
              "      <th>petal length (cm)</th>\n",
              "      <th>petal width (cm)</th>\n",
              "    </tr>\n",
              "  </thead>\n",
              "  <tbody>\n",
              "    <tr>\n",
              "      <th>0</th>\n",
              "      <td>5.1</td>\n",
              "      <td>3.5</td>\n",
              "      <td>1.4</td>\n",
              "      <td>0.2</td>\n",
              "    </tr>\n",
              "    <tr>\n",
              "      <th>1</th>\n",
              "      <td>4.9</td>\n",
              "      <td>3.0</td>\n",
              "      <td>1.4</td>\n",
              "      <td>0.2</td>\n",
              "    </tr>\n",
              "    <tr>\n",
              "      <th>2</th>\n",
              "      <td>4.7</td>\n",
              "      <td>3.2</td>\n",
              "      <td>1.3</td>\n",
              "      <td>0.2</td>\n",
              "    </tr>\n",
              "    <tr>\n",
              "      <th>3</th>\n",
              "      <td>4.6</td>\n",
              "      <td>3.1</td>\n",
              "      <td>1.5</td>\n",
              "      <td>0.2</td>\n",
              "    </tr>\n",
              "    <tr>\n",
              "      <th>4</th>\n",
              "      <td>5.0</td>\n",
              "      <td>3.6</td>\n",
              "      <td>1.4</td>\n",
              "      <td>0.2</td>\n",
              "    </tr>\n",
              "    <tr>\n",
              "      <th>...</th>\n",
              "      <td>...</td>\n",
              "      <td>...</td>\n",
              "      <td>...</td>\n",
              "      <td>...</td>\n",
              "    </tr>\n",
              "    <tr>\n",
              "      <th>145</th>\n",
              "      <td>6.7</td>\n",
              "      <td>3.0</td>\n",
              "      <td>5.2</td>\n",
              "      <td>2.3</td>\n",
              "    </tr>\n",
              "    <tr>\n",
              "      <th>146</th>\n",
              "      <td>6.3</td>\n",
              "      <td>2.5</td>\n",
              "      <td>5.0</td>\n",
              "      <td>1.9</td>\n",
              "    </tr>\n",
              "    <tr>\n",
              "      <th>147</th>\n",
              "      <td>6.5</td>\n",
              "      <td>3.0</td>\n",
              "      <td>5.2</td>\n",
              "      <td>2.0</td>\n",
              "    </tr>\n",
              "    <tr>\n",
              "      <th>148</th>\n",
              "      <td>6.2</td>\n",
              "      <td>3.4</td>\n",
              "      <td>5.4</td>\n",
              "      <td>2.3</td>\n",
              "    </tr>\n",
              "    <tr>\n",
              "      <th>149</th>\n",
              "      <td>5.9</td>\n",
              "      <td>3.0</td>\n",
              "      <td>5.1</td>\n",
              "      <td>1.8</td>\n",
              "    </tr>\n",
              "  </tbody>\n",
              "</table>\n",
              "<p>150 rows × 4 columns</p>\n",
              "</div>\n",
              "      <button class=\"colab-df-convert\" onclick=\"convertToInteractive('df-f7098e98-b408-4609-aa0b-b129897dcb4d')\"\n",
              "              title=\"Convert this dataframe to an interactive table.\"\n",
              "              style=\"display:none;\">\n",
              "        \n",
              "  <svg xmlns=\"http://www.w3.org/2000/svg\" height=\"24px\"viewBox=\"0 0 24 24\"\n",
              "       width=\"24px\">\n",
              "    <path d=\"M0 0h24v24H0V0z\" fill=\"none\"/>\n",
              "    <path d=\"M18.56 5.44l.94 2.06.94-2.06 2.06-.94-2.06-.94-.94-2.06-.94 2.06-2.06.94zm-11 1L8.5 8.5l.94-2.06 2.06-.94-2.06-.94L8.5 2.5l-.94 2.06-2.06.94zm10 10l.94 2.06.94-2.06 2.06-.94-2.06-.94-.94-2.06-.94 2.06-2.06.94z\"/><path d=\"M17.41 7.96l-1.37-1.37c-.4-.4-.92-.59-1.43-.59-.52 0-1.04.2-1.43.59L10.3 9.45l-7.72 7.72c-.78.78-.78 2.05 0 2.83L4 21.41c.39.39.9.59 1.41.59.51 0 1.02-.2 1.41-.59l7.78-7.78 2.81-2.81c.8-.78.8-2.07 0-2.86zM5.41 20L4 18.59l7.72-7.72 1.47 1.35L5.41 20z\"/>\n",
              "  </svg>\n",
              "      </button>\n",
              "      \n",
              "  <style>\n",
              "    .colab-df-container {\n",
              "      display:flex;\n",
              "      flex-wrap:wrap;\n",
              "      gap: 12px;\n",
              "    }\n",
              "\n",
              "    .colab-df-convert {\n",
              "      background-color: #E8F0FE;\n",
              "      border: none;\n",
              "      border-radius: 50%;\n",
              "      cursor: pointer;\n",
              "      display: none;\n",
              "      fill: #1967D2;\n",
              "      height: 32px;\n",
              "      padding: 0 0 0 0;\n",
              "      width: 32px;\n",
              "    }\n",
              "\n",
              "    .colab-df-convert:hover {\n",
              "      background-color: #E2EBFA;\n",
              "      box-shadow: 0px 1px 2px rgba(60, 64, 67, 0.3), 0px 1px 3px 1px rgba(60, 64, 67, 0.15);\n",
              "      fill: #174EA6;\n",
              "    }\n",
              "\n",
              "    [theme=dark] .colab-df-convert {\n",
              "      background-color: #3B4455;\n",
              "      fill: #D2E3FC;\n",
              "    }\n",
              "\n",
              "    [theme=dark] .colab-df-convert:hover {\n",
              "      background-color: #434B5C;\n",
              "      box-shadow: 0px 1px 3px 1px rgba(0, 0, 0, 0.15);\n",
              "      filter: drop-shadow(0px 1px 2px rgba(0, 0, 0, 0.3));\n",
              "      fill: #FFFFFF;\n",
              "    }\n",
              "  </style>\n",
              "\n",
              "      <script>\n",
              "        const buttonEl =\n",
              "          document.querySelector('#df-f7098e98-b408-4609-aa0b-b129897dcb4d button.colab-df-convert');\n",
              "        buttonEl.style.display =\n",
              "          google.colab.kernel.accessAllowed ? 'block' : 'none';\n",
              "\n",
              "        async function convertToInteractive(key) {\n",
              "          const element = document.querySelector('#df-f7098e98-b408-4609-aa0b-b129897dcb4d');\n",
              "          const dataTable =\n",
              "            await google.colab.kernel.invokeFunction('convertToInteractive',\n",
              "                                                     [key], {});\n",
              "          if (!dataTable) return;\n",
              "\n",
              "          const docLinkHtml = 'Like what you see? Visit the ' +\n",
              "            '<a target=\"_blank\" href=https://colab.research.google.com/notebooks/data_table.ipynb>data table notebook</a>'\n",
              "            + ' to learn more about interactive tables.';\n",
              "          element.innerHTML = '';\n",
              "          dataTable['output_type'] = 'display_data';\n",
              "          await google.colab.output.renderOutput(dataTable, element);\n",
              "          const docLink = document.createElement('div');\n",
              "          docLink.innerHTML = docLinkHtml;\n",
              "          element.appendChild(docLink);\n",
              "        }\n",
              "      </script>\n",
              "    </div>\n",
              "  </div>\n",
              "  "
            ]
          },
          "metadata": {},
          "execution_count": 1
        }
      ]
    },
    {
      "cell_type": "code",
      "metadata": {
        "id": "T0uMkFGJAUMF",
        "outputId": "fff1c72a-4fab-4b84-e8ba-f6dcaee3425b",
        "colab": {
          "base_uri": "https://localhost:8080/"
        }
      },
      "source": [
        "# Setosa, Versicolour, and Virginica\n",
        "iris.target"
      ],
      "execution_count": 2,
      "outputs": [
        {
          "output_type": "execute_result",
          "data": {
            "text/plain": [
              "array([0, 0, 0, 0, 0, 0, 0, 0, 0, 0, 0, 0, 0, 0, 0, 0, 0, 0, 0, 0, 0, 0,\n",
              "       0, 0, 0, 0, 0, 0, 0, 0, 0, 0, 0, 0, 0, 0, 0, 0, 0, 0, 0, 0, 0, 0,\n",
              "       0, 0, 0, 0, 0, 0, 1, 1, 1, 1, 1, 1, 1, 1, 1, 1, 1, 1, 1, 1, 1, 1,\n",
              "       1, 1, 1, 1, 1, 1, 1, 1, 1, 1, 1, 1, 1, 1, 1, 1, 1, 1, 1, 1, 1, 1,\n",
              "       1, 1, 1, 1, 1, 1, 1, 1, 1, 1, 1, 1, 2, 2, 2, 2, 2, 2, 2, 2, 2, 2,\n",
              "       2, 2, 2, 2, 2, 2, 2, 2, 2, 2, 2, 2, 2, 2, 2, 2, 2, 2, 2, 2, 2, 2,\n",
              "       2, 2, 2, 2, 2, 2, 2, 2, 2, 2, 2, 2, 2, 2, 2, 2, 2, 2])"
            ]
          },
          "metadata": {},
          "execution_count": 2
        }
      ]
    },
    {
      "cell_type": "markdown",
      "metadata": {
        "id": "GsrXTiOA0Pg9"
      },
      "source": [
        "We use pandas dataframe to see the statistics of this data."
      ]
    },
    {
      "cell_type": "code",
      "metadata": {
        "id": "Dm5nDQNi0N5b",
        "outputId": "a3cfe68c-caa2-49d8-e4a9-dab3f59fcd4f",
        "colab": {
          "base_uri": "https://localhost:8080/",
          "height": 297
        }
      },
      "source": [
        "df.describe()"
      ],
      "execution_count": 3,
      "outputs": [
        {
          "output_type": "execute_result",
          "data": {
            "text/plain": [
              "       sepal length (cm)  sepal width (cm)  petal length (cm)  \\\n",
              "count         150.000000        150.000000         150.000000   \n",
              "mean            5.843333          3.057333           3.758000   \n",
              "std             0.828066          0.435866           1.765298   \n",
              "min             4.300000          2.000000           1.000000   \n",
              "25%             5.100000          2.800000           1.600000   \n",
              "50%             5.800000          3.000000           4.350000   \n",
              "75%             6.400000          3.300000           5.100000   \n",
              "max             7.900000          4.400000           6.900000   \n",
              "\n",
              "       petal width (cm)  \n",
              "count        150.000000  \n",
              "mean           1.199333  \n",
              "std            0.762238  \n",
              "min            0.100000  \n",
              "25%            0.300000  \n",
              "50%            1.300000  \n",
              "75%            1.800000  \n",
              "max            2.500000  "
            ],
            "text/html": [
              "\n",
              "  <div id=\"df-b4879393-9a23-41c9-941d-732999f172cd\">\n",
              "    <div class=\"colab-df-container\">\n",
              "      <div>\n",
              "<style scoped>\n",
              "    .dataframe tbody tr th:only-of-type {\n",
              "        vertical-align: middle;\n",
              "    }\n",
              "\n",
              "    .dataframe tbody tr th {\n",
              "        vertical-align: top;\n",
              "    }\n",
              "\n",
              "    .dataframe thead th {\n",
              "        text-align: right;\n",
              "    }\n",
              "</style>\n",
              "<table border=\"1\" class=\"dataframe\">\n",
              "  <thead>\n",
              "    <tr style=\"text-align: right;\">\n",
              "      <th></th>\n",
              "      <th>sepal length (cm)</th>\n",
              "      <th>sepal width (cm)</th>\n",
              "      <th>petal length (cm)</th>\n",
              "      <th>petal width (cm)</th>\n",
              "    </tr>\n",
              "  </thead>\n",
              "  <tbody>\n",
              "    <tr>\n",
              "      <th>count</th>\n",
              "      <td>150.000000</td>\n",
              "      <td>150.000000</td>\n",
              "      <td>150.000000</td>\n",
              "      <td>150.000000</td>\n",
              "    </tr>\n",
              "    <tr>\n",
              "      <th>mean</th>\n",
              "      <td>5.843333</td>\n",
              "      <td>3.057333</td>\n",
              "      <td>3.758000</td>\n",
              "      <td>1.199333</td>\n",
              "    </tr>\n",
              "    <tr>\n",
              "      <th>std</th>\n",
              "      <td>0.828066</td>\n",
              "      <td>0.435866</td>\n",
              "      <td>1.765298</td>\n",
              "      <td>0.762238</td>\n",
              "    </tr>\n",
              "    <tr>\n",
              "      <th>min</th>\n",
              "      <td>4.300000</td>\n",
              "      <td>2.000000</td>\n",
              "      <td>1.000000</td>\n",
              "      <td>0.100000</td>\n",
              "    </tr>\n",
              "    <tr>\n",
              "      <th>25%</th>\n",
              "      <td>5.100000</td>\n",
              "      <td>2.800000</td>\n",
              "      <td>1.600000</td>\n",
              "      <td>0.300000</td>\n",
              "    </tr>\n",
              "    <tr>\n",
              "      <th>50%</th>\n",
              "      <td>5.800000</td>\n",
              "      <td>3.000000</td>\n",
              "      <td>4.350000</td>\n",
              "      <td>1.300000</td>\n",
              "    </tr>\n",
              "    <tr>\n",
              "      <th>75%</th>\n",
              "      <td>6.400000</td>\n",
              "      <td>3.300000</td>\n",
              "      <td>5.100000</td>\n",
              "      <td>1.800000</td>\n",
              "    </tr>\n",
              "    <tr>\n",
              "      <th>max</th>\n",
              "      <td>7.900000</td>\n",
              "      <td>4.400000</td>\n",
              "      <td>6.900000</td>\n",
              "      <td>2.500000</td>\n",
              "    </tr>\n",
              "  </tbody>\n",
              "</table>\n",
              "</div>\n",
              "      <button class=\"colab-df-convert\" onclick=\"convertToInteractive('df-b4879393-9a23-41c9-941d-732999f172cd')\"\n",
              "              title=\"Convert this dataframe to an interactive table.\"\n",
              "              style=\"display:none;\">\n",
              "        \n",
              "  <svg xmlns=\"http://www.w3.org/2000/svg\" height=\"24px\"viewBox=\"0 0 24 24\"\n",
              "       width=\"24px\">\n",
              "    <path d=\"M0 0h24v24H0V0z\" fill=\"none\"/>\n",
              "    <path d=\"M18.56 5.44l.94 2.06.94-2.06 2.06-.94-2.06-.94-.94-2.06-.94 2.06-2.06.94zm-11 1L8.5 8.5l.94-2.06 2.06-.94-2.06-.94L8.5 2.5l-.94 2.06-2.06.94zm10 10l.94 2.06.94-2.06 2.06-.94-2.06-.94-.94-2.06-.94 2.06-2.06.94z\"/><path d=\"M17.41 7.96l-1.37-1.37c-.4-.4-.92-.59-1.43-.59-.52 0-1.04.2-1.43.59L10.3 9.45l-7.72 7.72c-.78.78-.78 2.05 0 2.83L4 21.41c.39.39.9.59 1.41.59.51 0 1.02-.2 1.41-.59l7.78-7.78 2.81-2.81c.8-.78.8-2.07 0-2.86zM5.41 20L4 18.59l7.72-7.72 1.47 1.35L5.41 20z\"/>\n",
              "  </svg>\n",
              "      </button>\n",
              "      \n",
              "  <style>\n",
              "    .colab-df-container {\n",
              "      display:flex;\n",
              "      flex-wrap:wrap;\n",
              "      gap: 12px;\n",
              "    }\n",
              "\n",
              "    .colab-df-convert {\n",
              "      background-color: #E8F0FE;\n",
              "      border: none;\n",
              "      border-radius: 50%;\n",
              "      cursor: pointer;\n",
              "      display: none;\n",
              "      fill: #1967D2;\n",
              "      height: 32px;\n",
              "      padding: 0 0 0 0;\n",
              "      width: 32px;\n",
              "    }\n",
              "\n",
              "    .colab-df-convert:hover {\n",
              "      background-color: #E2EBFA;\n",
              "      box-shadow: 0px 1px 2px rgba(60, 64, 67, 0.3), 0px 1px 3px 1px rgba(60, 64, 67, 0.15);\n",
              "      fill: #174EA6;\n",
              "    }\n",
              "\n",
              "    [theme=dark] .colab-df-convert {\n",
              "      background-color: #3B4455;\n",
              "      fill: #D2E3FC;\n",
              "    }\n",
              "\n",
              "    [theme=dark] .colab-df-convert:hover {\n",
              "      background-color: #434B5C;\n",
              "      box-shadow: 0px 1px 3px 1px rgba(0, 0, 0, 0.15);\n",
              "      filter: drop-shadow(0px 1px 2px rgba(0, 0, 0, 0.3));\n",
              "      fill: #FFFFFF;\n",
              "    }\n",
              "  </style>\n",
              "\n",
              "      <script>\n",
              "        const buttonEl =\n",
              "          document.querySelector('#df-b4879393-9a23-41c9-941d-732999f172cd button.colab-df-convert');\n",
              "        buttonEl.style.display =\n",
              "          google.colab.kernel.accessAllowed ? 'block' : 'none';\n",
              "\n",
              "        async function convertToInteractive(key) {\n",
              "          const element = document.querySelector('#df-b4879393-9a23-41c9-941d-732999f172cd');\n",
              "          const dataTable =\n",
              "            await google.colab.kernel.invokeFunction('convertToInteractive',\n",
              "                                                     [key], {});\n",
              "          if (!dataTable) return;\n",
              "\n",
              "          const docLinkHtml = 'Like what you see? Visit the ' +\n",
              "            '<a target=\"_blank\" href=https://colab.research.google.com/notebooks/data_table.ipynb>data table notebook</a>'\n",
              "            + ' to learn more about interactive tables.';\n",
              "          element.innerHTML = '';\n",
              "          dataTable['output_type'] = 'display_data';\n",
              "          await google.colab.output.renderOutput(dataTable, element);\n",
              "          const docLink = document.createElement('div');\n",
              "          docLink.innerHTML = docLinkHtml;\n",
              "          element.appendChild(docLink);\n",
              "        }\n",
              "      </script>\n",
              "    </div>\n",
              "  </div>\n",
              "  "
            ]
          },
          "metadata": {},
          "execution_count": 3
        }
      ]
    },
    {
      "cell_type": "markdown",
      "metadata": {
        "id": "U7ZqoZd5ziX-"
      },
      "source": [
        "In this assignment we only use the first two features (sepal length and width) for easier visualization. We also split the dataset into 2 cohorts for training and testing."
      ]
    },
    {
      "cell_type": "code",
      "metadata": {
        "id": "lmeeqnuZOaNo",
        "outputId": "2a0c2e9b-2deb-45ea-8126-55bcd9351e80",
        "colab": {
          "base_uri": "https://localhost:8080/"
        }
      },
      "source": [
        "from sklearn.model_selection import train_test_split\n",
        "\n",
        "X = iris.data[:, :2] # The data matrix \n",
        "y = iris.target # The class labels\n",
        "\n",
        "# We take 20% as test set\n",
        "X_train, X_test, y_train, y_test = train_test_split(X, y, test_size=0.2, random_state=42)\n",
        "X_train.shape, X_test.shape"
      ],
      "execution_count": 4,
      "outputs": [
        {
          "output_type": "execute_result",
          "data": {
            "text/plain": [
              "((120, 2), (30, 2))"
            ]
          },
          "metadata": {},
          "execution_count": 4
        }
      ]
    },
    {
      "cell_type": "markdown",
      "metadata": {
        "id": "_IEFcgJeOaNt"
      },
      "source": [
        "Now let's visualize this data to get some sense of the samples. "
      ]
    },
    {
      "cell_type": "code",
      "metadata": {
        "id": "MoqwjDkjOaNt",
        "outputId": "903a5f16-aded-47cc-8abf-f1ec21c5172d",
        "colab": {
          "base_uri": "https://localhost:8080/",
          "height": 407
        }
      },
      "source": [
        "import matplotlib.pyplot as plt\n",
        "\n",
        "f, axs = plt.subplots(figsize=(8,6))\n",
        "the_scatter = axs.scatter(X[:, 0], X[:, 1], c=y,\n",
        "            cmap=plt.cm.Set1, edgecolor='k')\n",
        "\n",
        "# Change the legend name of the class to be Iris species like Setosa, Versicolour etc...\n",
        "lines, legend_names = the_scatter.legend_elements()\n",
        "legend1 = axs.legend(lines, ['Setosa', 'Versicolour', 'Virginica'], title=\"Classes\")\n",
        "axs.add_artist(legend1)\n",
        "\n",
        "axs.set_xlabel('Sepal length')\n",
        "axs.set_ylabel('Sepal width')\n",
        "axs.legend()\n",
        "\n",
        "plt.show()"
      ],
      "execution_count": 5,
      "outputs": [
        {
          "output_type": "stream",
          "name": "stderr",
          "text": [
            "No handles with labels found to put in legend.\n"
          ]
        },
        {
          "output_type": "display_data",
          "data": {
            "text/plain": [
              "<Figure size 576x432 with 1 Axes>"
            ],
            "image/png": "[encoded data removed]"
          },
          "metadata": {
            "needs_background": "light"
          }
        }
      ]
    },
    {
      "cell_type": "markdown",
      "metadata": {
        "id": "-K9FSFSEOaNw"
      },
      "source": [
        "## 2. Implemeting K-Nearest Neighbors\n",
        "Now we want to implement the K-nearest neighbor algorithm. \n",
        "\n",
        "Fill in the code block below for calculating the distance between two vectors."
      ]
    },
    {
      "cell_type": "code",
      "metadata": {
        "id": "6ghmx_E6OaNw"
      },
      "source": [
        "from math import sqrt\n",
        "\n",
        "# calculate the Euclidean distance between two vectors\n",
        "def euclidean_distance(x1, x2):\n",
        "    distance = sqrt((x1[0] - x2[0])**2 + (x1[1] - x2[1])**2)\n",
        "    ## TODO: fill in this part of the code to return the euclidean distance \n",
        "    ##       between x1 and x2. (hint: you can use sqrt from math library)\n",
        "    return distance\n",
        "\n",
        "# This is a helper function to print information on each sample\n",
        "def print_features(x,y):\n",
        "    print('Iris type:', ['Setosa', 'Versicolour', 'Virginica'][y-1])\n",
        "    print('Sepal Length: %.1f \\t Sepal Width: %.1f'%(x[0], x[1]))   "
      ],
      "execution_count": 21,
      "outputs": []
    },
    {
      "cell_type": "markdown",
      "metadata": {
        "id": "SbRG8WEkOaNz"
      },
      "source": [
        "Then we calculate the euclidean distance to a test example"
      ]
    },
    {
      "cell_type": "code",
      "metadata": {
        "id": "No6r55ZsOaNz",
        "outputId": "757b7710-88ad-4433-83a4-180f99734de4",
        "colab": {
          "base_uri": "https://localhost:8080/"
        }
      },
      "source": [
        "# We randomly pick a test example\n",
        "sample = X_test[2]\n",
        "print('Test Sample:')\n",
        "print_features(sample, y_test[10])\n",
        "\n",
        "# Calculate the euclidean distance to this test example\n",
        "distances = []\n",
        "for i, row in enumerate(X_train):\n",
        "    distance = euclidean_distance(sample, row)\n",
        "    distances.append((i, distance))\n",
        "distances.sort(key=lambda tup: tup[1])\n",
        "\n",
        "k = 2 # Number of nearest neighbors\n",
        "print('\\nTop %d Nearest Neighbors:' % k)\n",
        "for nn in range(k):\n",
        "    print_features(X_train[distances[nn][0]], y_train[distances[nn][0]])"
      ],
      "execution_count": 27,
      "outputs": [
        {
          "output_type": "stream",
          "name": "stdout",
          "text": [
            "Test Sample:\n",
            "Iris type: Versicolour\n",
            "Sepal Length: 7.7 \t Sepal Width: 2.6\n",
            "\n",
            "Top 2 Nearest Neighbors:\n",
            "Iris type: Versicolour\n",
            "Sepal Length: 7.7 \t Sepal Width: 2.8\n",
            "Iris type: Versicolour\n",
            "Sepal Length: 7.4 \t Sepal Width: 2.8\n"
          ]
        }
      ]
    },
    {
      "cell_type": "markdown",
      "metadata": {
        "id": "EaNEdUjnOaN2"
      },
      "source": [
        "We can calculate the distance for all the pairs of test examples. For example, if there are **Ntr** training examples and **Nte** test examples, this stage should result in a **Nte x Ntr** matrix where each element (i,j) is the distance between the i-th test and j-th train example."
      ]
    },
    {
      "cell_type": "code",
      "metadata": {
        "id": "xfxQN1vIOaN3",
        "outputId": "61b35120-a78e-42ef-e77f-a680bca518b7",
        "colab": {
          "base_uri": "https://localhost:8080/",
          "height": 326
        }
      },
      "source": [
        "import numpy as np\n",
        "\n",
        "distances = []\n",
        "for x_test in X_test:\n",
        "    distance = np.sum((x_test[np.newaxis, ...] - X_train) ** 2, axis=1)\n",
        "    distances.append(distance)\n",
        "\n",
        "distances = np.array(distances)\n",
        "plt.figure(figsize=(15, 5))\n",
        "plt.imshow(distances)\n",
        "plt.colorbar()\n",
        "plt.xlabel('Training examples id')\n",
        "plt.ylabel('Test examples id')"
      ],
      "execution_count": 24,
      "outputs": [
        {
          "output_type": "execute_result",
          "data": {
            "text/plain": [
              "Text(0, 0.5, 'Test examples id')"
            ]
          },
          "metadata": {},
          "execution_count": 24
        },
        {
          "output_type": "display_data",
          "data": {
            "text/plain": [
              "<Figure size 1080x360 with 2 Axes>"
            ],
            "image/png": "[encoded data removed]"
          },
          "metadata": {
            "needs_background": "light"
          }
        }
      ]
    },
    {
      "cell_type": "markdown",
      "metadata": {
        "id": "05kZYs6cOaN5"
      },
      "source": [
        "### Question 1\n",
        "\n",
        "Notice the structured patterns in the distance matrix, where some rows or columns are visible brighter.\n",
        "\n",
        "1.  Which training examples are probably more important for test predictions in a K nearest neighbor classifier? Why? \n",
        "2.  Which test examples are closer to most of the training examples?\n",
        "\n",
        "$\\color{blue}{\\textit Your Answer:}$ *fill this in.*\n",
        "\n",
        "1. The training examples that corresponds to bluer columns. that means they have a small distance to the test examples so they are have more similar sepal length and width, hence in principle going to provide a better prediction of what the test example is. \n",
        "\n",
        "2. the ones that have more blue in the row. \n"
      ]
    },
    {
      "cell_type": "markdown",
      "metadata": {
        "id": "722jHcoEOaN6"
      },
      "source": [
        "\n",
        "Now we will use the scikit learn library to implement a simple KNN. "
      ]
    },
    {
      "cell_type": "code",
      "metadata": {
        "id": "BxK90tcJOaN6",
        "outputId": "6253b1f4-3399-4095-a448-77f677e11a59",
        "colab": {
          "base_uri": "https://localhost:8080/"
        }
      },
      "source": [
        "from sklearn.neighbors import KNeighborsClassifier\n",
        "\n",
        "k = 2 # Number of nearest neighbors\n",
        "neigh = KNeighborsClassifier(n_neighbors=k)\n",
        "neigh.fit(X_train, y_train)"
      ],
      "execution_count": 28,
      "outputs": [
        {
          "output_type": "execute_result",
          "data": {
            "text/plain": [
              "KNeighborsClassifier(n_neighbors=2)"
            ]
          },
          "metadata": {},
          "execution_count": 28
        }
      ]
    },
    {
      "cell_type": "markdown",
      "metadata": {
        "id": "HZxTcu_hOaN9"
      },
      "source": [
        "Let's pick a sample from our test set. Now we want to find the 5 closest neighbors of this sample from the training set. Complete the code segment below to find these samples and print out their features (hint: use kneighbors method for KNeighborsClassifier https://scikit-learn.org/stable/modules/generated/sklearn.neighbors.KNeighborsClassifier.html) \n",
        "\n"
      ]
    },
    {
      "cell_type": "code",
      "metadata": {
        "id": "Y-FK_dJmJrnS",
        "outputId": "87d05ed4-58b4-4d41-e0c7-7b8f95afe6c0",
        "colab": {
          "base_uri": "https://localhost:8080/"
        }
      },
      "source": [
        "sample = X_test[10]\n",
        "print('A random sample chosen from the testset:')\n",
        "print_features(sample, y_test[10])\n",
        "\n",
        "## TODO: find the 5 closest samples from the training test to \"sample\"\n",
        "k = 5 # Number of nearest neighbors\n",
        "neigh = KNeighborsClassifier(n_neighbors=k)\n",
        "neigh.fit(X_train, y_train)\n",
        "dists, neighbor_ids = neigh.kneighbors()\n",
        "\n",
        "print('Closest 5 neighbors to this test sample:')\n",
        "for knn in range(5):\n",
        "    print('Neighbor %d ===> distance:%f'%(knn, dists[0][knn]))\n",
        "    print_features(X_train[neighbor_ids[0][knn]], y_train[neighbor_ids[0][knn]])"
      ],
      "execution_count": 29,
      "outputs": [
        {
          "output_type": "stream",
          "name": "stdout",
          "text": [
            "A random sample chosen from the testset:\n",
            "Iris type: Versicolour\n",
            "Sepal Length: 6.5 \t Sepal Width: 3.2\n",
            "Closest 5 neighbors to this test sample:\n",
            "Neighbor 0 ===> distance:0.200000\n",
            "Iris type: Virginica\n",
            "Sepal Length: 4.6 \t Sepal Width: 3.4\n",
            "Neighbor 1 ===> distance:0.282843\n",
            "Iris type: Virginica\n",
            "Sepal Length: 4.8 \t Sepal Width: 3.4\n",
            "Neighbor 2 ===> distance:0.282843\n",
            "Iris type: Virginica\n",
            "Sepal Length: 4.8 \t Sepal Width: 3.4\n",
            "Neighbor 3 ===> distance:0.300000\n",
            "Iris type: Virginica\n",
            "Sepal Length: 4.9 \t Sepal Width: 3.6\n",
            "Neighbor 4 ===> distance:0.400000\n",
            "Iris type: Virginica\n",
            "Sepal Length: 4.6 \t Sepal Width: 3.2\n"
          ]
        }
      ]
    },
    {
      "cell_type": "markdown",
      "metadata": {
        "id": "hEyBPpw1OaOA"
      },
      "source": [
        "We can visualize the decision boundary"
      ]
    },
    {
      "cell_type": "code",
      "metadata": {
        "id": "x7BAHGbHOaOB"
      },
      "source": [
        "from matplotlib.colors import ListedColormap\n",
        "from sklearn import neighbors, datasets\n",
        "\n",
        "h = .02  # step size in the mesh\n",
        "# Create color maps\n",
        "cmap_light = ListedColormap(['orange', 'cyan', 'cornflowerblue'])\n",
        "cmap_bold = ListedColormap(['darkorange', 'c', 'darkblue'])"
      ],
      "execution_count": 30,
      "outputs": []
    },
    {
      "cell_type": "code",
      "metadata": {
        "id": "9kSW2_VzOaOD",
        "colab": {
          "base_uri": "https://localhost:8080/",
          "height": 421
        },
        "outputId": "128078aa-9af6-452d-ce87-013f44307767"
      },
      "source": [
        "# Plot the decision boundary. For that, we will assign a color to each\n",
        "# point in the mesh [x_min, x_max]x[y_min, y_max].\n",
        "x_min, x_max = X_train[:, 0].min() - 1, X_train[:, 0].max() + 1\n",
        "y_min, y_max = X_train[:, 1].min() - 1, X_train[:, 1].max() + 1\n",
        "xx, yy = np.meshgrid(np.arange(x_min, x_max, h),\n",
        "                     np.arange(y_min, y_max, h))\n",
        "Z = neigh.predict(np.c_[xx.ravel(), yy.ravel()])\n",
        "\n",
        "# Put the result into a color plot\n",
        "Z = Z.reshape(xx.shape)\n",
        "fig, ax = plt.subplots(figsize=(8, 6))\n",
        "plt.pcolormesh(xx, yy, Z, cmap=cmap_light)\n",
        "\n",
        "# Plot also the training points\n",
        "the_scatter = ax.scatter(\n",
        "    X[:, 0], X[:, 1], c=y, cmap=cmap_bold, edgecolor='k', s=20)\n",
        "\n",
        "# Change the legend name of the class to be Iris species like Setosa, Versicolour etc...\n",
        "lines, legend_names = the_scatter.legend_elements()\n",
        "legend1 = ax.legend(lines, ['Setosa', 'Versicolour', 'Virginica'], \n",
        "                     title=\"Classes\")\n",
        "ax.add_artist(legend1)\n",
        "\n",
        "plt.xlim(xx.min(), xx.max())\n",
        "plt.ylim(yy.min(), yy.max())\n",
        "plt.title(\"3-Class classification (k = %i)\" % (k))\n",
        "plt.xlabel('Sepal length')\n",
        "plt.ylabel('Sepal width')"
      ],
      "execution_count": 31,
      "outputs": [
        {
          "output_type": "execute_result",
          "data": {
            "text/plain": [
              "Text(0, 0.5, 'Sepal width')"
            ]
          },
          "metadata": {},
          "execution_count": 31
        },
        {
          "output_type": "display_data",
          "data": {
            "text/plain": [
              "<Figure size 576x432 with 1 Axes>"
            ],
            "image/png": "[encoded data removed]"
          },
          "metadata": {
            "needs_background": "light"
          }
        }
      ]
    },
    {
      "cell_type": "markdown",
      "metadata": {
        "id": "WlHPJytEOaOG"
      },
      "source": [
        "Let's use the KNN to predict on the whole test set and calculate accuracy"
      ]
    },
    {
      "cell_type": "code",
      "metadata": {
        "id": "Hk7K9q7JOaOG",
        "colab": {
          "base_uri": "https://localhost:8080/"
        },
        "outputId": "ea0f3bb8-25b9-4fea-fc6c-b19a745e4b25"
      },
      "source": [
        "y_pred = neigh.predict(X_test)\n",
        "accuracy = (y_pred == y_test).mean()\n",
        "print('test accuracy: %f' % accuracy)"
      ],
      "execution_count": 32,
      "outputs": [
        {
          "output_type": "stream",
          "name": "stdout",
          "text": [
            "test accuracy: 0.800000\n"
          ]
        }
      ]
    },
    {
      "cell_type": "markdown",
      "metadata": {
        "id": "La0lTdpDOaOK"
      },
      "source": [
        "We can calculate the test accuracy with respect to different choices of K for K-nearest neighbors."
      ]
    },
    {
      "cell_type": "code",
      "metadata": {
        "id": "4NyxYakRcCE6"
      },
      "source": [
        "# Helper function for calculating accuracy\n",
        "def accuracy(y_pred, y_test):\n",
        "    accuracy = (y_pred == y_test).mean()\n",
        "    return accuracy"
      ],
      "execution_count": 33,
      "outputs": []
    },
    {
      "cell_type": "code",
      "metadata": {
        "id": "P2l3Uyt5OaOK"
      },
      "source": [
        "test_accs = []\n",
        "for k in range(1, X_train.shape[0]):\n",
        "    # Create K nearest neighbors classifier\n",
        "    neigh = KNeighborsClassifier(n_neighbors=k)\n",
        "    neigh.fit(X_train, y_train)\n",
        "    \n",
        "    # Prediction\n",
        "    y_pred = neigh.predict(X_test)\n",
        "    \n",
        "    # Calculate accuracy\n",
        "    acc = (y_pred == y_test).mean()\n",
        "    test_accs.append(acc)"
      ],
      "execution_count": 34,
      "outputs": []
    },
    {
      "cell_type": "code",
      "metadata": {
        "id": "ZgfVLdCnOaON",
        "colab": {
          "base_uri": "https://localhost:8080/",
          "height": 405
        },
        "outputId": "ffc92af1-1220-44b0-9347-431ce8c65150"
      },
      "source": [
        "plt.figure(figsize=(10, 6))\n",
        "plt.plot(list(range(1, X_train.shape[0])), test_accs)\n",
        "plt.xlabel('Number of nearest neighbors (k)')\n",
        "plt.ylabel('Test set accuracy')"
      ],
      "execution_count": 35,
      "outputs": [
        {
          "output_type": "execute_result",
          "data": {
            "text/plain": [
              "Text(0, 0.5, 'Test set accuracy')"
            ]
          },
          "metadata": {},
          "execution_count": 35
        },
        {
          "output_type": "display_data",
          "data": {
            "text/plain": [
              "<Figure size 720x432 with 1 Axes>"
            ],
            "image/png": "[encoded data removed]"
          },
          "metadata": {
            "needs_background": "light"
          }
        }
      ]
    },
    {
      "cell_type": "code",
      "metadata": {
        "id": "yMMopS-mYnd9"
      },
      "source": [
        ""
      ],
      "execution_count": null,
      "outputs": []
    },
    {
      "cell_type": "markdown",
      "metadata": {
        "id": "sSOeFBfrOaOP"
      },
      "source": [
        "### Question 2\n",
        "\n",
        "See from the graph and answer the following questions:\n",
        "\n",
        "1. Which k gives the best test set accuracy? \n",
        "2. When k becomes larger and close to size of the training set, the test set accuracy drops. Why is that? \n",
        "\n",
        "$\\color{blue}{\\textit Your Answer:}$ *fill this in.*\n",
        "\n",
        "1. According to the plot, it is around k=50. this is somehow a lot larger than the theoretical rule of thumb of sqrt(n_training) =  sqrt(120) ~ 11\n",
        "\n",
        "2. It is because we are overfitting the data. "
      ]
    },
    {
      "cell_type": "markdown",
      "metadata": {
        "id": "IxPJg58UdGBP"
      },
      "source": [
        "### Question 3\n",
        "\n",
        "1. Train a KNN classifier for the iris data, but this time use all 4 features instead of only 2. Report on the performance of the model and explain why it is better or worse. What differences do you observe? \n",
        "\n",
        "$\\color{blue}{\\textit Your Answer:}$ *fill this in.*\n",
        "\n",
        "The overall performance of the model improved. I think it is because the 2 additional features (petal length and width) are quite good classifiers for the 3 types of flower. As we can see from the figure from cell 39 below, the 3 types of flower are well separately into distinct cluster using the petal dimensions, where as earlier when we used the sepal (figure from cell 5), there are quite a bit of overlap between Versicolour and Virginica. For a wide range of k values, we now get an accuracy of essentially 1, whereas when we used only 2 features, the best accuracy was more like 0.95. I am not sure why the new performance plot has these step-like structure, though. it is as if the model performs pretty much equally well up to k=80, and then the performance drops rapidly. i was expecting the outcome to have a peak around k=11 as per the rule of thumb. "
      ]
    },
    {
      "cell_type": "code",
      "metadata": {
        "id": "dRrSoYTxGf9E",
        "colab": {
          "base_uri": "https://localhost:8080/"
        },
        "outputId": "80d73f40-46c1-45d3-b0a1-5908569d95d1"
      },
      "source": [
        "X = iris.data[:, :4] # The data matrix \n",
        "y = iris.target # The class labels\n",
        "\n",
        "# We take 20% as test set\n",
        "X_train, X_test, y_train, y_test = train_test_split(X, y, test_size=0.2, random_state=42)\n",
        "X_train.shape, X_test.shape"
      ],
      "execution_count": 37,
      "outputs": [
        {
          "output_type": "execute_result",
          "data": {
            "text/plain": [
              "((120, 4), (30, 4))"
            ]
          },
          "metadata": {},
          "execution_count": 37
        }
      ]
    },
    {
      "cell_type": "code",
      "source": [
        "#make a plot to see the 2nd and 3rd features\n",
        "f, axs = plt.subplots(figsize=(8,6))\n",
        "the_scatter = axs.scatter(X[:, 2], X[:, 3], c=y,\n",
        "            cmap=plt.cm.Set1, edgecolor='k')\n",
        "\n",
        "# Change the legend name of the class to be Iris species like Setosa, Versicolour etc...\n",
        "lines, legend_names = the_scatter.legend_elements()\n",
        "legend1 = axs.legend(lines, ['Setosa', 'Versicolour', 'Virginica'], title=\"Classes\")\n",
        "axs.add_artist(legend1)\n",
        "\n",
        "axs.set_xlabel('Petal length')\n",
        "axs.set_ylabel('Petal width')\n",
        "axs.legend()\n",
        "\n",
        "plt.show()"
      ],
      "metadata": {
        "id": "FJ7xhcir-NPG",
        "outputId": "e6b934c3-b40e-4e29-cd4e-bfa9502a22d8",
        "colab": {
          "base_uri": "https://localhost:8080/",
          "height": 405
        }
      },
      "execution_count": 39,
      "outputs": [
        {
          "output_type": "stream",
          "name": "stderr",
          "text": [
            "No handles with labels found to put in legend.\n"
          ]
        },
        {
          "output_type": "display_data",
          "data": {
            "text/plain": [
              "<Figure size 576x432 with 1 Axes>"
            ],
            "image/png": "[encoded data removed]"
          },
          "metadata": {
            "needs_background": "light"
          }
        }
      ]
    },
    {
      "cell_type": "code",
      "source": [
        "# calculate the Euclidean distance between two vectors\n",
        "def euclidean_distance(x1, x2):\n",
        "    distance = sqrt((x1[0] - x2[0])**2 + (x1[1] - x2[1])**2 + (x1[2] - x2[2])**2 + (x1[3] - x2[3])**2)\n",
        "    return distance\n",
        "\n",
        "# This is a helper function to print information on each sample\n",
        "def print_features(x,y):\n",
        "    print('Iris type:', ['Setosa', 'Versicolour', 'Virginica'][y-1])\n",
        "    print('Sepal Length: %.1f \\t Sepal Width: %.1f \\t Petal Width: %.1f \\t Petal Width: %.1f'%(x[0], x[1], x[2],x[3]))   "
      ],
      "metadata": {
        "id": "8e90DRwH-n4L"
      },
      "execution_count": 40,
      "outputs": []
    },
    {
      "cell_type": "code",
      "source": [
        "# We randomly pick a test example\n",
        "sample = X_test[10]\n",
        "print('Test Sample:')\n",
        "print_features(sample, y_test[10])\n",
        "\n",
        "# Calculate the euclidean distance to this test example\n",
        "distances = []\n",
        "for i, row in enumerate(X_train):\n",
        "    distance = euclidean_distance(sample, row)\n",
        "    distances.append((i, distance))\n",
        "distances.sort(key=lambda tup: tup[1])\n",
        "\n",
        "k = 2 # Number of nearest neighbors\n",
        "print('\\nTop %d Nearest Neighbors:' % k)\n",
        "for nn in range(k):\n",
        "    print_features(X_train[distances[nn][0]], y_train[distances[nn][0]])"
      ],
      "metadata": {
        "id": "m5s0ilmPAA0-",
        "outputId": "fa15e2b6-c6fe-42b0-97bc-66d8ff4d2981",
        "colab": {
          "base_uri": "https://localhost:8080/"
        }
      },
      "execution_count": 41,
      "outputs": [
        {
          "output_type": "stream",
          "name": "stdout",
          "text": [
            "Test Sample:\n",
            "Iris type: Versicolour\n",
            "Sepal Length: 6.5 \t Sepal Width: 3.2 \t Petal Width: 5.1 \t Petal Width: 2.0\n",
            "\n",
            "Top 2 Nearest Neighbors:\n",
            "Iris type: Versicolour\n",
            "Sepal Length: 6.5 \t Sepal Width: 3.0 \t Petal Width: 5.2 \t Petal Width: 2.0\n",
            "Iris type: Versicolour\n",
            "Sepal Length: 6.4 \t Sepal Width: 3.2 \t Petal Width: 5.3 \t Petal Width: 2.3\n"
          ]
        }
      ]
    },
    {
      "cell_type": "code",
      "source": [
        "test_accs = []\n",
        "for k in range(1, X_train.shape[0]):\n",
        "    # Create K nearest neighbors classifier\n",
        "    neigh = KNeighborsClassifier(n_neighbors=k)\n",
        "    neigh.fit(X_train, y_train)\n",
        "    \n",
        "    # Prediction\n",
        "    y_pred = neigh.predict(X_test)\n",
        "    \n",
        "    # Calculate accuracy\n",
        "    acc = (y_pred == y_test).mean()\n",
        "    test_accs.append(acc)\n",
        "\n",
        "plt.figure(figsize=(10, 6))\n",
        "plt.plot(list(range(1, X_train.shape[0])), test_accs)\n",
        "plt.xlabel('Number of nearest neighbors (k)')\n",
        "plt.ylabel('Test set accuracy')"
      ],
      "metadata": {
        "id": "NvTzIE1uAfu1",
        "outputId": "fb07f14c-7238-47f6-bcf8-63058ed3df86",
        "colab": {
          "base_uri": "https://localhost:8080/",
          "height": 405
        }
      },
      "execution_count": 43,
      "outputs": [
        {
          "output_type": "execute_result",
          "data": {
            "text/plain": [
              "Text(0, 0.5, 'Test set accuracy')"
            ]
          },
          "metadata": {},
          "execution_count": 43
        },
        {
          "output_type": "display_data",
          "data": {
            "text/plain": [
              "<Figure size 720x432 with 1 Axes>"
            ],
            "image/png": "[encoded data removed]"
          },
          "metadata": {
            "needs_background": "light"
          }
        }
      ]
    }
  ]
}